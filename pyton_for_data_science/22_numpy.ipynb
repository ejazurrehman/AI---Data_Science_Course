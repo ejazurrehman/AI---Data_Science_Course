{
 "cells": [
  {
   "cell_type": "markdown",
   "id": "cacf779b",
   "metadata": {},
   "source": [
    "# Author Info\n",
    "Name: **Ejaz-ur-Rehman**\\\n",
    "Business Unit Head | Data Analyst\\\n",
    "MBA (Accounting & Finance), MS (Finance)\\\n",
    "Crystal Tech (Project of MUZHAB Group)\\\n",
    "Karachi, Pakistan\n",
    "\n",
    "![Date](https://img.shields.io/badge/Date-25--Aug--2025-green?logo=google-calendar)\n",
    "[![Email](https://img.shields.io/badge/Email-ijazfinance%40gmail.com-blue?logo=gmail)](mailto:ijazfinance@gmail.com)\n",
    "[![LinkedIn](https://img.shields.io/badge/LinkedIn-Ejaz--ur--Rehman-blue?logo=linkedin)](https://www.linkedin.com/in/ejaz-ur-rehman/)\n",
    "[![GitHub](https://img.shields.io/badge/GitHub-ejazurrehman-black?logo=github)](https://github.com/ejazurrehman)"
   ]
  },
  {
   "cell_type": "markdown",
   "id": "9a74b12e",
   "metadata": {},
   "source": [
    "# Numpy\n",
    "\n",
    "In Python, NumPy (short for Numerical Python) is a powerful open-source library used for numerical computing. It provides support for working with large, multi-dimensional arrays and matrices, along with a collection of high-performance mathematical functions to operate on these arrays."
   ]
  },
  {
   "cell_type": "markdown",
   "id": "48df6220",
   "metadata": {},
   "source": [
    "## Key Features of NumPy:\n",
    "\n",
    "### 1. N-Dimensional Array Object (ndarray):\n",
    " - Core of NumPy is the ndarray, a fast, flexible, and efficient container for large datasets.\n",
    " - Much faster than Python’s built-in lists when performing mathematical operations.\n",
    "\n",
    "### 2. Mathematical Operations:\n",
    " - Provides built-in functions for linear algebra, statistics, Fourier analysis, random number generation, etc.\n",
    "\n",
    "### 3. Vectorization:\n",
    " - Allows operations on entire arrays without writing explicit loops (making code cleaner and faster).\n",
    "\n",
    "### 4. Integration:\n",
    " - Works well with other libraries like Pandas, Matplotlib, Scikit-learn, and more."
   ]
  },
  {
   "cell_type": "code",
   "execution_count": 2,
   "id": "0360dc82",
   "metadata": {},
   "outputs": [
    {
     "name": "stdout",
     "output_type": "stream",
     "text": [
      "Array: [1 2 3 4 5]\n",
      "Mean: 3.0\n",
      "Sum: 15\n"
     ]
    }
   ],
   "source": [
    "# import numpy as np\n",
    "import numpy as np\n",
    "\n",
    "# Create a NumPy array\n",
    "arr = np.array([1, 2, 3, 4, 5])\n",
    "\n",
    "# Perform basic operations\n",
    "print(\"Array:\", arr)\n",
    "print(\"Mean:\", np.mean(arr))\n",
    "print(\"Sum:\", np.sum(arr))"
   ]
  },
  {
   "cell_type": "markdown",
   "id": "5cb42825",
   "metadata": {},
   "source": [
    "## What is array in numpy?\n",
    "\n",
    "In NumPy, an array is a special data structure called an ndarray (N-dimensional array). It is the core object of NumPy and is used to store collections of elements (numbers, strings, or other data types) in a grid-like structure with fixed size and data type."
   ]
  },
  {
   "cell_type": "markdown",
   "id": "5f0ae95f",
   "metadata": {},
   "source": [
    "### Characteristics of a NumPy Array:\n",
    "### 1. Homogeneous:\n",
    "- All elements in a NumPy array must be of the same data type (e.g., all integers, all floats).\n",
    "### 2. N-Dimensional:\n",
    "- Arrays can be 1D (vector), 2D (matrix), or higher dimensions (tensor).\n",
    "### 3. Indexable & Slicable:\n",
    "- You can access and slice data just like Python lists, but with more powerful features.\n",
    "### 4. Efficient & Fast:\n",
    "- Stored in continuous memory blocks, making operations faster than Python lists.\n",
    "### 5. Supports Vectorized Operations:\n",
    "- You can perform element-wise arithmetic without loops."
   ]
  },
  {
   "cell_type": "markdown",
   "id": "afd2b559",
   "metadata": {},
   "source": [
    "### Example: Creating Arrays in NumPy:"
   ]
  },
  {
   "cell_type": "code",
   "execution_count": 3,
   "id": "f888ddc3",
   "metadata": {},
   "outputs": [
    {
     "name": "stdout",
     "output_type": "stream",
     "text": [
      "1D Array: [1 2 3 4 5]\n",
      "\n",
      "2D Array:\n",
      " [[1 2 3]\n",
      " [4 5 6]]\n",
      "\n",
      "3D Array:\n",
      " [[[1 2]\n",
      "  [3 4]]\n",
      "\n",
      " [[5 6]\n",
      "  [7 8]]]\n"
     ]
    }
   ],
   "source": [
    "import numpy as np\n",
    "\n",
    "# 1D Array (like a list)\n",
    "arr1 = np.array([1, 2, 3, 4, 5])\n",
    "print(\"1D Array:\", arr1)\n",
    "\n",
    "# 2D Array (matrix)\n",
    "arr2 = np.array([[1, 2, 3], [4, 5, 6]])\n",
    "print(\"\\n2D Array:\\n\", arr2)\n",
    "\n",
    "# 3D Array (tensor)\n",
    "arr3 = np.array([[[1, 2], [3, 4]], [[5, 6], [7, 8]]])\n",
    "print(\"\\n3D Array:\\n\", arr3)\n"
   ]
  },
  {
   "cell_type": "markdown",
   "id": "c9482957",
   "metadata": {},
   "source": [
    "### NOTE: \n",
    "- A NumPy array is a multi-dimensional, homogeneous data structure that is more efficient and powerful than Python lists for numerical computations."
   ]
  },
  {
   "cell_type": "markdown",
   "id": "de24420c",
   "metadata": {},
   "source": [
    "## Usage of 1D, 2D and 3D arrays in Numpy\n",
    "\n",
    "NumPy arrays can be 1D, 2D, or 3D (and higher), and each has its own use cases depending on the type of data we are working with.\n",
    "\n",
    "### 1D Array (Vector):\n",
    "- What it is: A simple list-like structure, one row of elements.\n",
    "- Use case: Useful for linear data such as sequences, signals, feature vectors in machine learning, or storing simple datasets.\n",
    "- Use case examples:\n",
    "  - Student marks list [85, 90, 78, 92]\n",
    "  - Prices of products [100, 200, 150]\n",
    "  - ML input features for one observation [height, weight, age]\n",
    "### 2D Array (Matrix):\n",
    "- What it is: Data arranged in rows and columns (like a table).\n",
    "- Use case: Used for matrices in linear algebra, images (grayscale), or datasets where you have rows = observations and columns = features.\n",
    "- Use case examples:\n",
    "  - Student marks table\n",
    "### 3D Array (Tensor):\n",
    "- What it is: Data arranged in multiple 2D matrices stacked together (like a cube).\n",
    "- Use case: Used in scientific computing, image processing (RGB images), video frames, deep learning (tensors).\n",
    "- Use case examples:\n",
    "  - RGB Images → shape (height, width, 3)\n",
    "  - Videos → shape (frames, height, width, channels)\n",
    "  - Deep Learning → input data tensors (batch_size, features, time_steps)\n",
    "### Summary:\n",
    "- 1D Array: Linear data → vectors, lists, sequences.\n",
    "- 2D Array: Tabular/matrix data → datasets, images, matrices.\n",
    "- 3D Array: Multi-layer data → images (RGB), videos, tensors for ML/DL.\n",
    "\n"
   ]
  },
  {
   "cell_type": "code",
   "execution_count": 4,
   "id": "69835ee1",
   "metadata": {},
   "outputs": [],
   "source": [
    "# creating numpy arrays\n",
    "a = np.array([1, 2, 3])\n",
    "b = np.array([[1, 2, 3], [4, 5, 6]])\n",
    "c = np.array([[[1, 2], [3, 4]], [[5, 6], [7, 8]]])"
   ]
  },
  {
   "cell_type": "code",
   "execution_count": 5,
   "id": "1bf82778",
   "metadata": {},
   "outputs": [
    {
     "name": "stdout",
     "output_type": "stream",
     "text": [
      "1D Array: [1 2 3]\n",
      "2D Array:\n",
      " [[1 2 3]\n",
      " [4 5 6]]\n",
      "3D Array:\n",
      " [[[1 2]\n",
      "  [3 4]]\n",
      "\n",
      " [[5 6]\n",
      "  [7 8]]]\n"
     ]
    }
   ],
   "source": [
    "print(\"1D Array:\", a)\n",
    "print(\"2D Array:\\n\", b)\n",
    "print(\"3D Array:\\n\", c)\n"
   ]
  },
  {
   "cell_type": "code",
   "execution_count": 7,
   "id": "bbc05f8a",
   "metadata": {},
   "outputs": [
    {
     "data": {
      "text/plain": [
       "(3,)"
      ]
     },
     "execution_count": 7,
     "metadata": {},
     "output_type": "execute_result"
    }
   ],
   "source": [
    "a.shape\n"
   ]
  },
  {
   "cell_type": "markdown",
   "id": "f4f21fec",
   "metadata": {},
   "source": [
    "### Interpretation:\n",
    "- This means the array has 1 dimension (it’s a 1D array).\n",
    "- That single dimension has 3 elements.\n",
    "- The comma ( , ) indicates it is a tuple describing dimensions.\n",
    "- So (3,) = \"One row with 3 elements\" (like a vector)."
   ]
  },
  {
   "cell_type": "code",
   "execution_count": 8,
   "id": "4466df0d",
   "metadata": {},
   "outputs": [
    {
     "data": {
      "text/plain": [
       "(2, 3)"
      ]
     },
     "execution_count": 8,
     "metadata": {},
     "output_type": "execute_result"
    }
   ],
   "source": [
    "b.shape"
   ]
  },
  {
   "cell_type": "markdown",
   "id": "90aea018",
   "metadata": {},
   "source": [
    "### Interpretation:\n",
    "- 2 → Number of rows\n",
    "- 3 → Number of columns\n",
    "- Total elements = 2 × 3 = 6"
   ]
  },
  {
   "cell_type": "code",
   "execution_count": 9,
   "id": "55370544",
   "metadata": {},
   "outputs": [
    {
     "data": {
      "text/plain": [
       "(2, 2, 2)"
      ]
     },
     "execution_count": 9,
     "metadata": {},
     "output_type": "execute_result"
    }
   ],
   "source": [
    "c.shape"
   ]
  },
  {
   "cell_type": "markdown",
   "id": "3d9d2464",
   "metadata": {},
   "source": [
    "### Interpretation:\n",
    "- 3D array\n",
    "- 2 matrices\n",
    "- Each matrix has 2 rows and 2 columns\n",
    "- Total elements = 2 × 2 × 2 = 8"
   ]
  }
 ],
 "metadata": {
  "kernelspec": {
   "display_name": "python_eda",
   "language": "python",
   "name": "python3"
  },
  "language_info": {
   "codemirror_mode": {
    "name": "ipython",
    "version": 3
   },
   "file_extension": ".py",
   "mimetype": "text/x-python",
   "name": "python",
   "nbconvert_exporter": "python",
   "pygments_lexer": "ipython3",
   "version": "3.13.5"
  }
 },
 "nbformat": 4,
 "nbformat_minor": 5
}
