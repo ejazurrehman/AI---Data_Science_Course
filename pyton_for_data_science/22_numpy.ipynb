{
 "cells": [
  {
   "cell_type": "markdown",
   "id": "cacf779b",
   "metadata": {},
   "source": [
    "# Author Info\n",
    "Name: **Ejaz-ur-Rehman**\\\n",
    "Business Unit Head | Data Analyst\\\n",
    "MBA (Accounting & Finance), MS (Finance)\\\n",
    "Crystal Tech (Project of MUZHAB Group)\\\n",
    "Karachi, Pakistan\n",
    "\n",
    "![Date](https://img.shields.io/badge/Date-25--Aug--2025-green?logo=google-calendar)\n",
    "[![Email](https://img.shields.io/badge/Email-ijazfinance%40gmail.com-blue?logo=gmail)](mailto:ijazfinance@gmail.com)\n",
    "[![LinkedIn](https://img.shields.io/badge/LinkedIn-Ejaz--ur--Rehman-blue?logo=linkedin)](https://www.linkedin.com/in/ejaz-ur-rehman/)\n",
    "[![GitHub](https://img.shields.io/badge/GitHub-ejazurrehman-black?logo=github)](https://github.com/ejazurrehman)"
   ]
  },
  {
   "cell_type": "markdown",
   "id": "9a74b12e",
   "metadata": {},
   "source": [
    "# Numpy\n",
    "-------\n",
    "In Python, NumPy (short for Numerical Python) is a powerful open-source library used for numerical computing. It provides support for working with large, multi-dimensional arrays and matrices, along with a collection of high-performance mathematical functions to operate on these arrays."
   ]
  },
  {
   "cell_type": "markdown",
   "id": "48df6220",
   "metadata": {},
   "source": [
    "## Key Features of NumPy:\n",
    "### 1. N-Dimensional Array Object (ndarray):\n",
    " - Core of NumPy is the ndarray, a fast, flexible, and efficient container for large datasets.\n",
    " - Much faster than Python’s built-in lists when performing mathematical operations.\n",
    "### 2. Mathematical Operations:\n",
    " - Provides built-in functions for linear algebra, statistics, Fourier analysis, random number generation, etc.\n",
    "### 3. Vectorization:\n",
    " - Allows operations on entire arrays without writing explicit loops (making code cleaner and faster).\n",
    "### 4. Integration:\n",
    " - Works well with other libraries like Pandas, Matplotlib, Scikit-learn, and more."
   ]
  },
  {
   "cell_type": "code",
   "execution_count": 2,
   "id": "0360dc82",
   "metadata": {},
   "outputs": [
    {
     "name": "stdout",
     "output_type": "stream",
     "text": [
      "Array: [1 2 3 4 5]\n",
      "Mean: 3.0\n",
      "Sum: 15\n"
     ]
    }
   ],
   "source": [
    "# import numpy as np\n",
    "import numpy as np\n",
    "\n",
    "# Create a NumPy array\n",
    "arr = np.array([1, 2, 3, 4, 5])\n",
    "\n",
    "# Perform basic operations\n",
    "print(\"Array:\", arr)\n",
    "print(\"Mean:\", np.mean(arr))\n",
    "print(\"Sum:\", np.sum(arr))"
   ]
  },
  {
   "cell_type": "markdown",
   "id": "5cb42825",
   "metadata": {},
   "source": [
    "## What is array in numpy?\n",
    "------------------------------------------------------------------------------------------------------------------------------------------\n",
    "In NumPy, an array is a special data structure called an ndarray (N-dimensional array). It is the core object of NumPy and is used to store collections of elements (numbers, strings, or other data types) in a grid-like structure with fixed size and data type."
   ]
  },
  {
   "cell_type": "markdown",
   "id": "5f0ae95f",
   "metadata": {},
   "source": [
    "### Characteristics of a NumPy Array:\n",
    "### 1. Homogeneous:\n",
    "- All elements in a NumPy array must be of the same data type (e.g., all integers, all floats).\n",
    "### 2. N-Dimensional:\n",
    "- Arrays can be 1D (vector), 2D (matrix), or higher dimensions (tensor).\n",
    "### 3. Indexable & Slicable:\n",
    "- You can access and slice data just like Python lists, but with more powerful features.\n",
    "### 4. Efficient & Fast:\n",
    "- Stored in continuous memory blocks, making operations faster than Python lists.\n",
    "### 5. Supports Vectorized Operations:\n",
    "- You can perform element-wise arithmetic without loops."
   ]
  },
  {
   "cell_type": "markdown",
   "id": "afd2b559",
   "metadata": {},
   "source": [
    "### Example: Creating Arrays in NumPy:"
   ]
  },
  {
   "cell_type": "code",
   "execution_count": 3,
   "id": "f888ddc3",
   "metadata": {},
   "outputs": [
    {
     "name": "stdout",
     "output_type": "stream",
     "text": [
      "1D Array: [1 2 3 4 5]\n",
      "\n",
      "2D Array:\n",
      " [[1 2 3]\n",
      " [4 5 6]]\n",
      "\n",
      "3D Array:\n",
      " [[[1 2]\n",
      "  [3 4]]\n",
      "\n",
      " [[5 6]\n",
      "  [7 8]]]\n"
     ]
    }
   ],
   "source": [
    "import numpy as np\n",
    "\n",
    "# 1D Array (like a list)\n",
    "arr1 = np.array([1, 2, 3, 4, 5])\n",
    "print(\"1D Array:\", arr1)\n",
    "\n",
    "# 2D Array (matrix)\n",
    "arr2 = np.array([[1, 2, 3], [4, 5, 6]])\n",
    "print(\"\\n2D Array:\\n\", arr2)\n",
    "\n",
    "# 3D Array (tensor)\n",
    "arr3 = np.array([[[1, 2], [3, 4]], [[5, 6], [7, 8]]])\n",
    "print(\"\\n3D Array:\\n\", arr3)\n"
   ]
  },
  {
   "cell_type": "markdown",
   "id": "c9482957",
   "metadata": {},
   "source": [
    "### NOTE: \n",
    "- A NumPy array is a multi-dimensional, homogeneous data structure that is more efficient and powerful than Python lists for numerical computations."
   ]
  },
  {
   "cell_type": "markdown",
   "id": "de24420c",
   "metadata": {},
   "source": [
    "## Usage of 1D, 2D and 3D arrays in Numpy\n",
    "-----------------------------------------------------------------------------------------------------------------------------------------------\n",
    "NumPy arrays can be 1D, 2D, or 3D (and higher), and each has its own use cases depending on the type of data we are working with.\n",
    "### 1D Array (Vector):\n",
    "- What it is: A simple list-like structure, one row of elements.\n",
    "- Use case: Useful for linear data such as sequences, signals, feature vectors in machine learning, or storing simple datasets.\n",
    "- Use case examples:\n",
    "  - Student marks list [85, 90, 78, 92]\n",
    "  - Prices of products [100, 200, 150]\n",
    "  - ML input features for one observation [height, weight, age]\n",
    "### 2D Array (Matrix):\n",
    "- What it is: Data arranged in rows and columns (like a table).\n",
    "- Use case: Used for matrices in linear algebra, images (grayscale), or datasets where you have rows = observations and columns = features.\n",
    "- Use case examples:\n",
    "  - Student marks table\n",
    "### 3D Array (Tensor):\n",
    "- What it is: Data arranged in multiple 2D matrices stacked together (like a cube).\n",
    "- Use case: Used in scientific computing, image processing (RGB images), video frames, deep learning (tensors).\n",
    "- Use case examples:\n",
    "  - RGB Images → shape (height, width, 3)\n",
    "  - Videos → shape (frames, height, width, channels)\n",
    "  - Deep Learning → input data tensors (batch_size, features, time_steps)\n",
    "### Summary:\n",
    "- 1D Array: Linear data → vectors, lists, sequences.\n",
    "- 2D Array: Tabular/matrix data → datasets, images, matrices.\n",
    "- 3D Array: Multi-layer data → images (RGB), videos, tensors for ML/DL.\n",
    "\n"
   ]
  },
  {
   "cell_type": "code",
   "execution_count": 4,
   "id": "69835ee1",
   "metadata": {},
   "outputs": [],
   "source": [
    "# creating numpy arrays\n",
    "a = np.array([1, 2, 3])\n",
    "b = np.array([[1, 2, 3], [4, 5, 6]])\n",
    "c = np.array([[[1, 2], [3, 4]], [[5, 6], [7, 8]]])"
   ]
  },
  {
   "cell_type": "code",
   "execution_count": 5,
   "id": "1bf82778",
   "metadata": {},
   "outputs": [
    {
     "name": "stdout",
     "output_type": "stream",
     "text": [
      "1D Array: [1 2 3]\n",
      "2D Array:\n",
      " [[1 2 3]\n",
      " [4 5 6]]\n",
      "3D Array:\n",
      " [[[1 2]\n",
      "  [3 4]]\n",
      "\n",
      " [[5 6]\n",
      "  [7 8]]]\n"
     ]
    }
   ],
   "source": [
    "print(\"1D Array:\", a)\n",
    "print(\"2D Array:\\n\", b)\n",
    "print(\"3D Array:\\n\", c)\n"
   ]
  },
  {
   "cell_type": "code",
   "execution_count": 7,
   "id": "bbc05f8a",
   "metadata": {},
   "outputs": [
    {
     "data": {
      "text/plain": [
       "(3,)"
      ]
     },
     "execution_count": 7,
     "metadata": {},
     "output_type": "execute_result"
    }
   ],
   "source": [
    "a.shape\n"
   ]
  },
  {
   "cell_type": "markdown",
   "id": "f4f21fec",
   "metadata": {},
   "source": [
    "### Interpretation:\n",
    "- This means the array has 1 dimension (it’s a 1D array).\n",
    "- That single dimension has 3 elements.\n",
    "- The comma ( , ) indicates it is a tuple describing dimensions.\n",
    "- So (3,) = \"One row with 3 elements\" (like a vector)."
   ]
  },
  {
   "cell_type": "code",
   "execution_count": 8,
   "id": "4466df0d",
   "metadata": {},
   "outputs": [
    {
     "data": {
      "text/plain": [
       "(2, 3)"
      ]
     },
     "execution_count": 8,
     "metadata": {},
     "output_type": "execute_result"
    }
   ],
   "source": [
    "b.shape"
   ]
  },
  {
   "cell_type": "markdown",
   "id": "90aea018",
   "metadata": {},
   "source": [
    "### Interpretation:\n",
    "- 2 → Number of rows\n",
    "- 3 → Number of columns\n",
    "- Total elements = 2 × 3 = 6"
   ]
  },
  {
   "cell_type": "code",
   "execution_count": 9,
   "id": "55370544",
   "metadata": {},
   "outputs": [
    {
     "data": {
      "text/plain": [
       "(2, 2, 2)"
      ]
     },
     "execution_count": 9,
     "metadata": {},
     "output_type": "execute_result"
    }
   ],
   "source": [
    "c.shape"
   ]
  },
  {
   "cell_type": "markdown",
   "id": "3d9d2464",
   "metadata": {},
   "source": [
    "### Interpretation:\n",
    "- 3D array\n",
    "- 2 matrices\n",
    "- Each matrix has 2 rows and 2 columns\n",
    "- Total elements = 2 × 2 × 2 = 8"
   ]
  },
  {
   "cell_type": "code",
   "execution_count": 10,
   "id": "3d23999e",
   "metadata": {},
   "outputs": [
    {
     "name": "stdout",
     "output_type": "stream",
     "text": [
      "Zero Array:\n",
      " [[0. 0. 0. 0.]\n",
      " [0. 0. 0. 0.]\n",
      " [0. 0. 0. 0.]]\n",
      "\n",
      "One Array:\n",
      " [[1. 1. 1.]\n",
      " [1. 1. 1.]]\n",
      "\n",
      "Full Array:\n",
      " [[7 7]\n",
      " [7 7]]\n"
     ]
    }
   ],
   "source": [
    "# initializing arrays\n",
    "zero_array = np.zeros((3, 4))\n",
    "print(\"Zero Array:\\n\", zero_array)\n",
    "\n",
    "one_array = np.ones((2, 3))\n",
    "print(\"\\nOne Array:\\n\", one_array)\n",
    "\n",
    "full_array = np.full((2, 2), 7)\n",
    "print(\"\\nFull Array:\\n\", full_array)\n"
   ]
  },
  {
   "cell_type": "code",
   "execution_count": 12,
   "id": "5385e085",
   "metadata": {},
   "outputs": [
    {
     "name": "stdout",
     "output_type": "stream",
     "text": [
      "Data type of a: int64\n",
      "Data type of b: int64\n",
      "Data type of c: int64\n"
     ]
    }
   ],
   "source": [
    "# check the data type of arrays\n",
    "print(\"Data type of a:\", a.dtype)\n",
    "print(\"Data type of b:\", b.dtype)\n",
    "print(\"Data type of c:\", c.dtype)\n"
   ]
  },
  {
   "cell_type": "code",
   "execution_count": 11,
   "id": "38799146",
   "metadata": {},
   "outputs": [
    {
     "name": "stdout",
     "output_type": "stream",
     "text": [
      "\n",
      "Identity Matrix:\n",
      " [[1. 0. 0.]\n",
      " [0. 1. 0.]\n",
      " [0. 0. 1.]]\n"
     ]
    }
   ],
   "source": [
    "# creating an identity matrix\n",
    "identity_matrix = np.eye(3)\n",
    "print(\"\\nIdentity Matrix:\\n\", identity_matrix)\n"
   ]
  },
  {
   "cell_type": "code",
   "execution_count": 13,
   "id": "45aeb4bd",
   "metadata": {},
   "outputs": [
    {
     "name": "stdout",
     "output_type": "stream",
     "text": [
      "Data type of identity_matrix: float64\n"
     ]
    }
   ],
   "source": [
    "# check data type of identity matrix\n",
    "print(\"Data type of identity_matrix:\", identity_matrix.dtype)\n"
   ]
  },
  {
   "cell_type": "code",
   "execution_count": 14,
   "id": "708379ef",
   "metadata": {},
   "outputs": [
    {
     "name": "stdout",
     "output_type": "stream",
     "text": [
      "Type of a: <class 'numpy.ndarray'>\n",
      "Type of b: <class 'numpy.ndarray'>\n",
      "Type of c: <class 'numpy.ndarray'>\n",
      "Type of zero_array: <class 'numpy.ndarray'>\n",
      "Type of one_array: <class 'numpy.ndarray'>\n",
      "Type of full_array: <class 'numpy.ndarray'>\n",
      "Type of identity_matrix: <class 'numpy.ndarray'>\n"
     ]
    }
   ],
   "source": [
    "# check the type of arrays\n",
    "print(\"Type of a:\", type(a))\n",
    "print(\"Type of b:\", type(b))\n",
    "print(\"Type of c:\", type(c))\n",
    "print(\"Type of zero_array:\", type(zero_array))\n",
    "print(\"Type of one_array:\", type(one_array))\n",
    "print(\"Type of full_array:\", type(full_array))\n",
    "print(\"Type of identity_matrix:\", type(identity_matrix))\n"
   ]
  },
  {
   "cell_type": "code",
   "execution_count": 36,
   "id": "4a678da4",
   "metadata": {},
   "outputs": [
    {
     "data": {
      "text/plain": [
       "array([6.95195932e-310, 9.47341672e-312])"
      ]
     },
     "execution_count": 36,
     "metadata": {},
     "output_type": "execute_result"
    }
   ],
   "source": [
    "# Create an empty array with 2 elements\n",
    "np.empty(2) "
   ]
  },
  {
   "cell_type": "code",
   "execution_count": 37,
   "id": "feb9556e",
   "metadata": {},
   "outputs": [
    {
     "data": {
      "text/plain": [
       "array([0, 1, 2, 3])"
      ]
     },
     "execution_count": 37,
     "metadata": {},
     "output_type": "execute_result"
    }
   ],
   "source": [
    "np.arange(4)"
   ]
  },
  {
   "cell_type": "markdown",
   "id": "43d1b8d6",
   "metadata": {},
   "source": [
    "- And even an array that contains a range of evenly spaced intervals. To do this, we will specify the first number, last number, and the step size."
   ]
  },
  {
   "cell_type": "code",
   "execution_count": null,
   "id": "beb0bfff",
   "metadata": {},
   "outputs": [
    {
     "data": {
      "text/plain": [
       "array([2, 4, 6, 8])"
      ]
     },
     "execution_count": 38,
     "metadata": {},
     "output_type": "execute_result"
    }
   ],
   "source": [
    "np.arange(2, 9, 2) # Create an array with values from 2 to 8 (exclusive) with a step of 2"
   ]
  },
  {
   "cell_type": "code",
   "execution_count": 40,
   "id": "063b5891",
   "metadata": {},
   "outputs": [
    {
     "data": {
      "text/plain": [
       "array([ 2,  5,  8, 11, 14, 17, 20, 23])"
      ]
     },
     "execution_count": 40,
     "metadata": {},
     "output_type": "execute_result"
    }
   ],
   "source": [
    "# create an array with values from 2 to 23 with a step of 3\n",
    "np.arange(2, 24, 3)"
   ]
  },
  {
   "cell_type": "code",
   "execution_count": null,
   "id": "8e786bae",
   "metadata": {},
   "outputs": [
    {
     "data": {
      "text/plain": [
       "array([ 0. ,  2.5,  5. ,  7.5, 10. ])"
      ]
     },
     "execution_count": 39,
     "metadata": {},
     "output_type": "execute_result"
    }
   ],
   "source": [
    "np.linspace(0, 10, num=5) # Create an array of 5 equally spaced values between 0 and 10"
   ]
  },
  {
   "cell_type": "markdown",
   "id": "f8a677b3",
   "metadata": {},
   "source": [
    "- While the default data type is floating point (np.float64), we can explicitly specify which data type you want using the dtype keyword."
   ]
  },
  {
   "cell_type": "code",
   "execution_count": null,
   "id": "a58be2f5",
   "metadata": {},
   "outputs": [
    {
     "data": {
      "text/plain": [
       "array([1, 1])"
      ]
     },
     "execution_count": 41,
     "metadata": {},
     "output_type": "execute_result"
    }
   ],
   "source": [
    "x = np.ones(2, dtype=np.int64) # Create an array of ones with 2 elements\n",
    "x"
   ]
  },
  {
   "cell_type": "markdown",
   "id": "34f2127c",
   "metadata": {},
   "source": [
    "## Array attributes"
   ]
  },
  {
   "cell_type": "markdown",
   "id": "9bc635d6",
   "metadata": {},
   "source": [
    "---"
   ]
  },
  {
   "cell_type": "code",
   "execution_count": 19,
   "id": "adc1598a",
   "metadata": {},
   "outputs": [
    {
     "name": "stdout",
     "output_type": "stream",
     "text": [
      "Shape of a: (3,)\n",
      "Shape of b: (2, 3)\n",
      "Shape of c: (2, 2, 2)\n",
      "Shape of zero_array: (3, 4)\n",
      "Shape of one_array: (2, 3)\n",
      "Shape of full_array: (2, 2)\n",
      "Shape of identity_matrix: (3, 3)\n"
     ]
    }
   ],
   "source": [
    "# check the shape of arrays\n",
    "print(\"Shape of a:\", a.shape)\n",
    "print(\"Shape of b:\", b.shape)\n",
    "print(\"Shape of c:\", c.shape)\n",
    "print(\"Shape of zero_array:\", zero_array.shape)\n",
    "print(\"Shape of one_array:\", one_array.shape)\n",
    "print(\"Shape of full_array:\", full_array.shape)\n",
    "print(\"Shape of identity_matrix:\", identity_matrix.shape)\n"
   ]
  },
  {
   "cell_type": "code",
   "execution_count": 22,
   "id": "4712c41b",
   "metadata": {},
   "outputs": [
    {
     "name": "stdout",
     "output_type": "stream",
     "text": [
      "Length of a: 3\n",
      "Length of b: 2\n",
      "Length of c: 2\n",
      "Length of zero_array: 3\n",
      "Length of one_array: 2\n",
      "Length of full_array: 2\n",
      "Length of identity_matrix: 3\n"
     ]
    }
   ],
   "source": [
    "# check the length of arrays\n",
    "print(\"Length of a:\", len(a))\n",
    "print(\"Length of b:\", len(b))\n",
    "print(\"Length of c:\", len(c))\n",
    "print(\"Length of zero_array:\", len(zero_array))\n",
    "print(\"Length of one_array:\", len(one_array))\n",
    "print(\"Length of full_array:\", len(full_array))\n",
    "print(\"Length of identity_matrix:\", len(identity_matrix))\n"
   ]
  },
  {
   "cell_type": "code",
   "execution_count": 21,
   "id": "db45870c",
   "metadata": {},
   "outputs": [
    {
     "name": "stdout",
     "output_type": "stream",
     "text": [
      "Number of dimensions of a: 1\n",
      "Number of dimensions of b: 2\n",
      "Number of dimensions of c: 3\n",
      "Number of dimensions of zero_array: 2\n",
      "Number of dimensions of one_array: 2\n",
      "Number of dimensions of full_array: 2\n",
      "Number of dimensions of identity_matrix: 2\n"
     ]
    }
   ],
   "source": [
    "# check the number of dimensions of arrays\n",
    "print(\"Number of dimensions of a:\", a.ndim)\n",
    "print(\"Number of dimensions of b:\", b.ndim)\n",
    "print(\"Number of dimensions of c:\", c.ndim)\n",
    "print(\"Number of dimensions of zero_array:\", zero_array.ndim)\n",
    "print(\"Number of dimensions of one_array:\", one_array.ndim)\n",
    "print(\"Number of dimensions of full_array:\", full_array.ndim)\n",
    "print(\"Number of dimensions of identity_matrix:\", identity_matrix.ndim)\n"
   ]
  },
  {
   "cell_type": "code",
   "execution_count": null,
   "id": "36a6aef5",
   "metadata": {},
   "outputs": [
    {
     "name": "stdout",
     "output_type": "stream",
     "text": [
      "Size of a: 3\n",
      "Size of b: 6\n",
      "Size of c: 8\n",
      "Size of zero_array: 12\n",
      "Size of one_array: 6\n",
      "Size of full_array: 4\n",
      "Size of identity_matrix: 9\n"
     ]
    }
   ],
   "source": [
    "# check the size of arrays- total elements\n",
    "print(\"Size of a:\", a.size)\n",
    "print(\"Size of b:\", b.size)\n",
    "print(\"Size of c:\", c.size)\n",
    "print(\"Size of zero_array:\", zero_array.size)\n",
    "print(\"Size of one_array:\", one_array.size)\n",
    "print(\"Size of full_array:\", full_array.size)\n",
    "print(\"Size of identity_matrix:\", identity_matrix.size)\n"
   ]
  },
  {
   "cell_type": "markdown",
   "id": "4a79237a",
   "metadata": {},
   "source": [
    "## Basic operations in arrays"
   ]
  },
  {
   "cell_type": "markdown",
   "id": "851a28e9",
   "metadata": {},
   "source": [
    "---"
   ]
  },
  {
   "cell_type": "code",
   "execution_count": 25,
   "id": "4d429558",
   "metadata": {},
   "outputs": [
    {
     "data": {
      "text/plain": [
       "array([1, 2, 3])"
      ]
     },
     "execution_count": 25,
     "metadata": {},
     "output_type": "execute_result"
    }
   ],
   "source": [
    "a"
   ]
  },
  {
   "cell_type": "code",
   "execution_count": 26,
   "id": "9391e012",
   "metadata": {},
   "outputs": [
    {
     "data": {
      "text/plain": [
       "array([[1, 2, 3],\n",
       "       [4, 5, 6]])"
      ]
     },
     "execution_count": 26,
     "metadata": {},
     "output_type": "execute_result"
    }
   ],
   "source": [
    "b"
   ]
  },
  {
   "cell_type": "code",
   "execution_count": 24,
   "id": "6a77b9c2",
   "metadata": {},
   "outputs": [
    {
     "data": {
      "text/plain": [
       "array([[2, 4, 6],\n",
       "       [5, 7, 9]])"
      ]
     },
     "execution_count": 24,
     "metadata": {},
     "output_type": "execute_result"
    }
   ],
   "source": [
    "# adding arrays\n",
    "g = a + b\n",
    "g"
   ]
  },
  {
   "cell_type": "code",
   "execution_count": 27,
   "id": "b551983b",
   "metadata": {},
   "outputs": [
    {
     "data": {
      "text/plain": [
       "array([[2, 4, 6],\n",
       "       [5, 7, 9]])"
      ]
     },
     "execution_count": 27,
     "metadata": {},
     "output_type": "execute_result"
    }
   ],
   "source": [
    "h1 = np.add (a, b)\n",
    "h1"
   ]
  },
  {
   "cell_type": "code",
   "execution_count": 28,
   "id": "8fe5fb4a",
   "metadata": {},
   "outputs": [
    {
     "data": {
      "text/plain": [
       "array([[ 0,  0,  0],\n",
       "       [-3, -3, -3]])"
      ]
     },
     "execution_count": 28,
     "metadata": {},
     "output_type": "execute_result"
    }
   ],
   "source": [
    "# subtracting arrays\n",
    "i1 = np.subtract(a, b)\n",
    "i1"
   ]
  },
  {
   "cell_type": "code",
   "execution_count": 29,
   "id": "7ab67e18",
   "metadata": {},
   "outputs": [
    {
     "data": {
      "text/plain": [
       "array([[ 0,  0,  0],\n",
       "       [-3, -3, -3]])"
      ]
     },
     "execution_count": 29,
     "metadata": {},
     "output_type": "execute_result"
    }
   ],
   "source": [
    "k = a - b\n",
    "k"
   ]
  },
  {
   "cell_type": "code",
   "execution_count": 30,
   "id": "603636b2",
   "metadata": {},
   "outputs": [
    {
     "data": {
      "text/plain": [
       "array([[ 1,  4,  9],\n",
       "       [ 4, 10, 18]])"
      ]
     },
     "execution_count": 30,
     "metadata": {},
     "output_type": "execute_result"
    }
   ],
   "source": [
    "# multiplying arrays\n",
    "j1 = np.multiply(a, b)\n",
    "j1"
   ]
  },
  {
   "cell_type": "code",
   "execution_count": 31,
   "id": "bde02757",
   "metadata": {},
   "outputs": [
    {
     "data": {
      "text/plain": [
       "array([[ 1,  4,  9],\n",
       "       [ 4, 10, 18]])"
      ]
     },
     "execution_count": 31,
     "metadata": {},
     "output_type": "execute_result"
    }
   ],
   "source": [
    "m = a * b\n",
    "m"
   ]
  },
  {
   "cell_type": "code",
   "execution_count": 32,
   "id": "9326fc83",
   "metadata": {},
   "outputs": [
    {
     "data": {
      "text/plain": [
       "array([[1.  , 1.  , 1.  ],\n",
       "       [0.25, 0.4 , 0.5 ]])"
      ]
     },
     "execution_count": 32,
     "metadata": {},
     "output_type": "execute_result"
    }
   ],
   "source": [
    "# dividing arrays\n",
    "k1 = np.divide(a, b)\n",
    "k1"
   ]
  },
  {
   "cell_type": "code",
   "execution_count": 33,
   "id": "4388e6b3",
   "metadata": {},
   "outputs": [
    {
     "data": {
      "text/plain": [
       "array([[1.  , 1.  , 1.  ],\n",
       "       [0.25, 0.4 , 0.5 ]])"
      ]
     },
     "execution_count": 33,
     "metadata": {},
     "output_type": "execute_result"
    }
   ],
   "source": [
    "n = a / b\n",
    "n"
   ]
  },
  {
   "cell_type": "code",
   "execution_count": 34,
   "id": "4c9a4bcc",
   "metadata": {},
   "outputs": [
    {
     "data": {
      "text/plain": [
       "array([1, 4, 9])"
      ]
     },
     "execution_count": 34,
     "metadata": {},
     "output_type": "execute_result"
    }
   ],
   "source": [
    "# squaring elements of a array\n",
    "l1 = np.square(a)\n",
    "l1"
   ]
  },
  {
   "cell_type": "code",
   "execution_count": 35,
   "id": "d135cee9",
   "metadata": {},
   "outputs": [
    {
     "data": {
      "text/plain": [
       "array([1, 4, 9])"
      ]
     },
     "execution_count": 35,
     "metadata": {},
     "output_type": "execute_result"
    }
   ],
   "source": [
    "j = a**2\n",
    "j"
   ]
  },
  {
   "cell_type": "code",
   "execution_count": 42,
   "id": "be851574",
   "metadata": {},
   "outputs": [],
   "source": [
    "arr = np.array([2, 1, 5, 3, 7, 4, 6, 8])"
   ]
  },
  {
   "cell_type": "markdown",
   "id": "aa2c8d4d",
   "metadata": {},
   "source": [
    "## sorting arrays\n",
    "---"
   ]
  },
  {
   "cell_type": "code",
   "execution_count": null,
   "id": "1bc162a7",
   "metadata": {},
   "outputs": [
    {
     "data": {
      "text/plain": [
       "array([1, 2, 3, 4, 5, 6, 7, 8])"
      ]
     },
     "execution_count": 43,
     "metadata": {},
     "output_type": "execute_result"
    }
   ],
   "source": [
    "np.sort(arr) # Sort the array"
   ]
  },
  {
   "cell_type": "code",
   "execution_count": 44,
   "id": "4348564c",
   "metadata": {},
   "outputs": [],
   "source": [
    "a = np.array([1, 2, 3, 4])\n",
    "b = np.array([5, 6, 7, 8])"
   ]
  },
  {
   "cell_type": "code",
   "execution_count": null,
   "id": "a009e792",
   "metadata": {},
   "outputs": [
    {
     "data": {
      "text/plain": [
       "array([1, 2, 3, 4, 5, 6, 7, 8])"
      ]
     },
     "execution_count": 45,
     "metadata": {},
     "output_type": "execute_result"
    }
   ],
   "source": [
    "np.concatenate((a, b)) # Concatenate two arrays"
   ]
  },
  {
   "cell_type": "code",
   "execution_count": 46,
   "id": "dfa6c4c8",
   "metadata": {},
   "outputs": [],
   "source": [
    "x = np.array([[1, 2], [3, 4]])\n",
    "y = np.array([[5, 6]])"
   ]
  },
  {
   "cell_type": "code",
   "execution_count": null,
   "id": "52241238",
   "metadata": {},
   "outputs": [
    {
     "data": {
      "text/plain": [
       "array([[1, 2],\n",
       "       [3, 4],\n",
       "       [5, 6]])"
      ]
     },
     "execution_count": 47,
     "metadata": {},
     "output_type": "execute_result"
    }
   ],
   "source": [
    "np.concatenate((x, y), axis=0) # Concatenate along the first axis (rows)"
   ]
  }
 ],
 "metadata": {
  "kernelspec": {
   "display_name": "python_eda",
   "language": "python",
   "name": "python3"
  },
  "language_info": {
   "codemirror_mode": {
    "name": "ipython",
    "version": 3
   },
   "file_extension": ".py",
   "mimetype": "text/x-python",
   "name": "python",
   "nbconvert_exporter": "python",
   "pygments_lexer": "ipython3",
   "version": "3.13.5"
  }
 },
 "nbformat": 4,
 "nbformat_minor": 5
}
