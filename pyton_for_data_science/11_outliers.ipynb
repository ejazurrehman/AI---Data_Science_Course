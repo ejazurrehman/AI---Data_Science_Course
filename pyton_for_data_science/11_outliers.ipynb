{
 "cells": [
  {
   "cell_type": "markdown",
   "id": "8464935a",
   "metadata": {},
   "source": [
    "# Author Info\n",
    "Name: **Ejaz-ur-Rehman**\\\n",
    "Business Unit Head | Data Analyst\\\n",
    "MBA (Accounting & Finance), MS (Finance)\\\n",
    "Crystal Tech (Project of MUZHAB Group)\\\n",
    "Karachi, Pakistan\n",
    "\n",
    "![Date](https://img.shields.io/badge/Date-23--Aug--2025-green?logo=google-calendar)\n",
    "[![Email](https://img.shields.io/badge/Email-ijazfinance%40gmail.com-blue?logo=gmail)](mailto:ijazfinance@gmail.com)\n",
    "[![LinkedIn](https://img.shields.io/badge/LinkedIn-Ejaz--ur--Rehman-blue?logo=linkedin)](https://www.linkedin.com/in/ejaz-ur-rehman/)\n",
    "[![GitHub](https://img.shields.io/badge/GitHub-ejazurrehman-black?logo=github)](https://github.com/ejazurrehman)"
   ]
  },
  {
   "cell_type": "markdown",
   "id": "beb124b5",
   "metadata": {},
   "source": [
    "# Outliers in Python"
   ]
  },
  {
   "cell_type": "markdown",
   "id": "70690348",
   "metadata": {},
   "source": [
    "## Definition\n",
    "\n",
    "An outlier is a data point that is significantly different (much higher or lower) from the majority of the data.\n",
    "- In Python (or data science generally), an outlier is:\n",
    "  - A value that lies outside the expected range.\n",
    "  - A point that doesn’t follow the overall pattern of the dataset.\n",
    "\n",
    "📌 Example: In a dataset of human heights (mostly between 150 cm and 200 cm), a value like 350 cm is an outlier."
   ]
  },
  {
   "cell_type": "markdown",
   "id": "a8dea8f7",
   "metadata": {},
   "source": [
    "## Why Outliers Occur?\n",
    "\n",
    "Outliers can appear due to:\n",
    "- Errors in data entry (typos, measurement issues).\n",
    "- Natural variation (legit extreme cases, like the tallest or shortest person).\n",
    "- Sampling issues (collected from the wrong group)."
   ]
  },
  {
   "cell_type": "markdown",
   "id": "8fcb9d65",
   "metadata": {},
   "source": [
    "## Why Outliers Matter?\n",
    "\n",
    "- They can skew averages (mean).\n",
    "- They can mislead statistical models (like regression).\n",
    "- They may indicate special conditions worth investigating (e.g., fraud, defects)."
   ]
  },
  {
   "cell_type": "markdown",
   "id": "e3e20f21",
   "metadata": {},
   "source": [
    "## How to identify Outliers?\n",
    "- Using visulizaton:\n",
    "  - Box plot\n",
    "  - Histogram\n",
    "  - Scatter plot\n",
    "- Using Descriptive Statistics (IQR Method):\n",
    "  - Q1 = 25th percentile\n",
    "  - Q3 = 75th percentile\n",
    "  - IQR = Q3 – Q1\n",
    "  - Outliers:\n",
    "    - Values < Q1 – 1.5 × IQR\n",
    "    - Values > Q3 + 1.5 × IQR\n",
    "- Using Z-Score (Standard Deviation Method):\n",
    "  - The Z-score measures how many standard deviations a value is from the mean.\n",
    "    - If |Z| > 3 → likely an outlier."
   ]
  },
  {
   "cell_type": "code",
   "execution_count": 1,
   "id": "bcc203c5",
   "metadata": {},
   "outputs": [
    {
     "name": "stdout",
     "output_type": "stream",
     "text": [
      "   Scores\n",
      "0      10\n",
      "6     110\n"
     ]
    }
   ],
   "source": [
    "import pandas as pd\n",
    "\n",
    "# Example dataset\n",
    "data = {'Scores': [10, 12, 12, 13, 12, 11, 110, 13, 12, 14, 13]}\n",
    "df = pd.DataFrame(data)\n",
    "\n",
    "Q1 = df['Scores'].quantile(0.25)\n",
    "Q3 = df['Scores'].quantile(0.75)\n",
    "IQR = Q3 - Q1\n",
    "\n",
    "# Define outlier condition\n",
    "outliers = df[(df['Scores'] < (Q1 - 1.5 * IQR)) | (df['Scores'] > (Q3 + 1.5 * IQR))]\n",
    "print(outliers)\n"
   ]
  },
  {
   "cell_type": "code",
   "execution_count": 2,
   "id": "dc3f4119",
   "metadata": {},
   "outputs": [
    {
     "name": "stdout",
     "output_type": "stream",
     "text": [
      "   Scores   Z_score\n",
      "6     110  3.013104\n"
     ]
    }
   ],
   "source": [
    "import numpy as np\n",
    "\n",
    "mean = df['Scores'].mean()\n",
    "std = df['Scores'].std()\n",
    "\n",
    "df['Z_score'] = (df['Scores'] - mean) / std\n",
    "outliers_z = df[df['Z_score'].abs() > 3]\n",
    "print(outliers_z)\n"
   ]
  },
  {
   "cell_type": "code",
   "execution_count": 3,
   "id": "ff1200cf",
   "metadata": {},
   "outputs": [
    {
     "data": {
      "image/png": "[encoded data removed]",
      "text/plain": [
       "<Figure size 640x480 with 1 Axes>"
      ]
     },
     "metadata": {},
     "output_type": "display_data"
    }
   ],
   "source": [
    "import matplotlib.pyplot as plt\n",
    "\n",
    "plt.boxplot(df['Scores'])\n",
    "plt.title(\"Boxplot - Detecting Outliers\")\n",
    "plt.show()\n"
   ]
  },
  {
   "cell_type": "markdown",
   "id": "0ef35514",
   "metadata": {},
   "source": [
    "## Handling Outliers\n",
    "\n",
    "- Options depend on context:\n",
    "  - Remove them (if errors or irrelevant).\n",
    "  - Transform data (e.g., log transformation to reduce skew).\n",
    "  - Cap or Winsorize (replace extreme values with nearest threshold).\n",
    "  - Keep them (if they are genuine and meaningful)."
   ]
  },
  {
   "cell_type": "markdown",
   "id": "4209f17a",
   "metadata": {},
   "source": [
    "## Summary:\n",
    "In Python, outliers are unusual values that stand far from the rest of the data. They can be detected using IQR, Z-scores, or visualization, and handled based on whether they are errors, anomalies, or important insights."
   ]
  }
 ],
 "metadata": {
  "kernelspec": {
   "display_name": "python_eda",
   "language": "python",
   "name": "python3"
  },
  "language_info": {
   "codemirror_mode": {
    "name": "ipython",
    "version": 3
   },
   "file_extension": ".py",
   "mimetype": "text/x-python",
   "name": "python",
   "nbconvert_exporter": "python",
   "pygments_lexer": "ipython3",
   "version": "3.13.5"
  }
 },
 "nbformat": 4,
 "nbformat_minor": 5
}
