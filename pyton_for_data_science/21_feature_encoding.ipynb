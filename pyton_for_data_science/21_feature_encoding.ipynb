{
 "cells": [
  {
   "cell_type": "markdown",
   "id": "cdcedd6c",
   "metadata": {},
   "source": [
    "# Author Info\n",
    "Name: **Ejaz-ur-Rehman**\\\n",
    "Business Unit Head | Data Analyst\\\n",
    "MBA (Accounting & Finance), MS (Finance)\\\n",
    "Crystal Tech (Project of MUZHAB Group)\\\n",
    "Karachi, Pakistan\n",
    "\n",
    "![Date](https://img.shields.io/badge/Date-25--Aug--2025-green?logo=google-calendar)\n",
    "[![Email](https://img.shields.io/badge/Email-ijazfinance%40gmail.com-blue?logo=gmail)](mailto:ijazfinance@gmail.com)\n",
    "[![LinkedIn](https://img.shields.io/badge/LinkedIn-Ejaz--ur--Rehman-blue?logo=linkedin)](https://www.linkedin.com/in/ejaz-ur-rehman/)\n",
    "[![GitHub](https://img.shields.io/badge/GitHub-ejazurrehman-black?logo=github)](https://github.com/ejazurrehman)"
   ]
  },
  {
   "cell_type": "markdown",
   "id": "9f8b5a32",
   "metadata": {},
   "source": [
    "# Feature Encoding"
   ]
  },
  {
   "cell_type": "markdown",
   "id": "6bbd6555",
   "metadata": {},
   "source": [
    "In Machine Learning, most algorithms can’t work directly with categorical data (data stored as labels or strings like \"Red\", \"Male\", \"Yes\", \"Dog\"). They require numeric values for computations.\n",
    "\n",
    "Feature Encoding is the process of converting **categorical variables** into numerical representations so that ML models can understand and process them."
   ]
  },
  {
   "cell_type": "markdown",
   "id": "6c4e770f",
   "metadata": {},
   "source": [
    "## Types of Feature Encoding in Python"
   ]
  },
  {
   "cell_type": "markdown",
   "id": "ebfba67b",
   "metadata": {},
   "source": [
    "There are mainly two categories of encoding techniques:\n",
    "### 1. Label Encoding:\n",
    "   - Converts categories into numbers (integers).\n",
    "   - Example: {\"Red\", \"Green\", \"Blue\"} → {0, 1, 2}.\n",
    "   - Useful when categories are ordinal (have a natural order, like Low < Medium < High).\n",
    "   - ⚠️ But can be misleading for nominal (unordered) data, since numbers might imply ranking."
   ]
  },
  {
   "cell_type": "code",
   "execution_count": 1,
   "id": "b613cc07",
   "metadata": {},
   "outputs": [
    {
     "name": "stdout",
     "output_type": "stream",
     "text": [
      "   Color  Color_Encoded\n",
      "0    Red              2\n",
      "1  Green              1\n",
      "2   Blue              0\n",
      "3  Green              1\n",
      "4    Red              2\n"
     ]
    }
   ],
   "source": [
    "import pandas as pd\n",
    "from sklearn.preprocessing import LabelEncoder\n",
    "\n",
    "# Sample data\n",
    "df = pd.DataFrame({\n",
    "    'Color': ['Red', 'Green', 'Blue', 'Green', 'Red']\n",
    "})\n",
    "\n",
    "# Apply Label Encoding\n",
    "le = LabelEncoder()\n",
    "df['Color_Encoded'] = le.fit_transform(df['Color'])\n",
    "\n",
    "print(df)\n"
   ]
  },
  {
   "cell_type": "markdown",
   "id": "91254cc6",
   "metadata": {},
   "source": [
    "### 2. One-Hot Encoding:\n",
    "   - Creates dummy variables (binary columns) for each category.\n",
    "   - Example: {\"Red\", \"Green\", \"Blue\"} → three columns:\n",
    "     - Red → [1,0,0]\n",
    "     - Green → [0,1,0]\n",
    "     - Blue → [0,0,1]\n",
    "   - Avoids the problem of implying an order, but increases dimensionality (especially for many categories)."
   ]
  },
  {
   "cell_type": "code",
   "execution_count": 2,
   "id": "95bbf1fc",
   "metadata": {},
   "outputs": [
    {
     "name": "stdout",
     "output_type": "stream",
     "text": [
      "   Color_Blue  Color_Green  Color_Red\n",
      "0       False        False       True\n",
      "1       False         True      False\n",
      "2        True        False      False\n",
      "3       False         True      False\n",
      "4       False        False       True\n"
     ]
    }
   ],
   "source": [
    "# One Hot Encoding using pandas\n",
    "df = pd.DataFrame({\n",
    "    'Color': ['Red', 'Green', 'Blue', 'Green', 'Red']\n",
    "})\n",
    "\n",
    "df_encoded = pd.get_dummies(df, columns=['Color'])\n",
    "\n",
    "print(df_encoded)\n"
   ]
  },
  {
   "cell_type": "markdown",
   "id": "5f19dacf",
   "metadata": {},
   "source": [
    "### 3. Ordinal Encoding:\n",
    " - Similar to Label Encoding but you define the order of categories.\n",
    " - Example: {'Low': 1, 'Medium': 2, 'High': 3}."
   ]
  },
  {
   "cell_type": "code",
   "execution_count": 3,
   "id": "c9bfbec8",
   "metadata": {},
   "outputs": [
    {
     "name": "stdout",
     "output_type": "stream",
     "text": [
      "     Size  Size_Encoded\n",
      "0   Small           0.0\n",
      "1  Medium           1.0\n",
      "2   Large           2.0\n",
      "3  Medium           1.0\n",
      "4   Small           0.0\n"
     ]
    }
   ],
   "source": [
    "from sklearn.preprocessing import OrdinalEncoder\n",
    "\n",
    "# Sample data\n",
    "df = pd.DataFrame({\n",
    "    'Size': ['Small', 'Medium', 'Large', 'Medium', 'Small']\n",
    "})\n",
    "\n",
    "# Define order manually\n",
    "encoder = OrdinalEncoder(categories=[['Small', 'Medium', 'Large']])\n",
    "df['Size_Encoded'] = encoder.fit_transform(df[['Size']])\n",
    "\n",
    "print(df)\n"
   ]
  },
  {
   "cell_type": "markdown",
   "id": "e6322d57",
   "metadata": {},
   "source": [
    "### Other Advanced Encodings\n",
    " - Target Encoding → Replace categories with mean of target variable.\n",
    " - Frequency Encoding → Replace categories with their frequency.\n",
    " - Binary Encoding → Convert categories into binary code.\n",
    " - These are useful when there are too many categories (e.g., city names)."
   ]
  },
  {
   "cell_type": "markdown",
   "id": "e9cf8d1d",
   "metadata": {},
   "source": [
    "### Summary:\n",
    "  - Label Encoding → Simple, but may imply order incorrectly.\n",
    "  - One-Hot Encoding → Best for unordered categories; expands features.\n",
    "  - Ordinal Encoding → Works when categories have a meaningful order.\n",
    "  - Advanced Methods → Used for high-cardinality categorical data."
   ]
  }
 ],
 "metadata": {
  "kernelspec": {
   "display_name": "python_eda",
   "language": "python",
   "name": "python3"
  },
  "language_info": {
   "codemirror_mode": {
    "name": "ipython",
    "version": 3
   },
   "file_extension": ".py",
   "mimetype": "text/x-python",
   "name": "python",
   "nbconvert_exporter": "python",
   "pygments_lexer": "ipython3",
   "version": "3.13.5"
  }
 },
 "nbformat": 4,
 "nbformat_minor": 5
}
