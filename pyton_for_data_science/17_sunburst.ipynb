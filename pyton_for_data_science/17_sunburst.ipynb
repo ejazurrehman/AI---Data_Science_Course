{
 "cells": [
  {
   "cell_type": "markdown",
   "metadata": {},
   "source": [
    "# Author Info\n",
    "Name: **Ejaz-ur-Rehman**\\\n",
    "Business Unit Head | Data Analyst\\\n",
    "MBA (Accounting & Finance), MS (Finance), PhD (in progress)\\\n",
    "Crystal Tech (Project of MUZHAB Group)\n",
    "\n",
    "![Date](https://img.shields.io/badge/Date-23--Aug--2025-green?logo=google-calendar)\n",
    "[![Email](https://img.shields.io/badge/Email-ijazfinance%40gmail.com-blue?logo=gmail)](mailto:ijazfinance@gmail.com)\n",
    "[![LinkedIn](https://img.shields.io/badge/LinkedIn-Ejaz--ur--Rehman-blue?logo=linkedin)](https://www.linkedin.com/in/ejaz-ur-rehman/)\n",
    "[![GitHub](https://img.shields.io/badge/GitHub-ejazurrehman-black?logo=github)](https://github.com/ejazurrehman)"
   ]
  },
  {
   "cell_type": "markdown",
   "metadata": {},
   "source": [
    "# Sunburst Plot to show Heirarchy in Titanic Dataset"
   ]
  },
  {
   "cell_type": "code",
   "execution_count": 7,
   "metadata": {},
   "outputs": [
    {
     "data": {
      "application/vnd.plotly.v1+json": {
       "config": {
        "plotlyServerURL": "https://plot.ly"
       },
       "data": [
        {
         "branchvalues": "total",
         "customdata": [
          [
           "female"
          ],
          [
           "female"
          ],
          [
           "female"
          ],
          [
           "female"
          ],
          [
           "female"
          ],
          [
           "female"
          ],
          [
           "female"
          ],
          [
           "female"
          ],
          [
           "female"
          ],
          [
           "female"
          ],
          [
           "female"
          ],
          [
           "female"
          ],
          [
           "female"
          ],
          [
           "female"
          ],
          [
           "female"
          ],
          [
           "female"
          ],
          [
           "female"
          ],
          [
           "female"
          ],
          [
           "female"
          ],
          [
           "female"
          ],
          [
           "female"
          ],
          [
           "female"
          ],
          [
           "female"
          ],
          [
           "female"
          ],
          [
           "female"
          ],
          [
           "female"
          ],
          [
           "female"
          ],
          [
           "female"
          ],
          [
           "female"
          ],
          [
           "female"
          ],
          [
           "female"
          ],
          [
           "female"
          ],
          [
           "female"
          ],
          [
           "female"
          ],
          [
           "female"
          ],
          [
           "female"
          ],
          [
           "female"
          ],
          [
           "female"
          ],
          [
           "female"
          ],
          [
           "female"
          ],
          [
           "male"
          ],
          [
           "male"
          ],
          [
           "male"
          ],
          [
           "male"
          ],
          [
           "male"
          ],
          [
           "male"
          ],
          [
           "male"
          ],
          [
           "male"
          ],
          [
           "male"
          ],
          [
           "male"
          ],
          [
           "male"
          ],
          [
           "male"
          ],
          [
           "male"
          ],
          [
           "male"
          ],
          [
           "male"
          ],
          [
           "male"
          ],
          [
           "male"
          ],
          [
           "male"
          ],
          [
           "male"
          ],
          [
           "male"
          ],
          [
           "male"
          ],
          [
           "male"
          ],
          [
           "male"
          ],
          [
           "male"
          ],
          [
           "male"
          ],
          [
           "male"
          ],
          [
           "male"
          ],
          [
           "male"
          ],
          [
           "male"
          ],
          [
           "male"
          ],
          [
           "male"
          ],
          [
           "male"
          ],
          [
           "male"
          ],
          [
           "male"
          ],
          [
           "male"
          ],
          [
           "male"
          ],
          [
           "male"
          ]
         ],
         "domain": {
          "x": [
           0,
           1
          ],
          "y": [
           0,
           1
          ]
         },
         "hovertemplate": "labels=%{label}<br>survived=%{value}<br>parent=%{parent}<br>id=%{id}<br>sex=%{customdata[0]}<extra></extra>",
         "ids": [
          "female/Third/woman/yes",
          "female/Second/woman/no/True",
          "female/First/child/no/False",
          "female/First/child/yes/False",
          "female/First/woman/no/False",
          "female/First/woman/yes",
          "female/Second/child/yes",
          "female/Third/child/yes",
          "female/Third/child/no",
          "female/Second/woman/yes",
          "female/Third/woman/no",
          "female/Second/woman/no",
          "female/First/woman/no",
          "female/First/child/no",
          "female/First/child/yes",
          "female/First/woman",
          "female/Third/woman",
          "female/Second/child",
          "female/Third/child",
          "female/Second/woman",
          "female/First/child",
          "female/First",
          "female/Third",
          "female/Second",
          "female/First/woman/no/True",
          "female/Third/woman/no/True",
          "female",
          "female/Second/woman/yes/True",
          "female/Third/child/no/True",
          "female/First/woman/yes/False",
          "female/Third/woman/no/False",
          "female/Third/woman/yes/True",
          "female/Second/woman/yes/False",
          "female/Second/woman/no/False",
          "female/First/woman/yes/True",
          "female/Third/child/yes/False",
          "female/Third/child/yes/True",
          "female/Second/child/yes/False",
          "female/Third/woman/yes/False",
          "female/Third/child/no/False",
          "male/Third/man",
          "male/First/man",
          "male/Third/child",
          "male/Third/child/yes/False",
          "male/Second/man",
          "male/Second/child",
          "male/First/man/no/True",
          "male/First/child",
          "male/Third",
          "male/Third/man/no/True",
          "male/First",
          "male/Second",
          "male/First/child/yes",
          "male/Third/child/no/False",
          "male/Second/child/yes",
          "male/Third/child/yes",
          "male/First/man/yes/False",
          "male/Second/child/yes/False",
          "male/Third/man/yes/False",
          "male/First/child/yes/False",
          "male/Second/man/yes/False",
          "male/Third/child/no/True",
          "male/Third/man/no",
          "male/Third/man/yes/True",
          "male",
          "male/First/man/no",
          "male/Third/child/no",
          "male/First/man/no/False",
          "male/First/man/yes/True",
          "male/Second/man/yes",
          "male/Second/man/no/True",
          "male/Second/man/no",
          "male/First/man/yes",
          "male/Third/man/yes",
          "male/Second/man/no/False",
          "male/Second/man/yes/True",
          "male/Third/man/no/False"
         ],
         "labels": [
          "yes",
          "True",
          "False",
          "False",
          "False",
          "yes",
          "yes",
          "yes",
          "no",
          "yes",
          "no",
          "no",
          "no",
          "no",
          "yes",
          "woman",
          "woman",
          "child",
          "child",
          "woman",
          "child",
          "First",
          "Third",
          "Second",
          "True",
          "True",
          "female",
          "True",
          "True",
          "False",
          "False",
          "True",
          "False",
          "False",
          "True",
          "False",
          "True",
          "False",
          "False",
          "False",
          "man",
          "man",
          "child",
          "False",
          "man",
          "child",
          "True",
          "child",
          "Third",
          "True",
          "First",
          "Second",
          "yes",
          "False",
          "yes",
          "yes",
          "False",
          "False",
          "False",
          "False",
          "False",
          "True",
          "no",
          "True",
          "male",
          "no",
          "no",
          "False",
          "True",
          "yes",
          "True",
          "no",
          "yes",
          "yes",
          "False",
          "True",
          "False"
         ],
         "marker": {
          "colors": [
           "#636efa",
           "#636efa",
           "#636efa",
           "#636efa",
           "#636efa",
           "#636efa",
           "#636efa",
           "#636efa",
           "#636efa",
           "#636efa",
           "#636efa",
           "#636efa",
           "#636efa",
           "#636efa",
           "#636efa",
           "#636efa",
           "#636efa",
           "#636efa",
           "#636efa",
           "#636efa",
           "#636efa",
           "#636efa",
           "#636efa",
           "#636efa",
           "#636efa",
           "#636efa",
           "#636efa",
           "#636efa",
           "#636efa",
           "#636efa",
           "#636efa",
           "#636efa",
           "#636efa",
           "#636efa",
           "#636efa",
           "#636efa",
           "#636efa",
           "#636efa",
           "#636efa",
           "#636efa",
           "#EF553B",
           "#EF553B",
           "#EF553B",
           "#EF553B",
           "#EF553B",
           "#EF553B",
           "#EF553B",
           "#EF553B",
           "#EF553B",
           "#EF553B",
           "#EF553B",
           "#EF553B",
           "#EF553B",
           "#EF553B",
           "#EF553B",
           "#EF553B",
           "#EF553B",
           "#EF553B",
           "#EF553B",
           "#EF553B",
           "#EF553B",
           "#EF553B",
           "#EF553B",
           "#EF553B",
           "#EF553B",
           "#EF553B",
           "#EF553B",
           "#EF553B",
           "#EF553B",
           "#EF553B",
           "#EF553B",
           "#EF553B",
           "#EF553B",
           "#EF553B",
           "#EF553B",
           "#EF553B",
           "#EF553B"
          ]
         },
         "name": "",
         "parents": [
          "female/Third/woman",
          "female/Second/woman/no",
          "female/First/child/no",
          "female/First/child/yes",
          "female/First/woman/no",
          "female/First/woman",
          "female/Second/child",
          "female/Third/child",
          "female/Third/child",
          "female/Second/woman",
          "female/Third/woman",
          "female/Second/woman",
          "female/First/woman",
          "female/First/child",
          "female/First/child",
          "female/First",
          "female/Third",
          "female/Second",
          "female/Third",
          "female/Second",
          "female/First",
          "female",
          "female",
          "female",
          "female/First/woman/no",
          "female/Third/woman/no",
          "",
          "female/Second/woman/yes",
          "female/Third/child/no",
          "female/First/woman/yes",
          "female/Third/woman/no",
          "female/Third/woman/yes",
          "female/Second/woman/yes",
          "female/Second/woman/no",
          "female/First/woman/yes",
          "female/Third/child/yes",
          "female/Third/child/yes",
          "female/Second/child/yes",
          "female/Third/woman/yes",
          "female/Third/child/no",
          "male/Third",
          "male/First",
          "male/Third",
          "male/Third/child/yes",
          "male/Second",
          "male/Second",
          "male/First/man/no",
          "male/First",
          "male",
          "male/Third/man/no",
          "male",
          "male",
          "male/First/child",
          "male/Third/child/no",
          "male/Second/child",
          "male/Third/child",
          "male/First/man/yes",
          "male/Second/child/yes",
          "male/Third/man/yes",
          "male/First/child/yes",
          "male/Second/man/yes",
          "male/Third/child/no",
          "male/Third/man",
          "male/Third/man/yes",
          "",
          "male/First/man",
          "male/Third/child",
          "male/First/man/no",
          "male/First/man/yes",
          "male/Second/man",
          "male/Second/man/no",
          "male/Second/man",
          "male/First/man",
          "male/Third/man",
          "male/Second/man/no",
          "male/Second/man/yes",
          "male/Third/man/no"
         ],
         "type": "sunburst",
         "values": {
          "bdata": "AAAAAAAATEAAAAAAAAAAAAAAAAAAAAAAAAAAAAAAAEAAAAAAAAAAAAAAAAAAQFZAAAAAAAAAJEAAAAAAAAAwQAAAAAAAAAAAAAAAAAAATkAAAAAAAAAAAAAAAAAAAAAAAAAAAAAAAAAAAAAAAAAAAAAAAAAAAABAAAAAAABAVkAAAAAAAABMQAAAAAAAACRAAAAAAAAAMEAAAAAAAABOQAAAAAAAAABAAAAAAADAVkAAAAAAAABSQAAAAAAAgFFAAAAAAAAAAAAAAAAAAAAAAAAAAAAAIG1AAAAAAAAAPUAAAAAAAAAAAAAAAAAAAExAAAAAAAAAAAAAAAAAAIBAQAAAAAAAAD9AAAAAAAAAAAAAAAAAAIBAQAAAAAAAAChAAAAAAAAAEEAAAAAAAAAkQAAAAAAAADdAAAAAAAAAAAAAAAAAAABDQAAAAAAAAEVAAAAAAAAAIkAAAAAAAAAiQAAAAAAAACBAAAAAAAAAIkAAAAAAAAAAAAAAAAAAAAhAAAAAAACAR0AAAAAAAAAAAAAAAAAAgEZAAAAAAAAAMUAAAAAAAAAIQAAAAAAAAAAAAAAAAAAAIkAAAAAAAAAiQAAAAAAAADFAAAAAAAAAIkAAAAAAAAAYQAAAAAAAAAhAAAAAAAAA8D8AAAAAAAAAAAAAAAAAAAAAAAAAAAAAQEAAAAAAAEBbQAAAAAAAAAAAAAAAAAAAAAAAAAAAAAAAAAAAAAAAADlAAAAAAAAAIEAAAAAAAAAAAAAAAAAAAAAAAAAAAAAARUAAAAAAAABDQAAAAAAAAAAAAAAAAAAAHEAAAAAAAAAAAA==",
          "dtype": "f8"
         }
        }
       ],
       "layout": {
        "legend": {
         "tracegroupgap": 0
        },
        "margin": {
         "t": 60
        },
        "template": {
         "data": {
          "bar": [
           {
            "error_x": {
             "color": "#2a3f5f"
            },
            "error_y": {
             "color": "#2a3f5f"
            },
            "marker": {
             "line": {
              "color": "#E5ECF6",
              "width": 0.5
             },
             "pattern": {
              "fillmode": "overlay",
              "size": 10,
              "solidity": 0.2
             }
            },
            "type": "bar"
           }
          ],
          "barpolar": [
           {
            "marker": {
             "line": {
              "color": "#E5ECF6",
              "width": 0.5
             },
             "pattern": {
              "fillmode": "overlay",
              "size": 10,
              "solidity": 0.2
             }
            },
            "type": "barpolar"
           }
          ],
          "carpet": [
           {
            "aaxis": {
             "endlinecolor": "#2a3f5f",
             "gridcolor": "white",
             "linecolor": "white",
             "minorgridcolor": "white",
             "startlinecolor": "#2a3f5f"
            },
            "baxis": {
             "endlinecolor": "#2a3f5f",
             "gridcolor": "white",
             "linecolor": "white",
             "minorgridcolor": "white",
             "startlinecolor": "#2a3f5f"
            },
            "type": "carpet"
           }
          ],
          "choropleth": [
           {
            "colorbar": {
             "outlinewidth": 0,
             "ticks": ""
            },
            "type": "choropleth"
           }
          ],
          "contour": [
           {
            "colorbar": {
             "outlinewidth": 0,
             "ticks": ""
            },
            "colorscale": [
             [
              0,
              "#0d0887"
             ],
             [
              0.1111111111111111,
              "#46039f"
             ],
             [
              0.2222222222222222,
              "#7201a8"
             ],
             [
              0.3333333333333333,
              "#9c179e"
             ],
             [
              0.4444444444444444,
              "#bd3786"
             ],
             [
              0.5555555555555556,
              "#d8576b"
             ],
             [
              0.6666666666666666,
              "#ed7953"
             ],
             [
              0.7777777777777778,
              "#fb9f3a"
             ],
             [
              0.8888888888888888,
              "#fdca26"
             ],
             [
              1,
              "#f0f921"
             ]
            ],
            "type": "contour"
           }
          ],
          "contourcarpet": [
           {
            "colorbar": {
             "outlinewidth": 0,
             "ticks": ""
            },
            "type": "contourcarpet"
           }
          ],
          "heatmap": [
           {
            "colorbar": {
             "outlinewidth": 0,
             "ticks": ""
            },
            "colorscale": [
             [
              0,
              "#0d0887"
             ],
             [
              0.1111111111111111,
              "#46039f"
             ],
             [
              0.2222222222222222,
              "#7201a8"
             ],
             [
              0.3333333333333333,
              "#9c179e"
             ],
             [
              0.4444444444444444,
              "#bd3786"
             ],
             [
              0.5555555555555556,
              "#d8576b"
             ],
             [
              0.6666666666666666,
              "#ed7953"
             ],
             [
              0.7777777777777778,
              "#fb9f3a"
             ],
             [
              0.8888888888888888,
              "#fdca26"
             ],
             [
              1,
              "#f0f921"
             ]
            ],
            "type": "heatmap"
           }
          ],
          "histogram": [
           {
            "marker": {
             "pattern": {
              "fillmode": "overlay",
              "size": 10,
              "solidity": 0.2
             }
            },
            "type": "histogram"
           }
          ],
          "histogram2d": [
           {
            "colorbar": {
             "outlinewidth": 0,
             "ticks": ""
            },
            "colorscale": [
             [
              0,
              "#0d0887"
             ],
             [
              0.1111111111111111,
              "#46039f"
             ],
             [
              0.2222222222222222,
              "#7201a8"
             ],
             [
              0.3333333333333333,
              "#9c179e"
             ],
             [
              0.4444444444444444,
              "#bd3786"
             ],
             [
              0.5555555555555556,
              "#d8576b"
             ],
             [
              0.6666666666666666,
              "#ed7953"
             ],
             [
              0.7777777777777778,
              "#fb9f3a"
             ],
             [
              0.8888888888888888,
              "#fdca26"
             ],
             [
              1,
              "#f0f921"
             ]
            ],
            "type": "histogram2d"
           }
          ],
          "histogram2dcontour": [
           {
            "colorbar": {
             "outlinewidth": 0,
             "ticks": ""
            },
            "colorscale": [
             [
              0,
              "#0d0887"
             ],
             [
              0.1111111111111111,
              "#46039f"
             ],
             [
              0.2222222222222222,
              "#7201a8"
             ],
             [
              0.3333333333333333,
              "#9c179e"
             ],
             [
              0.4444444444444444,
              "#bd3786"
             ],
             [
              0.5555555555555556,
              "#d8576b"
             ],
             [
              0.6666666666666666,
              "#ed7953"
             ],
             [
              0.7777777777777778,
              "#fb9f3a"
             ],
             [
              0.8888888888888888,
              "#fdca26"
             ],
             [
              1,
              "#f0f921"
             ]
            ],
            "type": "histogram2dcontour"
           }
          ],
          "mesh3d": [
           {
            "colorbar": {
             "outlinewidth": 0,
             "ticks": ""
            },
            "type": "mesh3d"
           }
          ],
          "parcoords": [
           {
            "line": {
             "colorbar": {
              "outlinewidth": 0,
              "ticks": ""
             }
            },
            "type": "parcoords"
           }
          ],
          "pie": [
           {
            "automargin": true,
            "type": "pie"
           }
          ],
          "scatter": [
           {
            "fillpattern": {
             "fillmode": "overlay",
             "size": 10,
             "solidity": 0.2
            },
            "type": "scatter"
           }
          ],
          "scatter3d": [
           {
            "line": {
             "colorbar": {
              "outlinewidth": 0,
              "ticks": ""
             }
            },
            "marker": {
             "colorbar": {
              "outlinewidth": 0,
              "ticks": ""
             }
            },
            "type": "scatter3d"
           }
          ],
          "scattercarpet": [
           {
            "marker": {
             "colorbar": {
              "outlinewidth": 0,
              "ticks": ""
             }
            },
            "type": "scattercarpet"
           }
          ],
          "scattergeo": [
           {
            "marker": {
             "colorbar": {
              "outlinewidth": 0,
              "ticks": ""
             }
            },
            "type": "scattergeo"
           }
          ],
          "scattergl": [
           {
            "marker": {
             "colorbar": {
              "outlinewidth": 0,
              "ticks": ""
             }
            },
            "type": "scattergl"
           }
          ],
          "scattermap": [
           {
            "marker": {
             "colorbar": {
              "outlinewidth": 0,
              "ticks": ""
             }
            },
            "type": "scattermap"
           }
          ],
          "scattermapbox": [
           {
            "marker": {
             "colorbar": {
              "outlinewidth": 0,
              "ticks": ""
             }
            },
            "type": "scattermapbox"
           }
          ],
          "scatterpolar": [
           {
            "marker": {
             "colorbar": {
              "outlinewidth": 0,
              "ticks": ""
             }
            },
            "type": "scatterpolar"
           }
          ],
          "scatterpolargl": [
           {
            "marker": {
             "colorbar": {
              "outlinewidth": 0,
              "ticks": ""
             }
            },
            "type": "scatterpolargl"
           }
          ],
          "scatterternary": [
           {
            "marker": {
             "colorbar": {
              "outlinewidth": 0,
              "ticks": ""
             }
            },
            "type": "scatterternary"
           }
          ],
          "surface": [
           {
            "colorbar": {
             "outlinewidth": 0,
             "ticks": ""
            },
            "colorscale": [
             [
              0,
              "#0d0887"
             ],
             [
              0.1111111111111111,
              "#46039f"
             ],
             [
              0.2222222222222222,
              "#7201a8"
             ],
             [
              0.3333333333333333,
              "#9c179e"
             ],
             [
              0.4444444444444444,
              "#bd3786"
             ],
             [
              0.5555555555555556,
              "#d8576b"
             ],
             [
              0.6666666666666666,
              "#ed7953"
             ],
             [
              0.7777777777777778,
              "#fb9f3a"
             ],
             [
              0.8888888888888888,
              "#fdca26"
             ],
             [
              1,
              "#f0f921"
             ]
            ],
            "type": "surface"
           }
          ],
          "table": [
           {
            "cells": {
             "fill": {
              "color": "#EBF0F8"
             },
             "line": {
              "color": "white"
             }
            },
            "header": {
             "fill": {
              "color": "#C8D4E3"
             },
             "line": {
              "color": "white"
             }
            },
            "type": "table"
           }
          ]
         },
         "layout": {
          "annotationdefaults": {
           "arrowcolor": "#2a3f5f",
           "arrowhead": 0,
           "arrowwidth": 1
          },
          "autotypenumbers": "strict",
          "coloraxis": {
           "colorbar": {
            "outlinewidth": 0,
            "ticks": ""
           }
          },
          "colorscale": {
           "diverging": [
            [
             0,
             "#8e0152"
            ],
            [
             0.1,
             "#c51b7d"
            ],
            [
             0.2,
             "#de77ae"
            ],
            [
             0.3,
             "#f1b6da"
            ],
            [
             0.4,
             "#fde0ef"
            ],
            [
             0.5,
             "#f7f7f7"
            ],
            [
             0.6,
             "#e6f5d0"
            ],
            [
             0.7,
             "#b8e186"
            ],
            [
             0.8,
             "#7fbc41"
            ],
            [
             0.9,
             "#4d9221"
            ],
            [
             1,
             "#276419"
            ]
           ],
           "sequential": [
            [
             0,
             "#0d0887"
            ],
            [
             0.1111111111111111,
             "#46039f"
            ],
            [
             0.2222222222222222,
             "#7201a8"
            ],
            [
             0.3333333333333333,
             "#9c179e"
            ],
            [
             0.4444444444444444,
             "#bd3786"
            ],
            [
             0.5555555555555556,
             "#d8576b"
            ],
            [
             0.6666666666666666,
             "#ed7953"
            ],
            [
             0.7777777777777778,
             "#fb9f3a"
            ],
            [
             0.8888888888888888,
             "#fdca26"
            ],
            [
             1,
             "#f0f921"
            ]
           ],
           "sequentialminus": [
            [
             0,
             "#0d0887"
            ],
            [
             0.1111111111111111,
             "#46039f"
            ],
            [
             0.2222222222222222,
             "#7201a8"
            ],
            [
             0.3333333333333333,
             "#9c179e"
            ],
            [
             0.4444444444444444,
             "#bd3786"
            ],
            [
             0.5555555555555556,
             "#d8576b"
            ],
            [
             0.6666666666666666,
             "#ed7953"
            ],
            [
             0.7777777777777778,
             "#fb9f3a"
            ],
            [
             0.8888888888888888,
             "#fdca26"
            ],
            [
             1,
             "#f0f921"
            ]
           ]
          },
          "colorway": [
           "#636efa",
           "#EF553B",
           "#00cc96",
           "#ab63fa",
           "#FFA15A",
           "#19d3f3",
           "#FF6692",
           "#B6E880",
           "#FF97FF",
           "#FECB52"
          ],
          "font": {
           "color": "#2a3f5f"
          },
          "geo": {
           "bgcolor": "white",
           "lakecolor": "white",
           "landcolor": "#E5ECF6",
           "showlakes": true,
           "showland": true,
           "subunitcolor": "white"
          },
          "hoverlabel": {
           "align": "left"
          },
          "hovermode": "closest",
          "mapbox": {
           "style": "light"
          },
          "paper_bgcolor": "white",
          "plot_bgcolor": "#E5ECF6",
          "polar": {
           "angularaxis": {
            "gridcolor": "white",
            "linecolor": "white",
            "ticks": ""
           },
           "bgcolor": "#E5ECF6",
           "radialaxis": {
            "gridcolor": "white",
            "linecolor": "white",
            "ticks": ""
           }
          },
          "scene": {
           "xaxis": {
            "backgroundcolor": "#E5ECF6",
            "gridcolor": "white",
            "gridwidth": 2,
            "linecolor": "white",
            "showbackground": true,
            "ticks": "",
            "zerolinecolor": "white"
           },
           "yaxis": {
            "backgroundcolor": "#E5ECF6",
            "gridcolor": "white",
            "gridwidth": 2,
            "linecolor": "white",
            "showbackground": true,
            "ticks": "",
            "zerolinecolor": "white"
           },
           "zaxis": {
            "backgroundcolor": "#E5ECF6",
            "gridcolor": "white",
            "gridwidth": 2,
            "linecolor": "white",
            "showbackground": true,
            "ticks": "",
            "zerolinecolor": "white"
           }
          },
          "shapedefaults": {
           "line": {
            "color": "#2a3f5f"
           }
          },
          "ternary": {
           "aaxis": {
            "gridcolor": "white",
            "linecolor": "white",
            "ticks": ""
           },
           "baxis": {
            "gridcolor": "white",
            "linecolor": "white",
            "ticks": ""
           },
           "bgcolor": "#E5ECF6",
           "caxis": {
            "gridcolor": "white",
            "linecolor": "white",
            "ticks": ""
           }
          },
          "title": {
           "x": 0.05
          },
          "xaxis": {
           "automargin": true,
           "gridcolor": "white",
           "linecolor": "white",
           "ticks": "",
           "title": {
            "standoff": 15
           },
           "zerolinecolor": "white",
           "zerolinewidth": 2
          },
          "yaxis": {
           "automargin": true,
           "gridcolor": "white",
           "linecolor": "white",
           "ticks": "",
           "title": {
            "standoff": 15
           },
           "zerolinecolor": "white",
           "zerolinewidth": 2
          }
         }
        }
       }
      }
     },
     "metadata": {},
     "output_type": "display_data"
    }
   ],
   "source": [
    "# create sunburst plot on titanic dataset\n",
    "import plotly.express as px\n",
    "import seaborn as sns\n",
    "# Load Titanic dataset\n",
    "df = sns.load_dataset('titanic')\n",
    "# Create a sunburst plot\n",
    "fig = px.sunburst(df, \n",
    "                  path=['sex','class', 'who', 'alive', 'alone'], \n",
    "                  values='survived' , color='sex')\n",
    "# Show the plot\n",
    "fig.show()"
   ]
  },
  {
   "cell_type": "code",
   "execution_count": 8,
   "metadata": {},
   "outputs": [
    {
     "data": {
      "text/html": [
       "<div>\n",
       "<style scoped>\n",
       "    .dataframe tbody tr th:only-of-type {\n",
       "        vertical-align: middle;\n",
       "    }\n",
       "\n",
       "    .dataframe tbody tr th {\n",
       "        vertical-align: top;\n",
       "    }\n",
       "\n",
       "    .dataframe thead th {\n",
       "        text-align: right;\n",
       "    }\n",
       "</style>\n",
       "<table border=\"1\" class=\"dataframe\">\n",
       "  <thead>\n",
       "    <tr style=\"text-align: right;\">\n",
       "      <th></th>\n",
       "      <th>total_bill</th>\n",
       "      <th>tip</th>\n",
       "      <th>sex</th>\n",
       "      <th>smoker</th>\n",
       "      <th>day</th>\n",
       "      <th>time</th>\n",
       "      <th>size</th>\n",
       "    </tr>\n",
       "  </thead>\n",
       "  <tbody>\n",
       "    <tr>\n",
       "      <th>0</th>\n",
       "      <td>16.99</td>\n",
       "      <td>1.01</td>\n",
       "      <td>Female</td>\n",
       "      <td>No</td>\n",
       "      <td>Sun</td>\n",
       "      <td>Dinner</td>\n",
       "      <td>2</td>\n",
       "    </tr>\n",
       "    <tr>\n",
       "      <th>1</th>\n",
       "      <td>10.34</td>\n",
       "      <td>1.66</td>\n",
       "      <td>Male</td>\n",
       "      <td>No</td>\n",
       "      <td>Sun</td>\n",
       "      <td>Dinner</td>\n",
       "      <td>3</td>\n",
       "    </tr>\n",
       "    <tr>\n",
       "      <th>2</th>\n",
       "      <td>21.01</td>\n",
       "      <td>3.50</td>\n",
       "      <td>Male</td>\n",
       "      <td>No</td>\n",
       "      <td>Sun</td>\n",
       "      <td>Dinner</td>\n",
       "      <td>3</td>\n",
       "    </tr>\n",
       "    <tr>\n",
       "      <th>3</th>\n",
       "      <td>23.68</td>\n",
       "      <td>3.31</td>\n",
       "      <td>Male</td>\n",
       "      <td>No</td>\n",
       "      <td>Sun</td>\n",
       "      <td>Dinner</td>\n",
       "      <td>2</td>\n",
       "    </tr>\n",
       "    <tr>\n",
       "      <th>4</th>\n",
       "      <td>24.59</td>\n",
       "      <td>3.61</td>\n",
       "      <td>Female</td>\n",
       "      <td>No</td>\n",
       "      <td>Sun</td>\n",
       "      <td>Dinner</td>\n",
       "      <td>4</td>\n",
       "    </tr>\n",
       "  </tbody>\n",
       "</table>\n",
       "</div>"
      ],
      "text/plain": [
       "   total_bill   tip     sex smoker  day    time  size\n",
       "0       16.99  1.01  Female     No  Sun  Dinner     2\n",
       "1       10.34  1.66    Male     No  Sun  Dinner     3\n",
       "2       21.01  3.50    Male     No  Sun  Dinner     3\n",
       "3       23.68  3.31    Male     No  Sun  Dinner     2\n",
       "4       24.59  3.61  Female     No  Sun  Dinner     4"
      ]
     },
     "execution_count": 8,
     "metadata": {},
     "output_type": "execute_result"
    }
   ],
   "source": [
    "tips = sns.load_dataset('tips')\n",
    "tips.head()"
   ]
  },
  {
   "cell_type": "code",
   "execution_count": 20,
   "metadata": {},
   "outputs": [
    {
     "data": {
      "application/vnd.plotly.v1+json": {
       "config": {
        "plotlyServerURL": "https://plot.ly"
       },
       "data": [
        {
         "branchvalues": "total",
         "customdata": [
          "Total Bill: 16.99<br>Size: 2<br>Tip: 1.01",
          "Total Bill: 10.34<br>Size: 3<br>Tip: 1.66",
          "Total Bill: 21.01<br>Size: 3<br>Tip: 3.5",
          "Total Bill: 23.68<br>Size: 2<br>Tip: 3.31",
          "Total Bill: 24.59<br>Size: 4<br>Tip: 3.61",
          "Total Bill: 25.29<br>Size: 4<br>Tip: 4.71",
          "Total Bill: 8.77<br>Size: 2<br>Tip: 2.0",
          "Total Bill: 26.88<br>Size: 4<br>Tip: 3.12",
          "Total Bill: 15.04<br>Size: 2<br>Tip: 1.96",
          "Total Bill: 14.78<br>Size: 2<br>Tip: 3.23",
          "Total Bill: 10.27<br>Size: 2<br>Tip: 1.71",
          "Total Bill: 35.26<br>Size: 4<br>Tip: 5.0",
          "Total Bill: 15.42<br>Size: 2<br>Tip: 1.57",
          "Total Bill: 18.43<br>Size: 4<br>Tip: 3.0",
          "Total Bill: 14.83<br>Size: 2<br>Tip: 3.02",
          "Total Bill: 21.58<br>Size: 2<br>Tip: 3.92",
          "Total Bill: 10.33<br>Size: 3<br>Tip: 1.67",
          "Total Bill: 16.29<br>Size: 3<br>Tip: 3.71",
          "Total Bill: 16.97<br>Size: 3<br>Tip: 3.5",
          "Total Bill: 20.65<br>Size: 3<br>Tip: 3.35",
          "Total Bill: 17.92<br>Size: 2<br>Tip: 4.08",
          "Total Bill: 20.29<br>Size: 2<br>Tip: 2.75",
          "Total Bill: 15.77<br>Size: 2<br>Tip: 2.23",
          "Total Bill: 39.42<br>Size: 4<br>Tip: 7.58",
          "Total Bill: 19.82<br>Size: 2<br>Tip: 3.18",
          "Total Bill: 17.81<br>Size: 4<br>Tip: 2.34",
          "Total Bill: 13.37<br>Size: 2<br>Tip: 2.0",
          "Total Bill: 12.69<br>Size: 2<br>Tip: 2.0",
          "Total Bill: 21.7<br>Size: 2<br>Tip: 4.3",
          "Total Bill: 19.65<br>Size: 2<br>Tip: 3.0",
          "Total Bill: 9.55<br>Size: 2<br>Tip: 1.45",
          "Total Bill: 18.35<br>Size: 4<br>Tip: 2.5",
          "Total Bill: 15.06<br>Size: 2<br>Tip: 3.0",
          "Total Bill: 20.69<br>Size: 4<br>Tip: 2.45",
          "Total Bill: 17.78<br>Size: 2<br>Tip: 3.27",
          "Total Bill: 24.06<br>Size: 3<br>Tip: 3.6",
          "Total Bill: 16.31<br>Size: 3<br>Tip: 2.0",
          "Total Bill: 16.93<br>Size: 3<br>Tip: 3.07",
          "Total Bill: 18.69<br>Size: 3<br>Tip: 2.31",
          "Total Bill: 31.27<br>Size: 3<br>Tip: 5.0",
          "Total Bill: 16.04<br>Size: 3<br>Tip: 2.24",
          "Total Bill: 17.46<br>Size: 2<br>Tip: 2.54",
          "Total Bill: 13.94<br>Size: 2<br>Tip: 3.06",
          "Total Bill: 9.68<br>Size: 2<br>Tip: 1.32",
          "Total Bill: 30.4<br>Size: 4<br>Tip: 5.6",
          "Total Bill: 18.29<br>Size: 2<br>Tip: 3.0",
          "Total Bill: 22.23<br>Size: 2<br>Tip: 5.0",
          "Total Bill: 32.4<br>Size: 4<br>Tip: 6.0",
          "Total Bill: 28.55<br>Size: 3<br>Tip: 2.05",
          "Total Bill: 18.04<br>Size: 2<br>Tip: 3.0",
          "Total Bill: 12.54<br>Size: 2<br>Tip: 2.5",
          "Total Bill: 10.29<br>Size: 2<br>Tip: 2.6",
          "Total Bill: 34.81<br>Size: 4<br>Tip: 5.2",
          "Total Bill: 9.94<br>Size: 2<br>Tip: 1.56",
          "Total Bill: 25.56<br>Size: 4<br>Tip: 4.34",
          "Total Bill: 19.49<br>Size: 2<br>Tip: 3.51",
          "Total Bill: 38.01<br>Size: 4<br>Tip: 3.0",
          "Total Bill: 26.41<br>Size: 2<br>Tip: 1.5",
          "Total Bill: 11.24<br>Size: 2<br>Tip: 1.76",
          "Total Bill: 48.27<br>Size: 4<br>Tip: 6.73",
          "Total Bill: 20.29<br>Size: 2<br>Tip: 3.21",
          "Total Bill: 13.81<br>Size: 2<br>Tip: 2.0",
          "Total Bill: 11.02<br>Size: 2<br>Tip: 1.98",
          "Total Bill: 18.29<br>Size: 4<br>Tip: 3.76",
          "Total Bill: 17.59<br>Size: 3<br>Tip: 2.64",
          "Total Bill: 20.08<br>Size: 3<br>Tip: 3.15",
          "Total Bill: 16.45<br>Size: 2<br>Tip: 2.47",
          "Total Bill: 3.07<br>Size: 1<br>Tip: 1.0",
          "Total Bill: 20.23<br>Size: 2<br>Tip: 2.01",
          "Total Bill: 15.01<br>Size: 2<br>Tip: 2.09",
          "Total Bill: 12.02<br>Size: 2<br>Tip: 1.97",
          "Total Bill: 17.07<br>Size: 3<br>Tip: 3.0",
          "Total Bill: 26.86<br>Size: 2<br>Tip: 3.14",
          "Total Bill: 25.28<br>Size: 2<br>Tip: 5.0",
          "Total Bill: 14.73<br>Size: 2<br>Tip: 2.2",
          "Total Bill: 10.51<br>Size: 2<br>Tip: 1.25",
          "Total Bill: 17.92<br>Size: 2<br>Tip: 3.08",
          "Total Bill: 27.2<br>Size: 4<br>Tip: 4.0",
          "Total Bill: 22.76<br>Size: 2<br>Tip: 3.0",
          "Total Bill: 17.29<br>Size: 2<br>Tip: 2.71",
          "Total Bill: 19.44<br>Size: 2<br>Tip: 3.0",
          "Total Bill: 16.66<br>Size: 2<br>Tip: 3.4",
          "Total Bill: 10.07<br>Size: 1<br>Tip: 1.83",
          "Total Bill: 32.68<br>Size: 2<br>Tip: 5.0",
          "Total Bill: 15.98<br>Size: 2<br>Tip: 2.03",
          "Total Bill: 34.83<br>Size: 4<br>Tip: 5.17",
          "Total Bill: 13.03<br>Size: 2<br>Tip: 2.0",
          "Total Bill: 18.28<br>Size: 2<br>Tip: 4.0",
          "Total Bill: 24.71<br>Size: 2<br>Tip: 5.85",
          "Total Bill: 21.16<br>Size: 2<br>Tip: 3.0",
          "Total Bill: 28.97<br>Size: 2<br>Tip: 3.0",
          "Total Bill: 22.49<br>Size: 2<br>Tip: 3.5",
          "Total Bill: 5.75<br>Size: 2<br>Tip: 1.0",
          "Total Bill: 16.32<br>Size: 2<br>Tip: 4.3",
          "Total Bill: 22.75<br>Size: 2<br>Tip: 3.25",
          "Total Bill: 40.17<br>Size: 4<br>Tip: 4.73",
          "Total Bill: 27.28<br>Size: 2<br>Tip: 4.0",
          "Total Bill: 12.03<br>Size: 2<br>Tip: 1.5",
          "Total Bill: 21.01<br>Size: 2<br>Tip: 3.0",
          "Total Bill: 12.46<br>Size: 2<br>Tip: 1.5",
          "Total Bill: 11.35<br>Size: 2<br>Tip: 2.5",
          "Total Bill: 15.38<br>Size: 2<br>Tip: 3.0",
          "Total Bill: 44.3<br>Size: 3<br>Tip: 2.5",
          "Total Bill: 22.42<br>Size: 2<br>Tip: 3.48",
          "Total Bill: 20.92<br>Size: 2<br>Tip: 4.08",
          "Total Bill: 15.36<br>Size: 2<br>Tip: 1.64",
          "Total Bill: 20.49<br>Size: 2<br>Tip: 4.06",
          "Total Bill: 25.21<br>Size: 2<br>Tip: 4.29",
          "Total Bill: 18.24<br>Size: 2<br>Tip: 3.76",
          "Total Bill: 14.31<br>Size: 2<br>Tip: 4.0",
          "Total Bill: 14.0<br>Size: 2<br>Tip: 3.0",
          "Total Bill: 7.25<br>Size: 1<br>Tip: 1.0",
          "Total Bill: 38.07<br>Size: 3<br>Tip: 4.0",
          "Total Bill: 23.95<br>Size: 2<br>Tip: 2.55",
          "Total Bill: 25.71<br>Size: 3<br>Tip: 4.0",
          "Total Bill: 17.31<br>Size: 2<br>Tip: 3.5",
          "Total Bill: 29.93<br>Size: 4<br>Tip: 5.07",
          "Total Bill: 10.65<br>Size: 2<br>Tip: 1.5",
          "Total Bill: 12.43<br>Size: 2<br>Tip: 1.8",
          "Total Bill: 24.08<br>Size: 4<br>Tip: 2.92",
          "Total Bill: 11.69<br>Size: 2<br>Tip: 2.31",
          "Total Bill: 13.42<br>Size: 2<br>Tip: 1.68",
          "Total Bill: 14.26<br>Size: 2<br>Tip: 2.5",
          "Total Bill: 15.95<br>Size: 2<br>Tip: 2.0",
          "Total Bill: 12.48<br>Size: 2<br>Tip: 2.52",
          "Total Bill: 29.8<br>Size: 6<br>Tip: 4.2",
          "Total Bill: 8.52<br>Size: 2<br>Tip: 1.48",
          "Total Bill: 14.52<br>Size: 2<br>Tip: 2.0",
          "Total Bill: 11.38<br>Size: 2<br>Tip: 2.0",
          "Total Bill: 22.82<br>Size: 3<br>Tip: 2.18",
          "Total Bill: 19.08<br>Size: 2<br>Tip: 1.5",
          "Total Bill: 20.27<br>Size: 2<br>Tip: 2.83",
          "Total Bill: 11.17<br>Size: 2<br>Tip: 1.5",
          "Total Bill: 12.26<br>Size: 2<br>Tip: 2.0",
          "Total Bill: 18.26<br>Size: 2<br>Tip: 3.25",
          "Total Bill: 8.51<br>Size: 2<br>Tip: 1.25",
          "Total Bill: 10.33<br>Size: 2<br>Tip: 2.0",
          "Total Bill: 14.15<br>Size: 2<br>Tip: 2.0",
          "Total Bill: 16.0<br>Size: 2<br>Tip: 2.0",
          "Total Bill: 13.16<br>Size: 2<br>Tip: 2.75",
          "Total Bill: 17.47<br>Size: 2<br>Tip: 3.5",
          "Total Bill: 34.3<br>Size: 6<br>Tip: 6.7",
          "Total Bill: 41.19<br>Size: 5<br>Tip: 5.0",
          "Total Bill: 27.05<br>Size: 6<br>Tip: 5.0",
          "Total Bill: 16.43<br>Size: 2<br>Tip: 2.3",
          "Total Bill: 8.35<br>Size: 2<br>Tip: 1.5",
          "Total Bill: 18.64<br>Size: 3<br>Tip: 1.36",
          "Total Bill: 11.87<br>Size: 2<br>Tip: 1.63",
          "Total Bill: 9.78<br>Size: 2<br>Tip: 1.73",
          "Total Bill: 7.51<br>Size: 2<br>Tip: 2.0",
          "Total Bill: 14.07<br>Size: 2<br>Tip: 2.5",
          "Total Bill: 13.13<br>Size: 2<br>Tip: 2.0",
          "Total Bill: 17.26<br>Size: 3<br>Tip: 2.74",
          "Total Bill: 24.55<br>Size: 4<br>Tip: 2.0",
          "Total Bill: 19.77<br>Size: 4<br>Tip: 2.0",
          "Total Bill: 29.85<br>Size: 5<br>Tip: 5.14",
          "Total Bill: 48.17<br>Size: 6<br>Tip: 5.0",
          "Total Bill: 25.0<br>Size: 4<br>Tip: 3.75",
          "Total Bill: 13.39<br>Size: 2<br>Tip: 2.61",
          "Total Bill: 16.49<br>Size: 4<br>Tip: 2.0",
          "Total Bill: 21.5<br>Size: 4<br>Tip: 3.5",
          "Total Bill: 12.66<br>Size: 2<br>Tip: 2.5",
          "Total Bill: 16.21<br>Size: 3<br>Tip: 2.0",
          "Total Bill: 13.81<br>Size: 2<br>Tip: 2.0",
          "Total Bill: 17.51<br>Size: 2<br>Tip: 3.0",
          "Total Bill: 24.52<br>Size: 3<br>Tip: 3.48",
          "Total Bill: 20.76<br>Size: 2<br>Tip: 2.24",
          "Total Bill: 31.71<br>Size: 4<br>Tip: 4.5",
          "Total Bill: 10.59<br>Size: 2<br>Tip: 1.61",
          "Total Bill: 10.63<br>Size: 2<br>Tip: 2.0",
          "Total Bill: 50.81<br>Size: 3<br>Tip: 10.0",
          "Total Bill: 15.81<br>Size: 2<br>Tip: 3.16",
          "Total Bill: 7.25<br>Size: 2<br>Tip: 5.15",
          "Total Bill: 31.85<br>Size: 2<br>Tip: 3.18",
          "Total Bill: 16.82<br>Size: 2<br>Tip: 4.0",
          "Total Bill: 32.9<br>Size: 2<br>Tip: 3.11",
          "Total Bill: 17.89<br>Size: 2<br>Tip: 2.0",
          "Total Bill: 14.48<br>Size: 2<br>Tip: 2.0",
          "Total Bill: 9.6<br>Size: 2<br>Tip: 4.0",
          "Total Bill: 34.63<br>Size: 2<br>Tip: 3.55",
          "Total Bill: 34.65<br>Size: 4<br>Tip: 3.68",
          "Total Bill: 23.33<br>Size: 2<br>Tip: 5.65",
          "Total Bill: 45.35<br>Size: 3<br>Tip: 3.5",
          "Total Bill: 23.17<br>Size: 4<br>Tip: 6.5",
          "Total Bill: 40.55<br>Size: 2<br>Tip: 3.0",
          "Total Bill: 20.69<br>Size: 5<br>Tip: 5.0",
          "Total Bill: 20.9<br>Size: 3<br>Tip: 3.5",
          "Total Bill: 30.46<br>Size: 5<br>Tip: 2.0",
          "Total Bill: 18.15<br>Size: 3<br>Tip: 3.5",
          "Total Bill: 23.1<br>Size: 3<br>Tip: 4.0",
          "Total Bill: 15.69<br>Size: 2<br>Tip: 1.5",
          "Total Bill: 19.81<br>Size: 2<br>Tip: 4.19",
          "Total Bill: 28.44<br>Size: 2<br>Tip: 2.56",
          "Total Bill: 15.48<br>Size: 2<br>Tip: 2.02",
          "Total Bill: 16.58<br>Size: 2<br>Tip: 4.0",
          "Total Bill: 7.56<br>Size: 2<br>Tip: 1.44",
          "Total Bill: 10.34<br>Size: 2<br>Tip: 2.0",
          "Total Bill: 43.11<br>Size: 4<br>Tip: 5.0",
          "Total Bill: 13.0<br>Size: 2<br>Tip: 2.0",
          "Total Bill: 13.51<br>Size: 2<br>Tip: 2.0",
          "Total Bill: 18.71<br>Size: 3<br>Tip: 4.0",
          "Total Bill: 12.74<br>Size: 2<br>Tip: 2.01",
          "Total Bill: 13.0<br>Size: 2<br>Tip: 2.0",
          "Total Bill: 16.4<br>Size: 2<br>Tip: 2.5",
          "Total Bill: 20.53<br>Size: 4<br>Tip: 4.0",
          "Total Bill: 16.47<br>Size: 3<br>Tip: 3.23",
          "Total Bill: 26.59<br>Size: 3<br>Tip: 3.41",
          "Total Bill: 38.73<br>Size: 4<br>Tip: 3.0",
          "Total Bill: 24.27<br>Size: 2<br>Tip: 2.03",
          "Total Bill: 12.76<br>Size: 2<br>Tip: 2.23",
          "Total Bill: 30.06<br>Size: 3<br>Tip: 2.0",
          "Total Bill: 25.89<br>Size: 4<br>Tip: 5.16",
          "Total Bill: 48.33<br>Size: 4<br>Tip: 9.0",
          "Total Bill: 13.27<br>Size: 2<br>Tip: 2.5",
          "Total Bill: 28.17<br>Size: 3<br>Tip: 6.5",
          "Total Bill: 12.9<br>Size: 2<br>Tip: 1.1",
          "Total Bill: 28.15<br>Size: 5<br>Tip: 3.0",
          "Total Bill: 11.59<br>Size: 2<br>Tip: 1.5",
          "Total Bill: 7.74<br>Size: 2<br>Tip: 1.44",
          "Total Bill: 30.14<br>Size: 4<br>Tip: 3.09",
          "Total Bill: 12.16<br>Size: 2<br>Tip: 2.2",
          "Total Bill: 13.42<br>Size: 2<br>Tip: 3.48",
          "Total Bill: 8.58<br>Size: 1<br>Tip: 1.92",
          "Total Bill: 15.98<br>Size: 3<br>Tip: 3.0",
          "Total Bill: 13.42<br>Size: 2<br>Tip: 1.58",
          "Total Bill: 16.27<br>Size: 2<br>Tip: 2.5",
          "Total Bill: 10.09<br>Size: 2<br>Tip: 2.0",
          "Total Bill: 20.45<br>Size: 4<br>Tip: 3.0",
          "Total Bill: 13.28<br>Size: 2<br>Tip: 2.72",
          "Total Bill: 22.12<br>Size: 2<br>Tip: 2.88",
          "Total Bill: 24.01<br>Size: 4<br>Tip: 2.0",
          "Total Bill: 15.69<br>Size: 3<br>Tip: 3.0",
          "Total Bill: 11.61<br>Size: 2<br>Tip: 3.39",
          "Total Bill: 10.77<br>Size: 2<br>Tip: 1.47",
          "Total Bill: 15.53<br>Size: 2<br>Tip: 3.0",
          "Total Bill: 10.07<br>Size: 2<br>Tip: 1.25",
          "Total Bill: 12.6<br>Size: 2<br>Tip: 1.0",
          "Total Bill: 32.83<br>Size: 2<br>Tip: 1.17",
          "Total Bill: 35.83<br>Size: 3<br>Tip: 4.67",
          "Total Bill: 29.03<br>Size: 3<br>Tip: 5.92",
          "Total Bill: 27.18<br>Size: 2<br>Tip: 2.0",
          "Total Bill: 22.67<br>Size: 2<br>Tip: 2.0",
          "Total Bill: 17.82<br>Size: 2<br>Tip: 1.75",
          "Total Bill: 18.78<br>Size: 2<br>Tip: 3.0"
         ],
         "domain": {
          "x": [
           0,
           1
          ],
          "y": [
           0,
           1
          ]
         },
         "hovertemplate": "<b>%{label}</b><br>%{customdata}<extra></extra>",
         "ids": [
          "Female/No/Sun/Dinner",
          "Female/Yes",
          "Female/No",
          "Female/Yes/Thur",
          "Female/Yes/Sun",
          "Female/No/Fri",
          "Female/Yes/Fri",
          "Female/No/Thur",
          "Female/Yes/Sat",
          "Female/No/Sat",
          "Female",
          "Female/No/Thur/Dinner",
          "Female/No/Fri/Lunch",
          "Female/Yes/Fri/Lunch",
          "Female/Yes/Thur/Lunch",
          "Female/No/Sun",
          "Female/Yes/Sun/Dinner",
          "Female/No/Fri/Dinner",
          "Female/Yes/Fri/Dinner",
          "Female/No/Sat/Dinner",
          "Female/No/Thur/Lunch",
          "Female/Yes/Sat/Dinner",
          "Male/Yes/Fri/Lunch",
          "Male/No/Sun/Dinner",
          "Male/Yes",
          "Male/No",
          "Male/No/Sat/Dinner",
          "Male/Yes/Sun",
          "Male/Yes/Sat/Dinner",
          "Male/No/Thur/Lunch",
          "Male/Yes/Thur/Lunch",
          "Male/Yes/Fri",
          "Male/Yes/Sun/Dinner",
          "Male/Yes/Thur",
          "Male/No/Thur",
          "Male/Yes/Sat",
          "Male/Yes/Fri/Dinner",
          "Male/No/Sat",
          "Male/No/Sun",
          "Male/No/Fri/Dinner",
          "Male/No/Fri",
          "Male"
         ],
         "labels": [
          "Dinner",
          "Yes",
          "No",
          "Thur",
          "Sun",
          "Fri",
          "Fri",
          "Thur",
          "Sat",
          "Sat",
          "Female",
          "Dinner",
          "Lunch",
          "Lunch",
          "Lunch",
          "Sun",
          "Dinner",
          "Dinner",
          "Dinner",
          "Dinner",
          "Lunch",
          "Dinner",
          "Lunch",
          "Dinner",
          "Yes",
          "No",
          "Dinner",
          "Sun",
          "Dinner",
          "Lunch",
          "Lunch",
          "Fri",
          "Dinner",
          "Thur",
          "Thur",
          "Sat",
          "Dinner",
          "Sat",
          "Sun",
          "Dinner",
          "Fri",
          "Male"
         ],
         "marker": {
          "colors": [
           "#636efa",
           "#636efa",
           "#636efa",
           "#636efa",
           "#636efa",
           "#636efa",
           "#636efa",
           "#636efa",
           "#636efa",
           "#636efa",
           "#636efa",
           "#636efa",
           "#636efa",
           "#636efa",
           "#636efa",
           "#636efa",
           "#636efa",
           "#636efa",
           "#636efa",
           "#636efa",
           "#636efa",
           "#636efa",
           "#EF553B",
           "#EF553B",
           "#EF553B",
           "#EF553B",
           "#EF553B",
           "#EF553B",
           "#EF553B",
           "#EF553B",
           "#EF553B",
           "#EF553B",
           "#EF553B",
           "#EF553B",
           "#EF553B",
           "#EF553B",
           "#EF553B",
           "#EF553B",
           "#EF553B",
           "#EF553B",
           "#EF553B",
           "#EF553B"
          ]
         },
         "name": "",
         "parents": [
          "Female/No/Sun",
          "Female",
          "Female",
          "Female/Yes",
          "Female/Yes",
          "Female/No",
          "Female/Yes",
          "Female/No",
          "Female/Yes",
          "Female/No",
          "",
          "Female/No/Thur",
          "Female/No/Fri",
          "Female/Yes/Fri",
          "Female/Yes/Thur",
          "Female/No",
          "Female/Yes/Sun",
          "Female/No/Fri",
          "Female/Yes/Fri",
          "Female/No/Sat",
          "Female/No/Thur",
          "Female/Yes/Sat",
          "Male/Yes/Fri",
          "Male/No/Sun",
          "Male",
          "Male",
          "Male/No/Sat",
          "Male/Yes",
          "Male/Yes/Sat",
          "Male/No/Thur",
          "Male/Yes/Thur",
          "Male/Yes",
          "Male/Yes/Sun",
          "Male/Yes",
          "Male/No",
          "Male/Yes",
          "Male/Yes/Fri",
          "Male/No",
          "Male/No",
          "Male/No/Fri",
          "Male/No",
          ""
         ],
         "type": "sunburst",
         "values": {
          "bdata": "rkfhehROR0CPwvUoXC9YQHE9CtejuGJArkfhehTuNEAAAAAAAAAsQAAAAAAAABlASOF6FK7HMkAfhetRuL5OQKRwPQrXg0VA9ihcj8K1QUC4HoXrUdBuQAAAAAAAAAhAAAAAAAAACEDsUbgehesfQK5H4XoU7jRArkfhehROR0AAAAAAAAAsQAAAAAAAAApAmpmZmZmZJUD2KFyPwrVBQB+F61G4Pk1ApHA9CteDRUDNzMzMzMwWQB+F61G4vmBACtejcD3iZkAAAAAAAOByQD4K16NwDVpAKVyPwvVoSkCPwvUoXG9TQArXo3A9ak1AFK5H4XqUPkCuR+F6FO41QClcj8L1aEpAFK5H4XqUPkAK16NwPWpNQI/C9Shcb1NAexSuR+E6MEA+CtejcA1aQB+F61G4vmBAAAAAAAAAFEAAAAAAAAAUQIXrUbgeUX5A",
          "dtype": "f8"
         }
        }
       ],
       "layout": {
        "legend": {
         "tracegroupgap": 0
        },
        "margin": {
         "t": 60
        },
        "template": {
         "data": {
          "bar": [
           {
            "error_x": {
             "color": "#2a3f5f"
            },
            "error_y": {
             "color": "#2a3f5f"
            },
            "marker": {
             "line": {
              "color": "#E5ECF6",
              "width": 0.5
             },
             "pattern": {
              "fillmode": "overlay",
              "size": 10,
              "solidity": 0.2
             }
            },
            "type": "bar"
           }
          ],
          "barpolar": [
           {
            "marker": {
             "line": {
              "color": "#E5ECF6",
              "width": 0.5
             },
             "pattern": {
              "fillmode": "overlay",
              "size": 10,
              "solidity": 0.2
             }
            },
            "type": "barpolar"
           }
          ],
          "carpet": [
           {
            "aaxis": {
             "endlinecolor": "#2a3f5f",
             "gridcolor": "white",
             "linecolor": "white",
             "minorgridcolor": "white",
             "startlinecolor": "#2a3f5f"
            },
            "baxis": {
             "endlinecolor": "#2a3f5f",
             "gridcolor": "white",
             "linecolor": "white",
             "minorgridcolor": "white",
             "startlinecolor": "#2a3f5f"
            },
            "type": "carpet"
           }
          ],
          "choropleth": [
           {
            "colorbar": {
             "outlinewidth": 0,
             "ticks": ""
            },
            "type": "choropleth"
           }
          ],
          "contour": [
           {
            "colorbar": {
             "outlinewidth": 0,
             "ticks": ""
            },
            "colorscale": [
             [
              0,
              "#0d0887"
             ],
             [
              0.1111111111111111,
              "#46039f"
             ],
             [
              0.2222222222222222,
              "#7201a8"
             ],
             [
              0.3333333333333333,
              "#9c179e"
             ],
             [
              0.4444444444444444,
              "#bd3786"
             ],
             [
              0.5555555555555556,
              "#d8576b"
             ],
             [
              0.6666666666666666,
              "#ed7953"
             ],
             [
              0.7777777777777778,
              "#fb9f3a"
             ],
             [
              0.8888888888888888,
              "#fdca26"
             ],
             [
              1,
              "#f0f921"
             ]
            ],
            "type": "contour"
           }
          ],
          "contourcarpet": [
           {
            "colorbar": {
             "outlinewidth": 0,
             "ticks": ""
            },
            "type": "contourcarpet"
           }
          ],
          "heatmap": [
           {
            "colorbar": {
             "outlinewidth": 0,
             "ticks": ""
            },
            "colorscale": [
             [
              0,
              "#0d0887"
             ],
             [
              0.1111111111111111,
              "#46039f"
             ],
             [
              0.2222222222222222,
              "#7201a8"
             ],
             [
              0.3333333333333333,
              "#9c179e"
             ],
             [
              0.4444444444444444,
              "#bd3786"
             ],
             [
              0.5555555555555556,
              "#d8576b"
             ],
             [
              0.6666666666666666,
              "#ed7953"
             ],
             [
              0.7777777777777778,
              "#fb9f3a"
             ],
             [
              0.8888888888888888,
              "#fdca26"
             ],
             [
              1,
              "#f0f921"
             ]
            ],
            "type": "heatmap"
           }
          ],
          "histogram": [
           {
            "marker": {
             "pattern": {
              "fillmode": "overlay",
              "size": 10,
              "solidity": 0.2
             }
            },
            "type": "histogram"
           }
          ],
          "histogram2d": [
           {
            "colorbar": {
             "outlinewidth": 0,
             "ticks": ""
            },
            "colorscale": [
             [
              0,
              "#0d0887"
             ],
             [
              0.1111111111111111,
              "#46039f"
             ],
             [
              0.2222222222222222,
              "#7201a8"
             ],
             [
              0.3333333333333333,
              "#9c179e"
             ],
             [
              0.4444444444444444,
              "#bd3786"
             ],
             [
              0.5555555555555556,
              "#d8576b"
             ],
             [
              0.6666666666666666,
              "#ed7953"
             ],
             [
              0.7777777777777778,
              "#fb9f3a"
             ],
             [
              0.8888888888888888,
              "#fdca26"
             ],
             [
              1,
              "#f0f921"
             ]
            ],
            "type": "histogram2d"
           }
          ],
          "histogram2dcontour": [
           {
            "colorbar": {
             "outlinewidth": 0,
             "ticks": ""
            },
            "colorscale": [
             [
              0,
              "#0d0887"
             ],
             [
              0.1111111111111111,
              "#46039f"
             ],
             [
              0.2222222222222222,
              "#7201a8"
             ],
             [
              0.3333333333333333,
              "#9c179e"
             ],
             [
              0.4444444444444444,
              "#bd3786"
             ],
             [
              0.5555555555555556,
              "#d8576b"
             ],
             [
              0.6666666666666666,
              "#ed7953"
             ],
             [
              0.7777777777777778,
              "#fb9f3a"
             ],
             [
              0.8888888888888888,
              "#fdca26"
             ],
             [
              1,
              "#f0f921"
             ]
            ],
            "type": "histogram2dcontour"
           }
          ],
          "mesh3d": [
           {
            "colorbar": {
             "outlinewidth": 0,
             "ticks": ""
            },
            "type": "mesh3d"
           }
          ],
          "parcoords": [
           {
            "line": {
             "colorbar": {
              "outlinewidth": 0,
              "ticks": ""
             }
            },
            "type": "parcoords"
           }
          ],
          "pie": [
           {
            "automargin": true,
            "type": "pie"
           }
          ],
          "scatter": [
           {
            "fillpattern": {
             "fillmode": "overlay",
             "size": 10,
             "solidity": 0.2
            },
            "type": "scatter"
           }
          ],
          "scatter3d": [
           {
            "line": {
             "colorbar": {
              "outlinewidth": 0,
              "ticks": ""
             }
            },
            "marker": {
             "colorbar": {
              "outlinewidth": 0,
              "ticks": ""
             }
            },
            "type": "scatter3d"
           }
          ],
          "scattercarpet": [
           {
            "marker": {
             "colorbar": {
              "outlinewidth": 0,
              "ticks": ""
             }
            },
            "type": "scattercarpet"
           }
          ],
          "scattergeo": [
           {
            "marker": {
             "colorbar": {
              "outlinewidth": 0,
              "ticks": ""
             }
            },
            "type": "scattergeo"
           }
          ],
          "scattergl": [
           {
            "marker": {
             "colorbar": {
              "outlinewidth": 0,
              "ticks": ""
             }
            },
            "type": "scattergl"
           }
          ],
          "scattermap": [
           {
            "marker": {
             "colorbar": {
              "outlinewidth": 0,
              "ticks": ""
             }
            },
            "type": "scattermap"
           }
          ],
          "scattermapbox": [
           {
            "marker": {
             "colorbar": {
              "outlinewidth": 0,
              "ticks": ""
             }
            },
            "type": "scattermapbox"
           }
          ],
          "scatterpolar": [
           {
            "marker": {
             "colorbar": {
              "outlinewidth": 0,
              "ticks": ""
             }
            },
            "type": "scatterpolar"
           }
          ],
          "scatterpolargl": [
           {
            "marker": {
             "colorbar": {
              "outlinewidth": 0,
              "ticks": ""
             }
            },
            "type": "scatterpolargl"
           }
          ],
          "scatterternary": [
           {
            "marker": {
             "colorbar": {
              "outlinewidth": 0,
              "ticks": ""
             }
            },
            "type": "scatterternary"
           }
          ],
          "surface": [
           {
            "colorbar": {
             "outlinewidth": 0,
             "ticks": ""
            },
            "colorscale": [
             [
              0,
              "#0d0887"
             ],
             [
              0.1111111111111111,
              "#46039f"
             ],
             [
              0.2222222222222222,
              "#7201a8"
             ],
             [
              0.3333333333333333,
              "#9c179e"
             ],
             [
              0.4444444444444444,
              "#bd3786"
             ],
             [
              0.5555555555555556,
              "#d8576b"
             ],
             [
              0.6666666666666666,
              "#ed7953"
             ],
             [
              0.7777777777777778,
              "#fb9f3a"
             ],
             [
              0.8888888888888888,
              "#fdca26"
             ],
             [
              1,
              "#f0f921"
             ]
            ],
            "type": "surface"
           }
          ],
          "table": [
           {
            "cells": {
             "fill": {
              "color": "#EBF0F8"
             },
             "line": {
              "color": "white"
             }
            },
            "header": {
             "fill": {
              "color": "#C8D4E3"
             },
             "line": {
              "color": "white"
             }
            },
            "type": "table"
           }
          ]
         },
         "layout": {
          "annotationdefaults": {
           "arrowcolor": "#2a3f5f",
           "arrowhead": 0,
           "arrowwidth": 1
          },
          "autotypenumbers": "strict",
          "coloraxis": {
           "colorbar": {
            "outlinewidth": 0,
            "ticks": ""
           }
          },
          "colorscale": {
           "diverging": [
            [
             0,
             "#8e0152"
            ],
            [
             0.1,
             "#c51b7d"
            ],
            [
             0.2,
             "#de77ae"
            ],
            [
             0.3,
             "#f1b6da"
            ],
            [
             0.4,
             "#fde0ef"
            ],
            [
             0.5,
             "#f7f7f7"
            ],
            [
             0.6,
             "#e6f5d0"
            ],
            [
             0.7,
             "#b8e186"
            ],
            [
             0.8,
             "#7fbc41"
            ],
            [
             0.9,
             "#4d9221"
            ],
            [
             1,
             "#276419"
            ]
           ],
           "sequential": [
            [
             0,
             "#0d0887"
            ],
            [
             0.1111111111111111,
             "#46039f"
            ],
            [
             0.2222222222222222,
             "#7201a8"
            ],
            [
             0.3333333333333333,
             "#9c179e"
            ],
            [
             0.4444444444444444,
             "#bd3786"
            ],
            [
             0.5555555555555556,
             "#d8576b"
            ],
            [
             0.6666666666666666,
             "#ed7953"
            ],
            [
             0.7777777777777778,
             "#fb9f3a"
            ],
            [
             0.8888888888888888,
             "#fdca26"
            ],
            [
             1,
             "#f0f921"
            ]
           ],
           "sequentialminus": [
            [
             0,
             "#0d0887"
            ],
            [
             0.1111111111111111,
             "#46039f"
            ],
            [
             0.2222222222222222,
             "#7201a8"
            ],
            [
             0.3333333333333333,
             "#9c179e"
            ],
            [
             0.4444444444444444,
             "#bd3786"
            ],
            [
             0.5555555555555556,
             "#d8576b"
            ],
            [
             0.6666666666666666,
             "#ed7953"
            ],
            [
             0.7777777777777778,
             "#fb9f3a"
            ],
            [
             0.8888888888888888,
             "#fdca26"
            ],
            [
             1,
             "#f0f921"
            ]
           ]
          },
          "colorway": [
           "#636efa",
           "#EF553B",
           "#00cc96",
           "#ab63fa",
           "#FFA15A",
           "#19d3f3",
           "#FF6692",
           "#B6E880",
           "#FF97FF",
           "#FECB52"
          ],
          "font": {
           "color": "#2a3f5f"
          },
          "geo": {
           "bgcolor": "white",
           "lakecolor": "white",
           "landcolor": "#E5ECF6",
           "showlakes": true,
           "showland": true,
           "subunitcolor": "white"
          },
          "hoverlabel": {
           "align": "left"
          },
          "hovermode": "closest",
          "mapbox": {
           "style": "light"
          },
          "paper_bgcolor": "white",
          "plot_bgcolor": "#E5ECF6",
          "polar": {
           "angularaxis": {
            "gridcolor": "white",
            "linecolor": "white",
            "ticks": ""
           },
           "bgcolor": "#E5ECF6",
           "radialaxis": {
            "gridcolor": "white",
            "linecolor": "white",
            "ticks": ""
           }
          },
          "scene": {
           "xaxis": {
            "backgroundcolor": "#E5ECF6",
            "gridcolor": "white",
            "gridwidth": 2,
            "linecolor": "white",
            "showbackground": true,
            "ticks": "",
            "zerolinecolor": "white"
           },
           "yaxis": {
            "backgroundcolor": "#E5ECF6",
            "gridcolor": "white",
            "gridwidth": 2,
            "linecolor": "white",
            "showbackground": true,
            "ticks": "",
            "zerolinecolor": "white"
           },
           "zaxis": {
            "backgroundcolor": "#E5ECF6",
            "gridcolor": "white",
            "gridwidth": 2,
            "linecolor": "white",
            "showbackground": true,
            "ticks": "",
            "zerolinecolor": "white"
           }
          },
          "shapedefaults": {
           "line": {
            "color": "#2a3f5f"
           }
          },
          "ternary": {
           "aaxis": {
            "gridcolor": "white",
            "linecolor": "white",
            "ticks": ""
           },
           "baxis": {
            "gridcolor": "white",
            "linecolor": "white",
            "ticks": ""
           },
           "bgcolor": "#E5ECF6",
           "caxis": {
            "gridcolor": "white",
            "linecolor": "white",
            "ticks": ""
           }
          },
          "title": {
           "x": 0.05
          },
          "xaxis": {
           "automargin": true,
           "gridcolor": "white",
           "linecolor": "white",
           "ticks": "",
           "title": {
            "standoff": 15
           },
           "zerolinecolor": "white",
           "zerolinewidth": 2
          },
          "yaxis": {
           "automargin": true,
           "gridcolor": "white",
           "linecolor": "white",
           "ticks": "",
           "title": {
            "standoff": 15
           },
           "zerolinecolor": "white",
           "zerolinewidth": 2
          }
         }
        }
       }
      }
     },
     "metadata": {},
     "output_type": "display_data"
    }
   ],
   "source": [
    "import plotly.express as px\n",
    "import seaborn as sns\n",
    "\n",
    "tips = sns.load_dataset(\"tips\")\n",
    "\n",
    "# Convert categoricals in the path to string\n",
    "for col in ['sex', 'smoker', 'day', 'time']:\n",
    "    tips[col] = tips[col].astype(str)\n",
    "\n",
    "# Build hover text\n",
    "tips[\"hover_text\"] = (\n",
    "    \"Total Bill: \" + tips[\"total_bill\"].astype(str) +\n",
    "    \"<br>Size: \" + tips[\"size\"].astype(str) +\n",
    "    \"<br>Tip: \" + tips[\"tip\"].astype(str)\n",
    ")\n",
    "\n",
    "# Sunburst\n",
    "fig = px.sunburst(\n",
    "    tips,\n",
    "    path=['sex', 'smoker', 'day', 'time'],\n",
    "    values='tip',\n",
    "    color='sex'\n",
    ")\n",
    "\n",
    "# Attach custom hover info\n",
    "fig.update_traces(\n",
    "    customdata=tips[\"hover_text\"],\n",
    "    hovertemplate=\"<b>%{label}</b><br>%{customdata}<extra></extra>\"\n",
    ")\n",
    "\n",
    "fig.show()\n"
   ]
  }
 ],
 "metadata": {
  "kernelspec": {
   "display_name": "python_eda",
   "language": "python",
   "name": "python3"
  },
  "language_info": {
   "codemirror_mode": {
    "name": "ipython",
    "version": 3
   },
   "file_extension": ".py",
   "mimetype": "text/x-python",
   "name": "python",
   "nbconvert_exporter": "python",
   "pygments_lexer": "ipython3",
   "version": "3.13.5"
  }
 },
 "nbformat": 4,
 "nbformat_minor": 2
}
