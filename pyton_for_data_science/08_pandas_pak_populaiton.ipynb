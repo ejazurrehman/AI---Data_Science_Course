{
 "cells": [
  {
   "cell_type": "markdown",
   "id": "0ac9faa7",
   "metadata": {},
   "source": [
    "# Pakistan Populatoin Analysis"
   ]
  },
  {
   "cell_type": "markdown",
   "id": "970fbe22",
   "metadata": {},
   "source": [
    "Author Name: Ejaz-ur-Rehman\\\n",
    "Date: August 20, 2025\\\n",
    "Email: ijazfinance@gmail.com"
   ]
  },
  {
   "cell_type": "markdown",
   "id": "3e39eeff",
   "metadata": {},
   "source": [
    "## About Dataset\n",
    "### Description:\n",
    "This dataset contains demographic information from the Pakistan Population Census conducted in 2017. It provides detailed population data at various administrative levels within Pakistan, including provinces, divisions, districts, and sub-divisions. The dataset also includes information on urban and rural populations, gender distribution, transgender individuals, sex ratios, population figures from the 1998 census, and annual growth rates.\n",
    "\n",
    "### Features:\n",
    "Province: The administrative provinces or regions of Pakistan where the census data was collected.\n",
    "\n",
    "Division: The divisions within each province. Divisions are the second level of administrative divisions in Pakistan.\n",
    "\n",
    "District: Districts within each division, representing larger administrative units.\n",
    "\n",
    "Sub-Division: Sub-divisions or tehsils within each district, providing more localized data.\n",
    "\n",
    "Area: The land area (in square kilometers) of each sub-division.\n",
    "\n",
    "Urban Population 2017: The population of urban areas within each sub-division for the year 2017.\n",
    "\n",
    "Rural Population 2017: The population of rural areas within each sub-division for the year 2017.\n",
    "\n",
    "Male Population 2017: The male population within each sub-division for the year 2017."
   ]
  }
 ],
 "metadata": {
  "language_info": {
   "name": "python"
  }
 },
 "nbformat": 4,
 "nbformat_minor": 5
}
