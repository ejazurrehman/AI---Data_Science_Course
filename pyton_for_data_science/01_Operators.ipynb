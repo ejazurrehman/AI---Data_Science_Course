{
 "cells": [
  {
   "cell_type": "markdown",
   "id": "0965b056",
   "metadata": {},
   "source": [
    "## Python Operators:\n",
    "Python has a wide range of operators that can be used for various purposes. Here are some of the most commonly used operators:\n",
    "1. Arithmetic Operators: These operators are used for mathematical operations like addition, subtraction, multiplication, division , etc.\n",
    "2. Comparison Operators: These operators are used for comparing two values. They return a boolean value (True or False) based on the comparison.\n",
    "3.  Logical Operators: These operators are used for logical operations like AND, OR, NOT, etc.\n",
    "4.   Assignment Operators: These operators are used for assigning values to variables.\n",
    "5.   Bitwise Operators: These operators are used for performing operations on bits.\n",
    "6.   Membership Operators: These operators are used for checking if a value is present in a sequenc\n",
    " "
   ]
  },
  {
   "cell_type": "markdown",
   "id": "993a4592",
   "metadata": {},
   "source": [
    "### 1. Arithmetic Operators"
   ]
  },
  {
   "cell_type": "markdown",
   "id": "8ea5cc49",
   "metadata": {},
   "source": [
    "1.1 Addition (+): Adds two numbers."
   ]
  },
  {
   "cell_type": "code",
   "execution_count": 2,
   "id": "dbf9eae8",
   "metadata": {},
   "outputs": [
    {
     "name": "stdout",
     "output_type": "stream",
     "text": [
      "Addition: 15\n"
     ]
    }
   ],
   "source": [
    "a = 10\n",
    "b = 5\n",
    "result = a + b\n",
    "print(\"Addition:\", result)  # Output: 15\n",
    "\n"
   ]
  },
  {
   "cell_type": "markdown",
   "id": "e092d450",
   "metadata": {},
   "source": [
    "1.2 Subtraction (-): Subtracts the second number from the first."
   ]
  },
  {
   "cell_type": "code",
   "execution_count": 3,
   "id": "605ac5e7",
   "metadata": {},
   "outputs": [
    {
     "name": "stdout",
     "output_type": "stream",
     "text": [
      "Subtraction: 5\n"
     ]
    }
   ],
   "source": [
    "a = 10\n",
    "b = 5\n",
    "result = a - b\n",
    "print(\"Subtraction:\", result)  # Output: 5\n"
   ]
  },
  {
   "cell_type": "markdown",
   "id": "a029f576",
   "metadata": {},
   "source": [
    "1.3 Multiplication (*): Multiplies two numbers."
   ]
  },
  {
   "cell_type": "code",
   "execution_count": 4,
   "id": "149a70b6",
   "metadata": {},
   "outputs": [
    {
     "name": "stdout",
     "output_type": "stream",
     "text": [
      "Multiplication: 50\n"
     ]
    }
   ],
   "source": [
    "a = 10\n",
    "b = 5\n",
    "result = a * b\n",
    "print(\"Multiplication:\", result)  # Output: 50\n"
   ]
  },
  {
   "cell_type": "markdown",
   "id": "fdc4eacb",
   "metadata": {},
   "source": [
    "1.4 Division (/): Divides the first number by the second (always returns a float)."
   ]
  },
  {
   "cell_type": "code",
   "execution_count": 5,
   "id": "49f3faaa",
   "metadata": {},
   "outputs": [
    {
     "name": "stdout",
     "output_type": "stream",
     "text": [
      "Division: 2.0\n"
     ]
    }
   ],
   "source": [
    "a = 10\n",
    "b = 5\n",
    "result = a / b\n",
    "print(\"Division:\", result)  # Output: 2.0\n"
   ]
  },
  {
   "cell_type": "markdown",
   "id": "b7b96276",
   "metadata": {},
   "source": [
    "1.5 Floor Division (//): Divides and returns the integer part only."
   ]
  },
  {
   "cell_type": "code",
   "execution_count": 6,
   "id": "0ec1a296",
   "metadata": {},
   "outputs": [
    {
     "name": "stdout",
     "output_type": "stream",
     "text": [
      "Floor Division: 3\n"
     ]
    }
   ],
   "source": [
    "a = 10\n",
    "b = 3\n",
    "result = a // b\n",
    "print(\"Floor Division:\", result)  # Output: 3\n"
   ]
  },
  {
   "cell_type": "markdown",
   "id": "96768492",
   "metadata": {},
   "source": [
    "1.6 Modulus (%): Returns the remainder after division."
   ]
  },
  {
   "cell_type": "code",
   "execution_count": 7,
   "id": "274728fc",
   "metadata": {},
   "outputs": [
    {
     "name": "stdout",
     "output_type": "stream",
     "text": [
      "Modulus: 1\n"
     ]
    }
   ],
   "source": [
    "a = 10\n",
    "b = 3\n",
    "result = a % b\n",
    "print(\"Modulus:\", result)  # Output: 1\n"
   ]
  },
  {
   "cell_type": "markdown",
   "id": "37cddcb0",
   "metadata": {},
   "source": [
    "1.7 Exponentiation (**): Raises a number to the power of another."
   ]
  },
  {
   "cell_type": "code",
   "execution_count": 8,
   "id": "e8daf42c",
   "metadata": {},
   "outputs": [
    {
     "name": "stdout",
     "output_type": "stream",
     "text": [
      "Exponentiation: 8\n"
     ]
    }
   ],
   "source": [
    "a = 2\n",
    "b = 3\n",
    "result = a ** b\n",
    "print(\"Exponentiation:\", result)  # Output: 8\n"
   ]
  },
  {
   "cell_type": "markdown",
   "id": "600bf62e",
   "metadata": {},
   "source": [
    "Example: Using multiple operators together"
   ]
  },
  {
   "cell_type": "code",
   "execution_count": 9,
   "id": "93f89868",
   "metadata": {},
   "outputs": [
    {
     "name": "stdout",
     "output_type": "stream",
     "text": [
      "Combined Operations: 9.0\n"
     ]
    }
   ],
   "source": [
    "x = 5\n",
    "y = 2\n",
    "\n",
    "result = x + y * 3 - 4 / 2\n",
    "print(\"Combined Operations:\", result)  # Output: 9.0\n"
   ]
  },
  {
   "cell_type": "markdown",
   "id": "6ab2f499",
   "metadata": {},
   "source": [
    "Note: Python follows operator precedence: () → ** → * / // % → + -"
   ]
  },
  {
   "cell_type": "markdown",
   "id": "f9d49e3f",
   "metadata": {},
   "source": [
    "Python script that demonstrates all arithmetic operators and lets you try your own numbers interactively:"
   ]
  },
  {
   "cell_type": "code",
   "execution_count": 10,
   "id": "f751b026",
   "metadata": {},
   "outputs": [
    {
     "name": "stdout",
     "output_type": "stream",
     "text": [
      "=== Python Arithmetic Operators ===\n",
      "\n",
      "Addition (a + b) = 12.0\n",
      "Subtraction (a - b) = -2.0\n",
      "Multiplication (a * b) = 35.0\n",
      "Division (a / b) = 0.7142857142857143\n",
      "Floor Division (a // b) = 0.0\n",
      "Modulus (a % b) = 5.0\n",
      "Exponentiation (a ** b) = 78125.0\n",
      "Combined Operation (a + b*3 - 4/2) = 24.0\n"
     ]
    }
   ],
   "source": [
    "# Python Arithmetic Operators Examples\n",
    "\n",
    "print(\"=== Python Arithmetic Operators ===\\n\")\n",
    "\n",
    "# Take two numbers as input from the user\n",
    "a = float(input(\"Enter first number (a): \"))\n",
    "b = float(input(\"Enter second number (b): \"))\n",
    "\n",
    "# 1️⃣ Addition\n",
    "print(f\"Addition (a + b) = {a + b}\")\n",
    "\n",
    "# 2️⃣ Subtraction\n",
    "print(f\"Subtraction (a - b) = {a - b}\")\n",
    "\n",
    "# 3️⃣ Multiplication\n",
    "print(f\"Multiplication (a * b) = {a * b}\")\n",
    "\n",
    "# 4️⃣ Division\n",
    "if b != 0:\n",
    "    print(f\"Division (a / b) = {a / b}\")\n",
    "else:\n",
    "    print(\"Division by zero is not allowed\")\n",
    "\n",
    "# 5️⃣ Floor Division\n",
    "if b != 0:\n",
    "    print(f\"Floor Division (a // b) = {a // b}\")\n",
    "else:\n",
    "    print(\"Floor division by zero is not allowed\")\n",
    "\n",
    "# 6️⃣ Modulus\n",
    "if b != 0:\n",
    "    print(f\"Modulus (a % b) = {a % b}\")\n",
    "else:\n",
    "    print(\"Modulus by zero is not allowed\")\n",
    "\n",
    "# 7️⃣ Exponentiation\n",
    "print(f\"Exponentiation (a ** b) = {a ** b}\")\n",
    "\n",
    "# 8️⃣ Combined Example\n",
    "if b != 0:\n",
    "    combined = a + b * 3 - 4 / 2\n",
    "    print(f\"Combined Operation (a + b*3 - 4/2) = {combined}\")\n"
   ]
  }
 ],
 "metadata": {
  "kernelspec": {
   "display_name": "python_eda",
   "language": "python",
   "name": "python3"
  },
  "language_info": {
   "codemirror_mode": {
    "name": "ipython",
    "version": 3
   },
   "file_extension": ".py",
   "mimetype": "text/x-python",
   "name": "python",
   "nbconvert_exporter": "python",
   "pygments_lexer": "ipython3",
   "version": "3.13.5"
  }
 },
 "nbformat": 4,
 "nbformat_minor": 5
}
