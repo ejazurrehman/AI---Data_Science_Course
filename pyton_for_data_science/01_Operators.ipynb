{
 "cells": [
  {
   "cell_type": "markdown",
   "id": "0965b056",
   "metadata": {},
   "source": [
    "## Python Operators:\n",
    "Python has a wide range of operators that can be used for various purposes. Here are some of the most commonly used operators:\n",
    "1. Arithmetic Operators: These operators are used for mathematical operations like addition, subtraction, multiplication, division , etc.\n",
    "2. Comparison Operators: These operators are used for comparing two values. They return a boolean value (True or False) based on the comparison.\n",
    "3.  Logical Operators: These operators are used for logical operations like AND, OR, NOT, etc.\n",
    "4.   Assignment Operators: These operators are used for assigning values to variables.\n",
    "5.   Bitwise Operators: These operators are used for performing operations on bits.\n",
    "6.   Membership Operators: These operators are used for checking if a value is present in a sequenc\n",
    " "
   ]
  },
  {
   "cell_type": "markdown",
   "id": "993a4592",
   "metadata": {},
   "source": [
    "### 1. Arithmetic Operators"
   ]
  },
  {
   "cell_type": "markdown",
   "id": "8ea5cc49",
   "metadata": {},
   "source": [
    "1.1 Addition (+): Adds two numbers."
   ]
  },
  {
   "cell_type": "code",
   "execution_count": 2,
   "id": "dbf9eae8",
   "metadata": {},
   "outputs": [
    {
     "name": "stdout",
     "output_type": "stream",
     "text": [
      "Addition: 15\n"
     ]
    }
   ],
   "source": [
    "a = 10\n",
    "b = 5\n",
    "result = a + b\n",
    "print(\"Addition:\", result)  # Output: 15\n",
    "\n"
   ]
  },
  {
   "cell_type": "markdown",
   "id": "e092d450",
   "metadata": {},
   "source": [
    "1.2 Subtraction (-): Subtracts the second number from the first."
   ]
  },
  {
   "cell_type": "code",
   "execution_count": 3,
   "id": "605ac5e7",
   "metadata": {},
   "outputs": [
    {
     "name": "stdout",
     "output_type": "stream",
     "text": [
      "Subtraction: 5\n"
     ]
    }
   ],
   "source": [
    "a = 10\n",
    "b = 5\n",
    "result = a - b\n",
    "print(\"Subtraction:\", result)  # Output: 5\n"
   ]
  },
  {
   "cell_type": "markdown",
   "id": "a029f576",
   "metadata": {},
   "source": [
    "1.3 Multiplication (*): Multiplies two numbers."
   ]
  },
  {
   "cell_type": "code",
   "execution_count": 4,
   "id": "149a70b6",
   "metadata": {},
   "outputs": [
    {
     "name": "stdout",
     "output_type": "stream",
     "text": [
      "Multiplication: 50\n"
     ]
    }
   ],
   "source": [
    "a = 10\n",
    "b = 5\n",
    "result = a * b\n",
    "print(\"Multiplication:\", result)  # Output: 50\n"
   ]
  },
  {
   "cell_type": "markdown",
   "id": "fdc4eacb",
   "metadata": {},
   "source": [
    "1.4 Division (/): Divides the first number by the second (always returns a float)."
   ]
  },
  {
   "cell_type": "code",
   "execution_count": 5,
   "id": "49f3faaa",
   "metadata": {},
   "outputs": [
    {
     "name": "stdout",
     "output_type": "stream",
     "text": [
      "Division: 2.0\n"
     ]
    }
   ],
   "source": [
    "a = 10\n",
    "b = 5\n",
    "result = a / b\n",
    "print(\"Division:\", result)  # Output: 2.0\n"
   ]
  },
  {
   "cell_type": "markdown",
   "id": "b7b96276",
   "metadata": {},
   "source": [
    "1.5 Floor Division (//): Divides and returns the integer part only."
   ]
  },
  {
   "cell_type": "code",
   "execution_count": 6,
   "id": "0ec1a296",
   "metadata": {},
   "outputs": [
    {
     "name": "stdout",
     "output_type": "stream",
     "text": [
      "Floor Division: 3\n"
     ]
    }
   ],
   "source": [
    "a = 10\n",
    "b = 3\n",
    "result = a // b\n",
    "print(\"Floor Division:\", result)  # Output: 3\n"
   ]
  },
  {
   "cell_type": "markdown",
   "id": "96768492",
   "metadata": {},
   "source": [
    "1.6 Modulus (%): Returns the remainder after division."
   ]
  },
  {
   "cell_type": "code",
   "execution_count": 7,
   "id": "274728fc",
   "metadata": {},
   "outputs": [
    {
     "name": "stdout",
     "output_type": "stream",
     "text": [
      "Modulus: 1\n"
     ]
    }
   ],
   "source": [
    "a = 10\n",
    "b = 3\n",
    "result = a % b\n",
    "print(\"Modulus:\", result)  # Output: 1\n"
   ]
  },
  {
   "cell_type": "markdown",
   "id": "37cddcb0",
   "metadata": {},
   "source": [
    "1.7 Exponentiation (**): Raises a number to the power of another."
   ]
  },
  {
   "cell_type": "code",
   "execution_count": 8,
   "id": "e8daf42c",
   "metadata": {},
   "outputs": [
    {
     "name": "stdout",
     "output_type": "stream",
     "text": [
      "Exponentiation: 8\n"
     ]
    }
   ],
   "source": [
    "a = 2\n",
    "b = 3\n",
    "result = a ** b\n",
    "print(\"Exponentiation:\", result)  # Output: 8\n"
   ]
  },
  {
   "cell_type": "markdown",
   "id": "600bf62e",
   "metadata": {},
   "source": [
    "Example: Using multiple operators together"
   ]
  },
  {
   "cell_type": "code",
   "execution_count": 9,
   "id": "93f89868",
   "metadata": {},
   "outputs": [
    {
     "name": "stdout",
     "output_type": "stream",
     "text": [
      "Combined Operations: 9.0\n"
     ]
    }
   ],
   "source": [
    "x = 5\n",
    "y = 2\n",
    "\n",
    "result = x + y * 3 - 4 / 2\n",
    "print(\"Combined Operations:\", result)  # Output: 9.0\n"
   ]
  },
  {
   "cell_type": "markdown",
   "id": "6ab2f499",
   "metadata": {},
   "source": [
    "💡 Tip: Python follows operator precedence: () → ** → * / // % → + -"
   ]
  },
  {
   "cell_type": "markdown",
   "id": "f9d49e3f",
   "metadata": {},
   "source": [
    "Demonstrates all arithmetic operators and lets you try your own numbers interactively:"
   ]
  },
  {
   "cell_type": "code",
   "execution_count": 10,
   "id": "f751b026",
   "metadata": {},
   "outputs": [
    {
     "name": "stdout",
     "output_type": "stream",
     "text": [
      "=== Python Arithmetic Operators ===\n",
      "\n",
      "Addition (a + b) = 12.0\n",
      "Subtraction (a - b) = -2.0\n",
      "Multiplication (a * b) = 35.0\n",
      "Division (a / b) = 0.7142857142857143\n",
      "Floor Division (a // b) = 0.0\n",
      "Modulus (a % b) = 5.0\n",
      "Exponentiation (a ** b) = 78125.0\n",
      "Combined Operation (a + b*3 - 4/2) = 24.0\n"
     ]
    }
   ],
   "source": [
    "# Python Arithmetic Operators Examples\n",
    "\n",
    "print(\"=== Python Arithmetic Operators ===\\n\")\n",
    "\n",
    "# Take two numbers as input from the user\n",
    "a = float(input(\"Enter first number (a): \"))\n",
    "b = float(input(\"Enter second number (b): \"))\n",
    "\n",
    "# 1️⃣ Addition\n",
    "print(f\"Addition (a + b) = {a + b}\")\n",
    "\n",
    "# 2️⃣ Subtraction\n",
    "print(f\"Subtraction (a - b) = {a - b}\")\n",
    "\n",
    "# 3️⃣ Multiplication\n",
    "print(f\"Multiplication (a * b) = {a * b}\")\n",
    "\n",
    "# 4️⃣ Division\n",
    "if b != 0:\n",
    "    print(f\"Division (a / b) = {a / b}\")\n",
    "else:\n",
    "    print(\"Division by zero is not allowed\")\n",
    "\n",
    "# 5️⃣ Floor Division\n",
    "if b != 0:\n",
    "    print(f\"Floor Division (a // b) = {a // b}\")\n",
    "else:\n",
    "    print(\"Floor division by zero is not allowed\")\n",
    "\n",
    "# 6️⃣ Modulus\n",
    "if b != 0:\n",
    "    print(f\"Modulus (a % b) = {a % b}\")\n",
    "else:\n",
    "    print(\"Modulus by zero is not allowed\")\n",
    "\n",
    "# 7️⃣ Exponentiation\n",
    "print(f\"Exponentiation (a ** b) = {a ** b}\")\n",
    "\n",
    "# 8️⃣ Combined Example\n",
    "if b != 0:\n",
    "    combined = a + b * 3 - 4 / 2\n",
    "    print(f\"Combined Operation (a + b*3 - 4/2) = {combined}\")\n"
   ]
  },
  {
   "cell_type": "markdown",
   "id": "bd7468fb",
   "metadata": {},
   "source": [
    "### 2. Comparison Operators"
   ]
  },
  {
   "cell_type": "markdown",
   "id": "9785ba68",
   "metadata": {},
   "source": [
    "2.1 Equal to (==): Checks if two values are equal."
   ]
  },
  {
   "cell_type": "code",
   "execution_count": 11,
   "id": "1936a496",
   "metadata": {},
   "outputs": [
    {
     "name": "stdout",
     "output_type": "stream",
     "text": [
      "False\n",
      "True\n"
     ]
    }
   ],
   "source": [
    "a = 10\n",
    "b = 5\n",
    "print(a == b)  # Output: False\n",
    "print(a == 10) # Output: True\n"
   ]
  },
  {
   "cell_type": "markdown",
   "id": "d1e7a3eb",
   "metadata": {},
   "source": [
    "2.2 Not equal to (!=): Checks if two values are not equal."
   ]
  },
  {
   "cell_type": "code",
   "execution_count": 12,
   "id": "dbba217b",
   "metadata": {},
   "outputs": [
    {
     "name": "stdout",
     "output_type": "stream",
     "text": [
      "True\n",
      "False\n"
     ]
    }
   ],
   "source": [
    "a = 10\n",
    "b = 5\n",
    "print(a != b)  # Output: True\n",
    "print(a != 10) # Output: False\n"
   ]
  },
  {
   "cell_type": "markdown",
   "id": "add212d5",
   "metadata": {},
   "source": [
    "2.3 Greater than (>): Checks if the left value is greater than the right."
   ]
  },
  {
   "cell_type": "code",
   "execution_count": 13,
   "id": "e12337ab",
   "metadata": {},
   "outputs": [
    {
     "name": "stdout",
     "output_type": "stream",
     "text": [
      "True\n",
      "False\n"
     ]
    }
   ],
   "source": [
    "a = 10\n",
    "b = 5\n",
    "print(a > b)   # Output: True\n",
    "print(b > a)   # Output: False\n"
   ]
  },
  {
   "cell_type": "markdown",
   "id": "2e599891",
   "metadata": {},
   "source": [
    "2.4 Less than (<): Checks if the left value is less than the right."
   ]
  },
  {
   "cell_type": "code",
   "execution_count": 14,
   "id": "d611c811",
   "metadata": {},
   "outputs": [
    {
     "name": "stdout",
     "output_type": "stream",
     "text": [
      "False\n",
      "True\n"
     ]
    }
   ],
   "source": [
    "a = 10\n",
    "b = 5\n",
    "print(a < b)   # Output: False\n",
    "print(b < a)   # Output: True\n"
   ]
  },
  {
   "cell_type": "markdown",
   "id": "902eb7e4",
   "metadata": {},
   "source": [
    "2.5 Greater than or equal to (>=): Checks if the left value is greater than or equal to the right."
   ]
  },
  {
   "cell_type": "code",
   "execution_count": 15,
   "id": "22945f3c",
   "metadata": {},
   "outputs": [
    {
     "name": "stdout",
     "output_type": "stream",
     "text": [
      "True\n",
      "True\n"
     ]
    }
   ],
   "source": [
    "a = 10\n",
    "b = 10\n",
    "print(a >= b)  # Output: True\n",
    "print(b >= a)  # Output: True\n"
   ]
  },
  {
   "cell_type": "markdown",
   "id": "dc2206b4",
   "metadata": {},
   "source": [
    "2.6 Less than or equal to (<=): Checks if the left value is less than or equal to the right."
   ]
  },
  {
   "cell_type": "code",
   "execution_count": 16,
   "id": "458808f9",
   "metadata": {},
   "outputs": [
    {
     "name": "stdout",
     "output_type": "stream",
     "text": [
      "True\n",
      "False\n"
     ]
    }
   ],
   "source": [
    "a = 10\n",
    "b = 15\n",
    "print(a <= b)  # Output: True\n",
    "print(b <= a)  # Output: False\n"
   ]
  },
  {
   "cell_type": "markdown",
   "id": "6c81c296",
   "metadata": {},
   "source": [
    "Example: Using comparison operators together."
   ]
  },
  {
   "cell_type": "code",
   "execution_count": 17,
   "id": "84da9857",
   "metadata": {},
   "outputs": [
    {
     "name": "stdout",
     "output_type": "stream",
     "text": [
      "x == y: False\n",
      "x != y: True\n",
      "x > y: False\n",
      "x < y: True\n",
      "x >= 7: True\n",
      "y <= 10: False\n"
     ]
    }
   ],
   "source": [
    "x = 7\n",
    "y = 12\n",
    "\n",
    "print(\"x == y:\", x == y)   # False\n",
    "print(\"x != y:\", x != y)   # True\n",
    "print(\"x > y:\", x > y)     # False\n",
    "print(\"x < y:\", x < y)     # True\n",
    "print(\"x >= 7:\", x >= 7)   # True\n",
    "print(\"y <= 10:\", y <= 10) # False\n"
   ]
  },
  {
   "cell_type": "markdown",
   "id": "1cc66905",
   "metadata": {},
   "source": [
    "💡 Tip: Comparison operators always return a Boolean value: True or False."
   ]
  },
  {
   "cell_type": "markdown",
   "id": "83beba64",
   "metadata": {},
   "source": [
    "Demonstrating all comparison operators interactively:"
   ]
  },
  {
   "cell_type": "code",
   "execution_count": 19,
   "id": "fb86ff7b",
   "metadata": {},
   "outputs": [
    {
     "name": "stdout",
     "output_type": "stream",
     "text": [
      "=== Python Comparison Operators ===\n",
      "\n",
      "5.5 == 8.9 : False\n",
      "5.5 != 8.9 : True\n",
      "5.5 > 8.9 : False\n",
      "5.5 < 8.9 : True\n",
      "5.5 >= 8.9 : False\n",
      "5.5 <= 8.9 : True\n",
      "\n",
      "Combined Checks:\n",
      "Is 5.5 greater than 5 and less than 8.9? : True\n",
      "Is 5.5 equal to 5 or equal to 8.9? : False\n"
     ]
    }
   ],
   "source": [
    "# Python Comparison Operators Examples\n",
    "\n",
    "print(\"=== Python Comparison Operators ===\\n\")\n",
    "\n",
    "# Take two numbers as input from the user\n",
    "a = float(input(\"Enter first number (a): \"))\n",
    "b = float(input(\"Enter second number (b): \"))\n",
    "\n",
    "# 1️⃣ Equal to\n",
    "print(f\"{a} == {b} : {a == b}\")\n",
    "\n",
    "# 2️⃣ Not equal to\n",
    "print(f\"{a} != {b} : {a != b}\")\n",
    "\n",
    "# 3️⃣ Greater than\n",
    "print(f\"{a} > {b} : {a > b}\")\n",
    "\n",
    "# 4️⃣ Less than\n",
    "print(f\"{a} < {b} : {a < b}\")\n",
    "\n",
    "# 5️⃣ Greater than or equal to\n",
    "print(f\"{a} >= {b} : {a >= b}\")\n",
    "\n",
    "# 6️⃣ Less than or equal to\n",
    "print(f\"{a} <= {b} : {a <= b}\")\n",
    "\n",
    "# 7️⃣ Combined Example\n",
    "print(\"\\nCombined Checks:\")\n",
    "print(f\"Is {a} greater than 5 and less than {b}? : {a > 5 and a < b}\")\n",
    "print(f\"Is {a} equal to 5 or equal to {b}? : {a == 5 or a == b}\")\n"
   ]
  },
  {
   "cell_type": "markdown",
   "id": "5eb9d281",
   "metadata": {},
   "source": [
    "### 3. Logical Operators"
   ]
  },
  {
   "cell_type": "markdown",
   "id": "c37668ce",
   "metadata": {},
   "source": [
    "3.1 and Operator: Returns True if both conditions are True."
   ]
  },
  {
   "cell_type": "code",
   "execution_count": 20,
   "id": "19bbafb5",
   "metadata": {},
   "outputs": [
    {
     "name": "stdout",
     "output_type": "stream",
     "text": [
      "True\n",
      "False\n"
     ]
    }
   ],
   "source": [
    "x = 5\n",
    "y = 10\n",
    "\n",
    "print(x > 0 and y > 5)  # True (both conditions are True)\n",
    "print(x > 0 and y < 5)  # False (second condition is False)\n"
   ]
  },
  {
   "cell_type": "markdown",
   "id": "5053b727",
   "metadata": {},
   "source": [
    "3.2 or Operator: Returns True if at least one condition is True."
   ]
  },
  {
   "cell_type": "code",
   "execution_count": 21,
   "id": "b662ec3a",
   "metadata": {},
   "outputs": [
    {
     "name": "stdout",
     "output_type": "stream",
     "text": [
      "True\n",
      "False\n"
     ]
    }
   ],
   "source": [
    "x = 5\n",
    "y = 10\n",
    "\n",
    "print(x > 0 or y < 5)   # True (first condition is True)\n",
    "print(x < 0 or y < 5)   # False (both conditions are False)\n"
   ]
  },
  {
   "cell_type": "markdown",
   "id": "66de2185",
   "metadata": {},
   "source": [
    "3.3 not Operator: Reverses the Boolean value of the condition."
   ]
  },
  {
   "cell_type": "code",
   "execution_count": 22,
   "id": "45ea058f",
   "metadata": {},
   "outputs": [
    {
     "name": "stdout",
     "output_type": "stream",
     "text": [
      "False\n",
      "True\n"
     ]
    }
   ],
   "source": [
    "x = 5\n",
    "\n",
    "print(not(x > 0))  # False (x > 0 is True, not True = False)\n",
    "print(not(x < 0))  # True  (x < 0 is False, not False = True)\n"
   ]
  },
  {
   "cell_type": "markdown",
   "id": "6b284dde",
   "metadata": {},
   "source": [
    "Combined Example:"
   ]
  },
  {
   "cell_type": "code",
   "execution_count": 23,
   "id": "6abcae16",
   "metadata": {},
   "outputs": [
    {
     "name": "stdout",
     "output_type": "stream",
     "text": [
      "True\n",
      "True\n",
      "False\n",
      "True\n"
     ]
    }
   ],
   "source": [
    "x = 7\n",
    "y = 12\n",
    "\n",
    "# Using and, or, not together\n",
    "print(x > 5 and y < 15)      # True\n",
    "print(x > 5 or y < 10)       # True\n",
    "print(not(x == 7))            # False\n",
    "print(not(x > 10 or y < 5))   # True\n"
   ]
  },
  {
   "cell_type": "markdown",
   "id": "d4f15c8c",
   "metadata": {},
   "source": [
    "💡 Tip: Logical operators are often used in if statements for decision-making:"
   ]
  },
  {
   "cell_type": "code",
   "execution_count": 24,
   "id": "5bd4740a",
   "metadata": {},
   "outputs": [
    {
     "name": "stdout",
     "output_type": "stream",
     "text": [
      "Eligible for loan\n"
     ]
    }
   ],
   "source": [
    "age = 20\n",
    "income = 50000\n",
    "\n",
    "if age > 18 and income > 30000:\n",
    "    print(\"Eligible for loan\")\n",
    "else:\n",
    "    print(\"Not eligible for loan\")\n"
   ]
  },
  {
   "cell_type": "markdown",
   "id": "d6a15f15",
   "metadata": {},
   "source": [
    "Demonstrate all logical operators interactively:"
   ]
  },
  {
   "cell_type": "code",
   "execution_count": 25,
   "id": "8f2484ce",
   "metadata": {},
   "outputs": [
    {
     "name": "stdout",
     "output_type": "stream",
     "text": [
      "=== Python Logical Operators ===\n",
      "\n",
      "\n",
      "Using 'and':\n",
      "Is a > 0 and b > 0? : True\n",
      "Is a > 0 and b < 0? : False\n",
      "\n",
      "Using 'or':\n",
      "Is a > 0 or b > 0? : True\n",
      "Is a < 0 or b < 0? : False\n",
      "\n",
      "Using 'not':\n",
      "not(a > 0) : False\n",
      "not(b < 0) : True\n",
      "\n",
      "Combined Example:\n",
      "(a > 0 and b > 0) or (a < 0) : True\n",
      "not(a == b) and (b > 0) : True\n"
     ]
    }
   ],
   "source": [
    "# Python Logical Operators Examples\n",
    "\n",
    "print(\"=== Python Logical Operators ===\\n\")\n",
    "\n",
    "# Take two numbers as input from the user\n",
    "a = float(input(\"Enter first number (a): \"))\n",
    "b = float(input(\"Enter second number (b): \"))\n",
    "\n",
    "# 1️⃣ 'and' Operator\n",
    "print(f\"\\nUsing 'and':\")\n",
    "print(f\"Is a > 0 and b > 0? : {a > 0 and b > 0}\")\n",
    "print(f\"Is a > 0 and b < 0? : {a > 0 and b < 0}\")\n",
    "\n",
    "# 2️⃣ 'or' Operator\n",
    "print(f\"\\nUsing 'or':\")\n",
    "print(f\"Is a > 0 or b > 0? : {a > 0 or b > 0}\")\n",
    "print(f\"Is a < 0 or b < 0? : {a < 0 or b < 0}\")\n",
    "\n",
    "# 3️⃣ 'not' Operator\n",
    "print(f\"\\nUsing 'not':\")\n",
    "print(f\"not(a > 0) : {not(a > 0)}\")\n",
    "print(f\"not(b < 0) : {not(b < 0)}\")\n",
    "\n",
    "# 4️⃣ Combined Example\n",
    "print(f\"\\nCombined Example:\")\n",
    "print(f\"(a > 0 and b > 0) or (a < 0) : {(a > 0 and b > 0) or (a < 0)}\")\n",
    "print(f\"not(a == b) and (b > 0) : {not(a == b) and (b > 0)}\")\n"
   ]
  },
  {
   "cell_type": "markdown",
   "id": "ece0ff0b",
   "metadata": {},
   "source": [
    "### 4. Assignment Operators"
   ]
  },
  {
   "cell_type": "markdown",
   "id": "82750e20",
   "metadata": {},
   "source": [
    "4.1 = : Simple Assignment: Assigns a value to a variable."
   ]
  },
  {
   "cell_type": "code",
   "execution_count": 26,
   "id": "6925df40",
   "metadata": {},
   "outputs": [
    {
     "name": "stdout",
     "output_type": "stream",
     "text": [
      "x = 10\n"
     ]
    }
   ],
   "source": [
    "x = 10\n",
    "print(\"x =\", x)  # Output: 10\n"
   ]
  },
  {
   "cell_type": "markdown",
   "id": "8414234a",
   "metadata": {},
   "source": [
    "4.2 += : Add and Assign: Adds a value to the variable and assigns the result back."
   ]
  },
  {
   "cell_type": "code",
   "execution_count": 27,
   "id": "1f8c3707",
   "metadata": {},
   "outputs": [
    {
     "name": "stdout",
     "output_type": "stream",
     "text": [
      "x after x += 5: 15\n"
     ]
    }
   ],
   "source": [
    "x = 10\n",
    "x += 5  # Equivalent to x = x + 5\n",
    "print(\"x after x += 5:\", x)  # Output: 15\n"
   ]
  },
  {
   "cell_type": "markdown",
   "id": "c67a3dc0",
   "metadata": {},
   "source": [
    "4.3 -= : Subtract and Assign: Subtracts a value from the variable and assigns the result back."
   ]
  },
  {
   "cell_type": "code",
   "execution_count": 28,
   "id": "bfb702ad",
   "metadata": {},
   "outputs": [
    {
     "name": "stdout",
     "output_type": "stream",
     "text": [
      "x after x -= 3: 7\n"
     ]
    }
   ],
   "source": [
    "x = 10\n",
    "x -= 3  # Equivalent to x = x - 3\n",
    "print(\"x after x -= 3:\", x)  # Output: 7\n"
   ]
  },
  {
   "cell_type": "markdown",
   "id": "f980b573",
   "metadata": {},
   "source": [
    "4.4 *= : Multiply and Assign: Multiplies the variable by a value and assigns the result back."
   ]
  },
  {
   "cell_type": "code",
   "execution_count": 29,
   "id": "bbaec99d",
   "metadata": {},
   "outputs": [
    {
     "name": "stdout",
     "output_type": "stream",
     "text": [
      "x after x *= 2: 20\n"
     ]
    }
   ],
   "source": [
    "x = 10\n",
    "x *= 2  # Equivalent to x = x * 2\n",
    "print(\"x after x *= 2:\", x)  # Output: 20\n"
   ]
  },
  {
   "cell_type": "markdown",
   "id": "0410f2ad",
   "metadata": {},
   "source": [
    "4.5 /= : Divide and Assign: ivides the variable by a value and assigns the result back."
   ]
  },
  {
   "cell_type": "code",
   "execution_count": 30,
   "id": "519badeb",
   "metadata": {},
   "outputs": [
    {
     "name": "stdout",
     "output_type": "stream",
     "text": [
      "x after x /= 4: 2.5\n"
     ]
    }
   ],
   "source": [
    "x = 10\n",
    "x /= 4  # Equivalent to x = x / 4\n",
    "print(\"x after x /= 4:\", x)  # Output: 2.5\n"
   ]
  },
  {
   "cell_type": "markdown",
   "id": "e82a3fc2",
   "metadata": {},
   "source": [
    "4.6 //= : Floor Divide and Assign: Divides and assigns the integer part of the result."
   ]
  },
  {
   "cell_type": "code",
   "execution_count": 31,
   "id": "5dee0454",
   "metadata": {},
   "outputs": [
    {
     "name": "stdout",
     "output_type": "stream",
     "text": [
      "x after x //= 3: 3\n"
     ]
    }
   ],
   "source": [
    "x = 10\n",
    "x //= 3  # Equivalent to x = x // 3\n",
    "print(\"x after x //= 3:\", x)  # Output: 3\n"
   ]
  },
  {
   "cell_type": "markdown",
   "id": "4062d670",
   "metadata": {},
   "source": [
    "4.7 %= : Modulus and Assign: Takes the remainder and assigns it back."
   ]
  },
  {
   "cell_type": "code",
   "execution_count": 32,
   "id": "0e1ae240",
   "metadata": {},
   "outputs": [
    {
     "name": "stdout",
     "output_type": "stream",
     "text": [
      "x after x %= 3: 1\n"
     ]
    }
   ],
   "source": [
    "x = 10\n",
    "x %= 3  # Equivalent to x = x % 3\n",
    "print(\"x after x %= 3:\", x)  # Output: 1\n"
   ]
  },
  {
   "cell_type": "markdown",
   "id": "937de3e2",
   "metadata": {},
   "source": [
    "4.8 **= : Exponent and Assign: Raises the variable to a power and assigns the result back."
   ]
  },
  {
   "cell_type": "code",
   "execution_count": 33,
   "id": "1d4fd8c2",
   "metadata": {},
   "outputs": [
    {
     "name": "stdout",
     "output_type": "stream",
     "text": [
      "x after x **= 3: 8\n"
     ]
    }
   ],
   "source": [
    "x = 2\n",
    "x **= 3  # Equivalent to x = x ** 3\n",
    "print(\"x after x **= 3:\", x)  # Output: 8\n"
   ]
  },
  {
   "cell_type": "markdown",
   "id": "f6f34770",
   "metadata": {},
   "source": [
    "Example: Using multiple assignment operators together:"
   ]
  },
  {
   "cell_type": "code",
   "execution_count": 34,
   "id": "71a46e2c",
   "metadata": {},
   "outputs": [
    {
     "name": "stdout",
     "output_type": "stream",
     "text": [
      "Initial a = 5\n",
      "After a += 3: 8\n",
      "After a *= 2: 16\n",
      "After a -= 4: 12\n",
      "After a /= 3: 4.0\n"
     ]
    }
   ],
   "source": [
    "a = 5\n",
    "print(\"Initial a =\", a)\n",
    "\n",
    "a += 3\n",
    "print(\"After a += 3:\", a)\n",
    "\n",
    "a *= 2\n",
    "print(\"After a *= 2:\", a)\n",
    "\n",
    "a -= 4\n",
    "print(\"After a -= 4:\", a)\n",
    "\n",
    "a /= 3\n",
    "print(\"After a /= 3:\", a)\n"
   ]
  },
  {
   "cell_type": "markdown",
   "id": "89c3ba96",
   "metadata": {},
   "source": [
    "Demonstrate all assignment operators interactively:"
   ]
  },
  {
   "cell_type": "code",
   "execution_count": 35,
   "id": "5f304053",
   "metadata": {},
   "outputs": [
    {
     "name": "stdout",
     "output_type": "stream",
     "text": [
      "=== Python Assignment Operators ===\n",
      "\n",
      "Initial x = 8.9\n",
      "\n",
      "x = x : 8.9\n",
      "x += 5 : 13.9\n",
      "x -= 3 : 10.9\n",
      "x *= 2 : 21.8\n",
      "x /= 4 : 5.45\n",
      "x //= 2 : 2.0\n",
      "x %= 3 : 2.0\n",
      "x **= 2 : 4.0\n"
     ]
    }
   ],
   "source": [
    "# Python Assignment Operators Examples\n",
    "\n",
    "print(\"=== Python Assignment Operators ===\\n\")\n",
    "\n",
    "# Take a number as input from the user\n",
    "x = float(input(\"Enter a number (x): \"))\n",
    "print(f\"Initial x = {x}\\n\")\n",
    "\n",
    "# 1️⃣ Simple Assignment (=)\n",
    "x = x\n",
    "print(f\"x = x : {x}\")\n",
    "\n",
    "# 2️⃣ Add and Assign (+=)\n",
    "x += 5\n",
    "print(f\"x += 5 : {x}\")\n",
    "\n",
    "# 3️⃣ Subtract and Assign (-=)\n",
    "x -= 3\n",
    "print(f\"x -= 3 : {x}\")\n",
    "\n",
    "# 4️⃣ Multiply and Assign (*=)\n",
    "x *= 2\n",
    "print(f\"x *= 2 : {x}\")\n",
    "\n",
    "# 5️⃣ Divide and Assign (/=)\n",
    "x /= 4\n",
    "print(f\"x /= 4 : {x}\")\n",
    "\n",
    "# 6️⃣ Floor Divide and Assign (//=)\n",
    "x //= 2\n",
    "print(f\"x //= 2 : {x}\")\n",
    "\n",
    "# 7️⃣ Modulus and Assign (%=)\n",
    "x %= 3\n",
    "print(f\"x %= 3 : {x}\")\n",
    "\n",
    "# 8️⃣ Exponent and Assign (**=)\n",
    "x **= 2\n",
    "print(f\"x **= 2 : {x}\")\n"
   ]
  },
  {
   "cell_type": "markdown",
   "id": "1598e3c6",
   "metadata": {},
   "source": [
    "### 5. Bitwise Operators"
   ]
  },
  {
   "cell_type": "markdown",
   "id": "9328677b",
   "metadata": {},
   "source": [
    "5.1 AND (&): Performs bitwise AND — 1 if both bits are 1, else 0."
   ]
  },
  {
   "cell_type": "code",
   "execution_count": 36,
   "id": "086cf13f",
   "metadata": {},
   "outputs": [
    {
     "name": "stdout",
     "output_type": "stream",
     "text": [
      "a & b = 1\n"
     ]
    }
   ],
   "source": [
    "a = 5   # 0101 in binary\n",
    "b = 3   # 0011 in binary\n",
    "\n",
    "print(\"a & b =\", a & b)  # Output: 1 (0001 in binary)\n"
   ]
  },
  {
   "cell_type": "markdown",
   "id": "c6f6df57",
   "metadata": {},
   "source": [
    "5.2 OR (|): Performs bitwise OR — 1 if at least one bit is 1."
   ]
  },
  {
   "cell_type": "code",
   "execution_count": 37,
   "id": "39bcaa72",
   "metadata": {},
   "outputs": [
    {
     "name": "stdout",
     "output_type": "stream",
     "text": [
      "a | b = 7\n"
     ]
    }
   ],
   "source": [
    "a = 5   # 0101\n",
    "b = 3   # 0011\n",
    "\n",
    "print(\"a | b =\", a | b)  # Output: 7 (0111 in binary)\n"
   ]
  },
  {
   "cell_type": "markdown",
   "id": "aeb8a3a3",
   "metadata": {},
   "source": [
    "5.3 XOR (^): Performs bitwise XOR — 1 if bits are different."
   ]
  },
  {
   "cell_type": "code",
   "execution_count": 38,
   "id": "b44e494a",
   "metadata": {},
   "outputs": [
    {
     "name": "stdout",
     "output_type": "stream",
     "text": [
      "a ^ b = 6\n"
     ]
    }
   ],
   "source": [
    "a = 5   # 0101\n",
    "b = 3   # 0011\n",
    "\n",
    "print(\"a ^ b =\", a ^ b)  # Output: 6 (0110 in binary)\n"
   ]
  },
  {
   "cell_type": "markdown",
   "id": "154237cb",
   "metadata": {},
   "source": [
    "5.4 NOT (~): Performs bitwise NOT — flips all bits."
   ]
  },
  {
   "cell_type": "code",
   "execution_count": 39,
   "id": "96eaee0d",
   "metadata": {},
   "outputs": [
    {
     "name": "stdout",
     "output_type": "stream",
     "text": [
      "~a = -6\n"
     ]
    }
   ],
   "source": [
    "a = 5   # 0101\n",
    "\n",
    "print(\"~a =\", ~a)        # Output: -6 (two's complement representation)\n"
   ]
  },
  {
   "cell_type": "markdown",
   "id": "72bb450a",
   "metadata": {},
   "source": [
    "5.5 Left Shift (<<): Shifts bits to the left, filling with 0 on the right."
   ]
  },
  {
   "cell_type": "code",
   "execution_count": 40,
   "id": "266d7fd4",
   "metadata": {},
   "outputs": [
    {
     "name": "stdout",
     "output_type": "stream",
     "text": [
      "a << 1 = 10\n",
      "a << 2 = 20\n"
     ]
    }
   ],
   "source": [
    "a = 5   # 0101\n",
    "\n",
    "print(\"a << 1 =\", a << 1)  # Output: 10 (1010)\n",
    "print(\"a << 2 =\", a << 2)  # Output: 20 (10100)\n"
   ]
  },
  {
   "cell_type": "markdown",
   "id": "118059da",
   "metadata": {},
   "source": [
    "5.6 Right Shift (>>): Shifts bits to the right, dropping bits on the right."
   ]
  },
  {
   "cell_type": "code",
   "execution_count": 41,
   "id": "f5ffa79e",
   "metadata": {},
   "outputs": [
    {
     "name": "stdout",
     "output_type": "stream",
     "text": [
      "a >> 1 = 10\n",
      "a >> 2 = 5\n"
     ]
    }
   ],
   "source": [
    "a = 20  # 10100\n",
    "\n",
    "print(\"a >> 1 =\", a >> 1)  # Output: 10 (01010)\n",
    "print(\"a >> 2 =\", a >> 2)  # Output: 5  (00101)\n"
   ]
  },
  {
   "cell_type": "markdown",
   "id": "2a61f759",
   "metadata": {},
   "source": [
    "Example: Using multiple bitwise operators:"
   ]
  },
  {
   "cell_type": "code",
   "execution_count": 42,
   "id": "2debedd7",
   "metadata": {},
   "outputs": [
    {
     "name": "stdout",
     "output_type": "stream",
     "text": [
      "x & y = 4\n",
      "x | y = 13\n",
      "x ^ y = 9\n",
      "~x = -13\n",
      "x << 2 = 48\n",
      "x >> 2 = 3\n"
     ]
    }
   ],
   "source": [
    "x = 12  # 1100\n",
    "y = 5   # 0101\n",
    "\n",
    "print(\"x & y =\", x & y)  # 4\n",
    "print(\"x | y =\", x | y)  # 13\n",
    "print(\"x ^ y =\", x ^ y)  # 9\n",
    "print(\"~x =\", ~x)        # -13\n",
    "print(\"x << 2 =\", x << 2) # 48\n",
    "print(\"x >> 2 =\", x >> 2) # 3\n"
   ]
  },
  {
   "cell_type": "markdown",
   "id": "dd7ff26a",
   "metadata": {},
   "source": [
    "💡 Tip: Bitwise operators are commonly used in:\n",
    "- Low-level programming\n",
    "- Masking bits\n",
    "- Cryptography\n",
    "- Performance optimization for integers"
   ]
  },
  {
   "cell_type": "markdown",
   "id": "19b531e6",
   "metadata": {},
   "source": [
    "Demonstrate all bitwise operators interactively:"
   ]
  },
  {
   "cell_type": "code",
   "execution_count": 44,
   "id": "8abdd5b2",
   "metadata": {},
   "outputs": [
    {
     "name": "stdout",
     "output_type": "stream",
     "text": [
      "=== Python Bitwise Operators ===\n",
      "\n",
      "a & b = 9\n",
      "a | b = 31\n",
      "a ^ b = 22\n",
      "~a = -16\n",
      "~b = -26\n",
      "a << 20 = 15728640\n",
      "b << 20 = 26214400\n",
      "a >> 30 = 0\n",
      "b >> 30 = 0\n"
     ]
    }
   ],
   "source": [
    "# Python Bitwise Operators Examples\n",
    "\n",
    "print(\"=== Python Bitwise Operators ===\\n\")\n",
    "\n",
    "# Take two integers as input from the user\n",
    "a = int(input(\"Enter first integer (a): \"))\n",
    "b = int(input(\"Enter second integer (b): \"))\n",
    "\n",
    "# 1️⃣ AND (&)\n",
    "print(f\"a & b = {a & b}\")\n",
    "\n",
    "# 2️⃣ OR (|)\n",
    "print(f\"a | b = {a | b}\")\n",
    "\n",
    "# 3️⃣ XOR (^)\n",
    "print(f\"a ^ b = {a ^ b}\")\n",
    "\n",
    "# 4️⃣ NOT (~)\n",
    "print(f\"~a = {~a}\")\n",
    "print(f\"~b = {~b}\")\n",
    "\n",
    "# 5️⃣ Left Shift (<<)\n",
    "shift_amount = int(input(\"Enter shift amount for left shift: \"))\n",
    "print(f\"a << {shift_amount} = {a << shift_amount}\")\n",
    "print(f\"b << {shift_amount} = {b << shift_amount}\")\n",
    "\n",
    "# 6️⃣ Right Shift (>>)\n",
    "shift_amount = int(input(\"Enter shift amount for right shift: \"))\n",
    "print(f\"a >> {shift_amount} = {a >> shift_amount}\")\n",
    "print(f\"b >> {shift_amount} = {b >> shift_amount}\")\n"
   ]
  },
  {
   "cell_type": "markdown",
   "id": "5725a86d",
   "metadata": {},
   "source": [
    "### 6. Membership Operators"
   ]
  },
  {
   "cell_type": "markdown",
   "id": "76b7aaae",
   "metadata": {},
   "source": [
    "6.1 in Operator: Returns True if a value exists in a sequence."
   ]
  },
  {
   "cell_type": "code",
   "execution_count": 45,
   "id": "65e9109d",
   "metadata": {},
   "outputs": [
    {
     "name": "stdout",
     "output_type": "stream",
     "text": [
      "True\n",
      "False\n",
      "True\n",
      "False\n"
     ]
    }
   ],
   "source": [
    "# Example with a list\n",
    "fruits = ['apple', 'banana', 'cherry']\n",
    "print('apple' in fruits)   # True\n",
    "print('mango' in fruits)   # False\n",
    "\n",
    "# Example with a string\n",
    "text = \"Hello World\"\n",
    "print('Hello' in text)     # True\n",
    "print('hello' in text)     # False (case-sensitive)\n"
   ]
  },
  {
   "cell_type": "markdown",
   "id": "25d5c8f9",
   "metadata": {},
   "source": [
    "6.2 not in Operator: Returns True if a value does NOT exist in a sequence."
   ]
  },
  {
   "cell_type": "code",
   "execution_count": 46,
   "id": "f30ea9f7",
   "metadata": {},
   "outputs": [
    {
     "name": "stdout",
     "output_type": "stream",
     "text": [
      "True\n",
      "False\n",
      "True\n",
      "False\n"
     ]
    }
   ],
   "source": [
    "# Example with a list\n",
    "fruits = ['apple', 'banana', 'cherry']\n",
    "print('mango' not in fruits)  # True\n",
    "print('banana' not in fruits) # False\n",
    "\n",
    "# Example with a string\n",
    "text = \"Python Programming\"\n",
    "print('Java' not in text)     # True\n",
    "print('Python' not in text)   # False\n"
   ]
  },
  {
   "cell_type": "markdown",
   "id": "aeef2113",
   "metadata": {},
   "source": [
    "Example: Using membership operators together:"
   ]
  },
  {
   "cell_type": "code",
   "execution_count": 47,
   "id": "85d915f5",
   "metadata": {},
   "outputs": [
    {
     "name": "stdout",
     "output_type": "stream",
     "text": [
      "green is in the list\n",
      "Yellow is not in the list\n"
     ]
    }
   ],
   "source": [
    "colors = ['red', 'green', 'blue']\n",
    "favorite = 'green'\n",
    "\n",
    "if favorite in colors:\n",
    "    print(f\"{favorite} is in the list\")\n",
    "else:\n",
    "    print(f\"{favorite} is NOT in the list\")\n",
    "\n",
    "if 'yellow' not in colors:\n",
    "    print(\"Yellow is not in the list\")\n"
   ]
  },
  {
   "cell_type": "markdown",
   "id": "9471cbd8",
   "metadata": {},
   "source": [
    "💡 Tip: Membership operators are commonly used for:\n",
    "- Checking if an item exists in a list, tuple, or set\n",
    "- Checking if a substring exists in a string\n",
    "- Conditional statements for decision-making"
   ]
  },
  {
   "cell_type": "markdown",
   "id": "eb7a4dce",
   "metadata": {},
   "source": [
    "Demonstrate all membership operators interactively:"
   ]
  },
  {
   "cell_type": "code",
   "execution_count": 48,
   "id": "0f698f59",
   "metadata": {},
   "outputs": [
    {
     "name": "stdout",
     "output_type": "stream",
     "text": [
      "=== Python Membership Operators ===\n",
      "\n",
      "Your list: ['cofee', 'tea']\n",
      "\n",
      "'5' is NOT in the list.\n",
      "'5' is not in the list (using 'not in').\n",
      "'Shazia' is NOT found in the string.\n",
      "'Shazia' is NOT in the string (using 'not in').\n"
     ]
    }
   ],
   "source": [
    "# Python Membership Operators Examples\n",
    "\n",
    "print(\"=== Python Membership Operators ===\\n\")\n",
    "\n",
    "# Input a list of items from the user\n",
    "items = input(\"Enter a list of items separated by commas: \").split(',')\n",
    "items = [item.strip() for item in items]  # Remove extra spaces\n",
    "print(f\"Your list: {items}\\n\")\n",
    "\n",
    "# Input a value to check for membership\n",
    "value = input(\"Enter a value to check if it is in the list: \").strip()\n",
    "\n",
    "# 1️⃣ Using 'in'\n",
    "if value in items:\n",
    "    print(f\"'{value}' is in the list.\")\n",
    "else:\n",
    "    print(f\"'{value}' is NOT in the list.\")\n",
    "\n",
    "# 2️⃣ Using 'not in'\n",
    "if value not in items:\n",
    "    print(f\"'{value}' is not in the list (using 'not in').\")\n",
    "else:\n",
    "    print(f\"'{value}' is in the list (using 'not in').\")\n",
    "\n",
    "# Example with a string\n",
    "text = input(\"\\nEnter a string: \")\n",
    "substring = input(\"Enter a substring to check in the string: \")\n",
    "\n",
    "if substring in text:\n",
    "    print(f\"'{substring}' is found in the string.\")\n",
    "else:\n",
    "    print(f\"'{substring}' is NOT found in the string.\")\n",
    "\n",
    "if substring not in text:\n",
    "    print(f\"'{substring}' is NOT in the string (using 'not in').\")\n",
    "else:\n",
    "    print(f\"'{substring}' is in the string (using 'not in').\")\n"
   ]
  }
 ],
 "metadata": {
  "kernelspec": {
   "display_name": "python_eda",
   "language": "python",
   "name": "python3"
  },
  "language_info": {
   "codemirror_mode": {
    "name": "ipython",
    "version": 3
   },
   "file_extension": ".py",
   "mimetype": "text/x-python",
   "name": "python",
   "nbconvert_exporter": "python",
   "pygments_lexer": "ipython3",
   "version": "3.13.5"
  }
 },
 "nbformat": 4,
 "nbformat_minor": 5
}
