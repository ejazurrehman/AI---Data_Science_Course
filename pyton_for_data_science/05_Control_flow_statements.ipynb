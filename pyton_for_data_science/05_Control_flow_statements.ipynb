{
 "cells": [
  {
   "cell_type": "markdown",
   "id": "670ae435",
   "metadata": {},
   "source": [
    "## Control Flow Statements"
   ]
  },
  {
   "cell_type": "markdown",
   "id": "dc13ef7a",
   "metadata": {},
   "source": [
    "### What is Control Flow in Python?\n",
    "- Control flow refers to the order in which individual statements, instructions, or function calls are executed in a program.\n",
    "- By default, Python executes code from top to bottom, line by line.\n",
    "- However, control flow statements let you change this sequence, for example:\n",
    "  - Decide which block of code to run (conditional statements)\n",
    "  - Repeat a block of code multiple times (loops)\n",
    "  - Jump out of or skip iterations in a loop (loop control statements)"
   ]
  },
  {
   "cell_type": "markdown",
   "id": "03361122",
   "metadata": {},
   "source": [
    "### Types of Control Flow in Python"
   ]
  },
  {
   "cell_type": "markdown",
   "id": "7e9940fd",
   "metadata": {},
   "source": [
    "#### 1. Conditional Statements (Decision Making):These let the program choose which code to execute based on a condition."
   ]
  },
  {
   "cell_type": "code",
   "execution_count": 1,
   "id": "d23ea6af",
   "metadata": {},
   "outputs": [
    {
     "name": "stdout",
     "output_type": "stream",
     "text": [
      "You are an adult.\n"
     ]
    }
   ],
   "source": [
    "age = 20\n",
    "\n",
    "if age >= 18:\n",
    "    print(\"You are an adult.\")\n",
    "elif age > 12:\n",
    "    print(\"You are a teenager.\")\n",
    "else:\n",
    "    print(\"You are a child.\")\n"
   ]
  },
  {
   "cell_type": "markdown",
   "id": "9ff0f99e",
   "metadata": {},
   "source": [
    "#### 2. Loops (Iteration) : Loops allow you to execute a block of code repeatedly."
   ]
  },
  {
   "cell_type": "markdown",
   "id": "2e8c3ed9",
   "metadata": {},
   "source": [
    "##### 2.1: for loop Used to iterate over a sequence (list, tuple, string, range, etc.)."
   ]
  },
  {
   "cell_type": "code",
   "execution_count": 4,
   "id": "5db5a6dc",
   "metadata": {},
   "outputs": [
    {
     "name": "stdout",
     "output_type": "stream",
     "text": [
      "Hello 0\n",
      "Hello 1\n",
      "Hello 2\n",
      "Pizza\n",
      "Burger\n",
      "Pasta\n"
     ]
    }
   ],
   "source": [
    "for i in range(3):\n",
    "    print(\"Hello\", i)\n",
    "\n",
    "# list\n",
    "menue = [\"Pizza\", \"Burger\", \"Pasta\"]\n",
    "for food in menue:\n",
    "    print(food)\n"
   ]
  },
  {
   "cell_type": "markdown",
   "id": "c43d89da",
   "metadata": {},
   "source": [
    "##### 2.2: while loop Executes as long as a condition is True."
   ]
  },
  {
   "cell_type": "code",
   "execution_count": 5,
   "id": "3475e6c4",
   "metadata": {},
   "outputs": [
    {
     "name": "stdout",
     "output_type": "stream",
     "text": [
      "Count is 0\n",
      "Count is 1\n",
      "Count is 2\n"
     ]
    }
   ],
   "source": [
    "count = 0\n",
    "while count < 3:\n",
    "    print(\"Count is\", count)\n",
    "    count += 1\n"
   ]
  }
 ],
 "metadata": {
  "kernelspec": {
   "display_name": "python_eda",
   "language": "python",
   "name": "python3"
  },
  "language_info": {
   "codemirror_mode": {
    "name": "ipython",
    "version": 3
   },
   "file_extension": ".py",
   "mimetype": "text/x-python",
   "name": "python",
   "nbconvert_exporter": "python",
   "pygments_lexer": "ipython3",
   "version": "3.13.5"
  }
 },
 "nbformat": 4,
 "nbformat_minor": 5
}
