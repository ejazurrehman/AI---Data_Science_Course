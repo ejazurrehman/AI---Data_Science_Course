{
 "cells": [
  {
   "cell_type": "markdown",
   "id": "d55efd77",
   "metadata": {},
   "source": [
    "# Author Info\n",
    "Name: **Ejaz-ur-Rehman**\\\n",
    "Business Unit Head | Data Analyst\\\n",
    "MBA (Accounting & Finance), MS (Finance), PhD (in progress)\\\n",
    "Crystal Tech (Project of MUZHAB Group)\n",
    "\n",
    "![Date](https://img.shields.io/badge/Date-23--Aug--2025-green?logo=google-calendar)\n",
    "[![Email](https://img.shields.io/badge/Email-ijazfinance%40gmail.com-blue?logo=gmail)](mailto:ijazfinance@gmail.com)\n",
    "[![LinkedIn](https://img.shields.io/badge/LinkedIn-Ejaz--ur--Rehman-blue?logo=linkedin)](https://www.linkedin.com/in/ejaz-ur-rehman/)\n",
    "[![GitHub](https://img.shields.io/badge/GitHub-ejazurrehman-black?logo=github)](https://github.com/ejazurrehman)\n",
    "\n"
   ]
  },
  {
   "cell_type": "markdown",
   "id": "13c38d87",
   "metadata": {},
   "source": [
    "## What is Feature Scaling?"
   ]
  },
  {
   "cell_type": "markdown",
   "id": "1cad1a52",
   "metadata": {},
   "source": [
    "Feature scaling is a data preprocessing technique used to bring all independent variables (features) into the same range, so that no single feature dominates the model due to its scale.\n",
    "\n",
    "Many machine learning algorithms (like KNN, SVM, Logistic Regression, Neural Networks, Gradient Descent) perform better when features are scaled because they rely on distance calculations or optimization convergence."
   ]
  },
  {
   "cell_type": "markdown",
   "id": "75abcf08",
   "metadata": {},
   "source": [
    "## Why do we need Feature Scaling?"
   ]
  },
  {
   "cell_type": "markdown",
   "id": "8e71b7d5",
   "metadata": {},
   "source": [
    "Example:\n",
    "- Feature 1: Age → range [0–100]\n",
    "- Feature 2: Salary → range [20,000–200,000]\n",
    "\n",
    "Without scaling, the model might think Salary is more important just because of its larger values, even though both features may contribute equally."
   ]
  },
  {
   "cell_type": "markdown",
   "id": "243ce645",
   "metadata": {},
   "source": [
    "## Common Methods of Feature Scaling"
   ]
  },
  {
   "cell_type": "markdown",
   "id": "e741ccca",
   "metadata": {},
   "source": [
    "1. Min-Max Normalization (Rescaling)\n",
    "- Brings values into a fixed range (usually [0, 1]).\n",
    "\n",
    "Formula:\n",
    "\n",
    "Xscaled​= Xmax​−Xmin / ​X−Xmin​"
   ]
  },
  {
   "cell_type": "code",
   "execution_count": 1,
   "id": "db1ab57b",
   "metadata": {},
   "outputs": [
    {
     "name": "stdout",
     "output_type": "stream",
     "text": [
      "        Age    Salary\n",
      "0  0.000000  0.000000\n",
      "1  0.166667  0.230769\n",
      "2  0.523810  0.615385\n",
      "3  1.000000  1.000000\n"
     ]
    }
   ],
   "source": [
    "from sklearn.preprocessing import MinMaxScaler\n",
    "import pandas as pd\n",
    "\n",
    "data = {'Age': [18, 25, 40, 60], 'Salary': [20000, 50000, 100000, 150000]}\n",
    "df = pd.DataFrame(data)\n",
    "\n",
    "scaler = MinMaxScaler()\n",
    "scaled = scaler.fit_transform(df)\n",
    "\n",
    "print(pd.DataFrame(scaled, columns=df.columns))\n"
   ]
  }
 ],
 "metadata": {
  "kernelspec": {
   "display_name": "python_eda",
   "language": "python",
   "name": "python3"
  },
  "language_info": {
   "codemirror_mode": {
    "name": "ipython",
    "version": 3
   },
   "file_extension": ".py",
   "mimetype": "text/x-python",
   "name": "python",
   "nbconvert_exporter": "python",
   "pygments_lexer": "ipython3",
   "version": "3.13.5"
  }
 },
 "nbformat": 4,
 "nbformat_minor": 5
}
