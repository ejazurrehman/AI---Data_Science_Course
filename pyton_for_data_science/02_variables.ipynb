{
 "cells": [
  {
   "cell_type": "markdown",
   "id": "114c8ac5",
   "metadata": {},
   "source": [
    "## Variables in Python"
   ]
  },
  {
   "cell_type": "markdown",
   "id": "e913dbcf",
   "metadata": {},
   "source": [
    "Variables are not always independent. In many cases, the value of one variable is dependent on the value of another variable. For example, if we know the value of the variable \"temperature\" in a given location , we can infer the value of the variable \"ice formation\" in that location. In this case , the variable \"ice formation\" is dependent on the variable \"temperature\". This is an example of a dependent variable."
   ]
  }
 ],
 "metadata": {
  "language_info": {
   "name": "python"
  }
 },
 "nbformat": 4,
 "nbformat_minor": 5
}
