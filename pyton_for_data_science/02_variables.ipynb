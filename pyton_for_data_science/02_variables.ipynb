{
 "cells": [
  {
   "cell_type": "markdown",
   "id": "794d70f3",
   "metadata": {},
   "source": [
    "# Author Info\n",
    "Name: **Ejaz-ur-Rehman**\\\n",
    "Business Unit Head | Data Analyst\\\n",
    "MBA (Accounting & Finance), MS (Finance)\\\n",
    "Crystal Tech (Project of MUZHAB Group)\\\n",
    "Karachi, Pakistan\n",
    "\n",
    "![Date](https://img.shields.io/badge/Date-16--Aug--2025-green?logo=google-calendar)\n",
    "[![Email](https://img.shields.io/badge/Email-ijazfinance%40gmail.com-blue?logo=gmail)](mailto:ijazfinance@gmail.com)\n",
    "[![LinkedIn](https://img.shields.io/badge/LinkedIn-Ejaz--ur--Rehman-blue?logo=linkedin)](https://www.linkedin.com/in/ejaz-ur-rehman/)\n",
    "[![GitHub](https://img.shields.io/badge/GitHub-ejazurrehman-black?logo=github)](https://github.com/ejazurrehman)"
   ]
  },
  {
   "cell_type": "markdown",
   "id": "114c8ac5",
   "metadata": {},
   "source": [
    "## Variables in Python"
   ]
  },
  {
   "cell_type": "markdown",
   "id": "e913dbcf",
   "metadata": {},
   "source": [
    "What is Variable: is a named storage location in memory that holds a value, which can be changed during the program's execution."
   ]
  },
  {
   "cell_type": "markdown",
   "id": "ef89aec5",
   "metadata": {},
   "source": [
    "### Why need variables:\n",
    "- to perform calculations\n",
    "- to import the data and name the data"
   ]
  },
  {
   "cell_type": "markdown",
   "id": "af4da975",
   "metadata": {},
   "source": [
    "### Usage of Variables:\n",
    "- always use small letters for it\n",
    "- do not use space in between them\n",
    "- do not use special characters with it\n",
    "- do not use function as a name for it, like print or key words\n",
    "- do not use capital letters in side the name, like dAtA\n",
    "- do not use the numbers in the bigining of the name , like 1name and not in middle too , like nam3e. use it at the end if you must, like name1\n",
    "- use the short name and descriptive\n",
    "  "
   ]
  },
  {
   "cell_type": "markdown",
   "id": "943ab76c",
   "metadata": {},
   "source": [
    "### Types of Variables:"
   ]
  },
  {
   "cell_type": "markdown",
   "id": "34003fda",
   "metadata": {},
   "source": [
    "### 1. Numeric Variables (Integers and Floats)"
   ]
  },
  {
   "cell_type": "code",
   "execution_count": 1,
   "id": "a00767de",
   "metadata": {},
   "outputs": [
    {
     "name": "stdout",
     "output_type": "stream",
     "text": [
      "Age: 25\n",
      "Price: 19.99\n"
     ]
    }
   ],
   "source": [
    "# Integer variable\n",
    "age = 25\n",
    "print(\"Age:\", age)\n",
    "\n",
    "# Float variable\n",
    "price = 19.99\n",
    "print(\"Price:\", price)\n"
   ]
  },
  {
   "cell_type": "markdown",
   "id": "bd59e8ea",
   "metadata": {},
   "source": [
    "### 2. String Variables"
   ]
  },
  {
   "cell_type": "code",
   "execution_count": 2,
   "id": "a81925c7",
   "metadata": {},
   "outputs": [
    {
     "name": "stdout",
     "output_type": "stream",
     "text": [
      "Hello, Ejaz\n"
     ]
    }
   ],
   "source": [
    "# String variable\n",
    "name = \"Ejaz\"\n",
    "greeting = \"Hello, \" + name\n",
    "print(greeting)\n"
   ]
  },
  {
   "cell_type": "markdown",
   "id": "6a41c063",
   "metadata": {},
   "source": [
    "### 3. Boolean Variables"
   ]
  },
  {
   "cell_type": "code",
   "execution_count": 3,
   "id": "bbfe9017",
   "metadata": {},
   "outputs": [
    {
     "name": "stdout",
     "output_type": "stream",
     "text": [
      "Is student? True\n",
      "Has passed? False\n"
     ]
    }
   ],
   "source": [
    "# Boolean variable\n",
    "is_student = True\n",
    "has_passed = False\n",
    "print(\"Is student?\", is_student)\n",
    "print(\"Has passed?\", has_passed)\n"
   ]
  },
  {
   "cell_type": "markdown",
   "id": "729935bc",
   "metadata": {},
   "source": [
    "### 4. List Variable"
   ]
  },
  {
   "cell_type": "code",
   "execution_count": 4,
   "id": "4a1f506b",
   "metadata": {},
   "outputs": [
    {
     "name": "stdout",
     "output_type": "stream",
     "text": [
      "Fruits: ['apple', 'banana', 'cherry']\n"
     ]
    }
   ],
   "source": [
    "# List variable\n",
    "fruits = [\"apple\", \"banana\", \"cherry\"]\n",
    "print(\"Fruits:\", fruits)\n"
   ]
  },
  {
   "cell_type": "markdown",
   "id": "7afbdb3e",
   "metadata": {},
   "source": [
    "### 5. Dictionary Variable"
   ]
  },
  {
   "cell_type": "code",
   "execution_count": 5,
   "id": "1561fe24",
   "metadata": {},
   "outputs": [
    {
     "name": "stdout",
     "output_type": "stream",
     "text": [
      "Student Name: Ali\n"
     ]
    }
   ],
   "source": [
    "# Dictionary variable\n",
    "student = {\"name\": \"Ali\", \"age\": 20, \"grade\": \"A\"}\n",
    "print(\"Student Name:\", student[\"name\"])\n"
   ]
  },
  {
   "cell_type": "markdown",
   "id": "d659fcf0",
   "metadata": {},
   "source": [
    "### 6. Tuple: A tuple in Python is an ordered, immutable collection of items.\n",
    "\n",
    "- That means:\n",
    "  - Ordered → The items have a fixed sequence, and that order is preserved.\n",
    "  - Immutable → Once created, you cannot change, add, or remove items.\n",
    "  - Can store multiple data types → Integers, strings, lists, even other tuples."
   ]
  },
  {
   "cell_type": "code",
   "execution_count": 11,
   "id": "73d66a96",
   "metadata": {},
   "outputs": [
    {
     "name": "stdout",
     "output_type": "stream",
     "text": [
      "('apple', 'banana', 'cherry')\n"
     ]
    }
   ],
   "source": [
    "# Creating a tuple\n",
    "fruits = (\"apple\", \"banana\", \"cherry\")\n",
    "print(fruits)\n"
   ]
  },
  {
   "cell_type": "markdown",
   "id": "1bbfb047",
   "metadata": {},
   "source": [
    "Multiple Variables in One Line"
   ]
  },
  {
   "cell_type": "code",
   "execution_count": 6,
   "id": "a8e4e26c",
   "metadata": {},
   "outputs": [
    {
     "name": "stdout",
     "output_type": "stream",
     "text": [
      "10 20 30\n"
     ]
    }
   ],
   "source": [
    "x, y, z = 10, 20, 30\n",
    "print(x, y, z)\n"
   ]
  },
  {
   "cell_type": "markdown",
   "id": "70b23c62",
   "metadata": {},
   "source": [
    "### Changing Variable Values: Variables in Python are mutable, meaning you can change their values anytime."
   ]
  },
  {
   "cell_type": "code",
   "execution_count": 7,
   "id": "237c907a",
   "metadata": {},
   "outputs": [
    {
     "name": "stdout",
     "output_type": "stream",
     "text": [
      "Initial Score: 50\n",
      "Updated Score: 75\n"
     ]
    }
   ],
   "source": [
    "# Initial value\n",
    "score = 50\n",
    "print(\"Initial Score:\", score)\n",
    "\n",
    "# Changing value\n",
    "score = 75\n",
    "print(\"Updated Score:\", score)\n"
   ]
  },
  {
   "cell_type": "markdown",
   "id": "42c7cf69",
   "metadata": {},
   "source": [
    "### Dynamic Typing: Python is dynamically typed, which means a variable can hold different types at different times."
   ]
  },
  {
   "cell_type": "code",
   "execution_count": 8,
   "id": "531c8196",
   "metadata": {},
   "outputs": [
    {
     "name": "stdout",
     "output_type": "stream",
     "text": [
      "100 <class 'int'>\n",
      "Python <class 'str'>\n",
      "3.14 <class 'float'>\n"
     ]
    }
   ],
   "source": [
    "data = 100       # integer\n",
    "print(data, type(data))\n",
    "\n",
    "data = \"Python\"  # string\n",
    "print(data, type(data))\n",
    "\n",
    "data = 3.14      # float\n",
    "print(data, type(data))\n"
   ]
  },
  {
   "cell_type": "markdown",
   "id": "c1c7f872",
   "metadata": {},
   "source": [
    "### Type Conversion: You can convert variables from one type to another using functions like int(), float(), and str()."
   ]
  },
  {
   "cell_type": "code",
   "execution_count": 9,
   "id": "97f452d3",
   "metadata": {},
   "outputs": [
    {
     "name": "stdout",
     "output_type": "stream",
     "text": [
      "10.0 <class 'float'>\n",
      "25 <class 'int'>\n",
      "30 <class 'str'>\n"
     ]
    }
   ],
   "source": [
    "# Integer to float\n",
    "num = 10\n",
    "num_float = float(num)\n",
    "print(num_float, type(num_float))\n",
    "\n",
    "# String to integer\n",
    "str_num = \"25\"\n",
    "num_int = int(str_num)\n",
    "print(num_int, type(num_int))\n",
    "\n",
    "# Number to string\n",
    "age = 30\n",
    "age_str = str(age)\n",
    "print(age_str, type(age_str))\n"
   ]
  },
  {
   "cell_type": "markdown",
   "id": "274ecdf1",
   "metadata": {},
   "source": [
    "### Using Variables in Expressions"
   ]
  },
  {
   "cell_type": "code",
   "execution_count": 10,
   "id": "309b6a72",
   "metadata": {},
   "outputs": [
    {
     "name": "stdout",
     "output_type": "stream",
     "text": [
      "Sum: 7\n",
      "Product: 10\n"
     ]
    }
   ],
   "source": [
    "a = 5\n",
    "b = 2\n",
    "sum_result = a + b\n",
    "product = a * b\n",
    "print(\"Sum:\", sum_result)\n",
    "print(\"Product:\", product)\n"
   ]
  }
 ],
 "metadata": {
  "kernelspec": {
   "display_name": "python_eda",
   "language": "python",
   "name": "python3"
  },
  "language_info": {
   "codemirror_mode": {
    "name": "ipython",
    "version": 3
   },
   "file_extension": ".py",
   "mimetype": "text/x-python",
   "name": "python",
   "nbconvert_exporter": "python",
   "pygments_lexer": "ipython3",
   "version": "3.13.5"
  }
 },
 "nbformat": 4,
 "nbformat_minor": 5
}
