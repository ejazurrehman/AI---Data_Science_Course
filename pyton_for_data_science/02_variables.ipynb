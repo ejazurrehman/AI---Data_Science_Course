{
 "cells": [
  {
   "cell_type": "markdown",
   "id": "114c8ac5",
   "metadata": {},
   "source": [
    "## Variables in Python"
   ]
  },
  {
   "cell_type": "markdown",
   "id": "e913dbcf",
   "metadata": {},
   "source": [
    "Variables are not always independent. In many cases, the value of one variable is dependent on the value of another variable. For example, if we know the value of the variable \"temperature\" in a given location , we can infer the value of the variable \"ice formation\" in that location. In this case , the variable \"ice formation\" is dependent on the variable \"temperature\". This is an example of a dependent variable."
   ]
  },
  {
   "cell_type": "markdown",
   "id": "ef89aec5",
   "metadata": {},
   "source": [
    "### Why need variiables:\n",
    "- to perform calculations\n",
    "- to import the data and name the data"
   ]
  },
  {
   "cell_type": "markdown",
   "id": "af4da975",
   "metadata": {},
   "source": [
    "### Usage of Variables:\n",
    "- always use small letters for it\n",
    "- do not use space in between them\n",
    "- do not use special characters with it\n",
    "- do not use function as a name for it, like print or key words\n",
    "- do not use capital letters in side the name, like dAtA\n",
    "- do not use the numbers in the bigining of the name , like 1name and not in middle too , like nam3e. use it at the end if you must, like name1\n",
    "- use the short name and descriptive\n",
    "  "
   ]
  }
 ],
 "metadata": {
  "language_info": {
   "name": "python"
  }
 },
 "nbformat": 4,
 "nbformat_minor": 5
}
