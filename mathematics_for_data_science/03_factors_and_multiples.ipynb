{
 "cells": [
  {
   "cell_type": "markdown",
   "id": "6bab647e",
   "metadata": {},
   "source": [
    "# Author Info\n",
    "---\n",
    "Name: **Ejaz-ur-Rehman**\\\n",
    "Business Unit Head | Data Analyst\\\n",
    "MBA (Accounting & Finance), MS (Finance)\\\n",
    "Crystal Tech (Project of MUZHAB Group)\\\n",
    "Karachi, Pakistan\n",
    "\n",
    "![Date](https://img.shields.io/badge/Date-26--Aug--2025-green?logo=google-calendar)\n",
    "[![Email](https://img.shields.io/badge/Email-ijazfinance%40gmail.com-blue?logo=gmail)](mailto:ijazfinance@gmail.com)\n",
    "[![LinkedIn](https://img.shields.io/badge/LinkedIn-Ejaz--ur--Rehman-blue?logo=linkedin)](https://www.linkedin.com/in/ejaz-ur-rehman/)\n",
    "[![GitHub](https://img.shields.io/badge/GitHub-ejazurrehman-black?logo=github)](https://github.com/ejazurrehman)"
   ]
  },
  {
   "cell_type": "markdown",
   "id": "5cea3f8d",
   "metadata": {},
   "source": [
    "# Factors and Multiples in Data Science\n",
    "- factors and multiples seem like basic school-level math (e.g., factors of 12 are 1, 2, 3, 4, 6, 12). But in data science, these concepts play useful roles in algorithms, optimization, cryptography, and computation efficiency.\n",
    "---\n",
    "### 1. Cryptography & Data Security (Number Theory Application):\n",
    "- Modern encryption methods (RSA, ECC) rely on the difficulty of factoring very large numbers.\n",
    "- Factors: Hard to compute for huge numbers → forms the basis of encryption strength.\n",
    "- Multiples: Used in modular arithmetic for encryption/decryption.\n",
    "- Example: RSA encryption works because factoring a product of two large primes is computationally difficult.\n",
    "### 2. Data Partitioning & Batch Processing:\n",
    "- When dividing large datasets for parallel processing, factors help split data into equal parts.\n",
    "- Multiples help in deciding batch sizes or window sizes for data processing.\n",
    "- Example: If you have 1,000,000 rows, choosing a batch size of 2,500 (a factor) makes it easier to divide the dataset evenly across processors.\n",
    "### 3. Hashing & Indexing in Databases:\n",
    "- Hash functions often use modulo operations (related to multiples and factors).\n",
    "- A prime factor as the modulo base improves data distribution in hash tables.\n",
    "- Example: A hash table with size 101 (a prime number) avoids clustering and distributes data more evenly than size 100.\n",
    "### 4. Fourier Transform & Signal Processing:\n",
    "- Data science (especially in image/audio analysis) uses Fourier transforms.\n",
    "- Factors of sequence length (e.g., powers of 2) determine how efficiently FFT (Fast Fourier Transform) runs.\n",
    "- Example: An FFT runs fastest when the data length is a multiple of 2 (like 256, 512, 1024).\n",
    "### 5. Optimization Problems:\n",
    "- Some data science problems (scheduling, supply chain, resource allocation) use Least Common Multiple (LCM) or Greatest Common Factor (GCF) for optimization.\n",
    "- Example: If two machines run on cycles of 12 minutes and 18 minutes, LCM = 36 → tells when both will be free together, useful in production scheduling.\n",
    "### 6. Random Number Generation & Sampling:\n",
    "- Many random number generators rely on modulus arithmetic.\n",
    "- Choosing good factors/multiples prevents repetitive cycles.\n",
    "- Example: Linear Congruential Generator (LCG)."
   ]
  },
  {
   "cell_type": "markdown",
   "id": "42dab295",
   "metadata": {},
   "source": [
    "## 1. Data Partitioning Using Factors:\n",
    "- Imagine we have a dataset with 1,200,000 records and we want to split it evenly across GPUs or processors."
   ]
  },
  {
   "cell_type": "code",
   "execution_count": 1,
   "id": "e3e74668",
   "metadata": {},
   "outputs": [
    {
     "name": "stdout",
     "output_type": "stream",
     "text": [
      "Factors of 1,200,000 (possible equal splits):\n",
      "[1, 2, 3, 4, 5, 6, 8, 10, 12, 15, 16, 20, 24, 25, 30, 32, 40, 48, 50, 60] ...\n"
     ]
    }
   ],
   "source": [
    "import math\n",
    "\n",
    "# total records\n",
    "records = 1200000\n",
    "\n",
    "# find factors of the dataset size\n",
    "def find_factors(n):\n",
    "    return [i for i in range(1, n+1) if n % i == 0]\n",
    "\n",
    "factors = find_factors(records)\n",
    "\n",
    "print(\"Factors of 1,200,000 (possible equal splits):\")\n",
    "print(factors[:20], \"...\")  # print first 20 factors\n"
   ]
  },
  {
   "cell_type": "markdown",
   "id": "4efceca6",
   "metadata": {},
   "source": [
    "**Use case:** You might pick 24, 48, or 96 as batch sizes (since they divide evenly into 1,200,000)."
   ]
  }
 ],
 "metadata": {
  "kernelspec": {
   "display_name": "python_eda",
   "language": "python",
   "name": "python3"
  },
  "language_info": {
   "codemirror_mode": {
    "name": "ipython",
    "version": 3
   },
   "file_extension": ".py",
   "mimetype": "text/x-python",
   "name": "python",
   "nbconvert_exporter": "python",
   "pygments_lexer": "ipython3",
   "version": "3.13.5"
  }
 },
 "nbformat": 4,
 "nbformat_minor": 5
}
